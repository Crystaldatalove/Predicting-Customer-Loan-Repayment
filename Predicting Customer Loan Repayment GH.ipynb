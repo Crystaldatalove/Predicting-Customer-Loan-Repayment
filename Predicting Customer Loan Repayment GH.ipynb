{
 "cells": [
  {
   "cell_type": "markdown",
   "metadata": {},
   "source": [
    "# Data Preparation"
   ]
  },
  {
   "cell_type": "markdown",
   "metadata": {},
   "source": [
    "*Loading traning dataset"
   ]
  },
  {
   "cell_type": "code",
   "execution_count": 1,
   "metadata": {
    "collapsed": false
   },
   "outputs": [
    {
     "name": "stderr",
     "output_type": "stream",
     "text": [
      "//anaconda/envs/python2/lib/python2.7/site-packages/IPython/core/interactiveshell.py:2717: DtypeWarning: Columns (16) have mixed types. Specify dtype option on import or set low_memory=False.\n",
      "  interactivity=interactivity, compiler=compiler, result=result)\n"
     ]
    },
    {
     "data": {
      "text/html": [
       "<div>\n",
       "<table border=\"1\" class=\"dataframe\">\n",
       "  <thead>\n",
       "    <tr style=\"text-align: right;\">\n",
       "      <th></th>\n",
       "      <th>Loan ID</th>\n",
       "      <th>Customer ID</th>\n",
       "      <th>Loan Status</th>\n",
       "      <th>Current Loan Amount</th>\n",
       "      <th>Term</th>\n",
       "      <th>Credit Score</th>\n",
       "      <th>Years in current job</th>\n",
       "      <th>Home Ownership</th>\n",
       "      <th>Annual Income</th>\n",
       "      <th>Purpose</th>\n",
       "      <th>Monthly Debt</th>\n",
       "      <th>Years of Credit History</th>\n",
       "      <th>Months since last delinquent</th>\n",
       "      <th>Number of Open Accounts</th>\n",
       "      <th>Number of Credit Problems</th>\n",
       "      <th>Current Credit Balance</th>\n",
       "      <th>Maximum Open Credit</th>\n",
       "      <th>Bankruptcies</th>\n",
       "      <th>Tax Liens</th>\n",
       "    </tr>\n",
       "  </thead>\n",
       "  <tbody>\n",
       "    <tr>\n",
       "      <th>0</th>\n",
       "      <td>000025bb-5694-4cff-b17d-192b1a98ba44</td>\n",
       "      <td>5ebc8bb1-5eb9-4404-b11b-a6eebc401a19</td>\n",
       "      <td>Fully Paid</td>\n",
       "      <td>11520</td>\n",
       "      <td>Short Term</td>\n",
       "      <td>741.0</td>\n",
       "      <td>10+ years</td>\n",
       "      <td>Home Mortgage</td>\n",
       "      <td>33694.0</td>\n",
       "      <td>Debt Consolidation</td>\n",
       "      <td>$584.03</td>\n",
       "      <td>12.3</td>\n",
       "      <td>41.0</td>\n",
       "      <td>10</td>\n",
       "      <td>0</td>\n",
       "      <td>6760</td>\n",
       "      <td>16056</td>\n",
       "      <td>0.0</td>\n",
       "      <td>0.0</td>\n",
       "    </tr>\n",
       "    <tr>\n",
       "      <th>1</th>\n",
       "      <td>00002c49-3a29-4bd4-8f67-c8f8fbc1048c</td>\n",
       "      <td>927b388d-2e01-423f-a8dc-f7e42d668f46</td>\n",
       "      <td>Fully Paid</td>\n",
       "      <td>3441</td>\n",
       "      <td>Short Term</td>\n",
       "      <td>734.0</td>\n",
       "      <td>4 years</td>\n",
       "      <td>Home Mortgage</td>\n",
       "      <td>42269.0</td>\n",
       "      <td>other</td>\n",
       "      <td>$1,106.04</td>\n",
       "      <td>26.3</td>\n",
       "      <td>NaN</td>\n",
       "      <td>17</td>\n",
       "      <td>0</td>\n",
       "      <td>6262</td>\n",
       "      <td>19149</td>\n",
       "      <td>0.0</td>\n",
       "      <td>0.0</td>\n",
       "    </tr>\n",
       "    <tr>\n",
       "      <th>2</th>\n",
       "      <td>00002d89-27f3-409b-aa76-90834f359a65</td>\n",
       "      <td>defce609-c631-447d-aad6-1270615e89c4</td>\n",
       "      <td>Fully Paid</td>\n",
       "      <td>21029</td>\n",
       "      <td>Short Term</td>\n",
       "      <td>747.0</td>\n",
       "      <td>10+ years</td>\n",
       "      <td>Home Mortgage</td>\n",
       "      <td>90126.0</td>\n",
       "      <td>Debt Consolidation</td>\n",
       "      <td>$1,321.85</td>\n",
       "      <td>28.8</td>\n",
       "      <td>NaN</td>\n",
       "      <td>5</td>\n",
       "      <td>0</td>\n",
       "      <td>20967</td>\n",
       "      <td>28335</td>\n",
       "      <td>0.0</td>\n",
       "      <td>0.0</td>\n",
       "    </tr>\n",
       "    <tr>\n",
       "      <th>3</th>\n",
       "      <td>00005222-b4d8-45a4-ad8c-186057e24233</td>\n",
       "      <td>070bcecb-aae7-4485-a26a-e0403e7bb6c5</td>\n",
       "      <td>Fully Paid</td>\n",
       "      <td>18743</td>\n",
       "      <td>Short Term</td>\n",
       "      <td>747.0</td>\n",
       "      <td>10+ years</td>\n",
       "      <td>Own Home</td>\n",
       "      <td>38072.0</td>\n",
       "      <td>Debt Consolidation</td>\n",
       "      <td>$751.92</td>\n",
       "      <td>26.2</td>\n",
       "      <td>NaN</td>\n",
       "      <td>9</td>\n",
       "      <td>0</td>\n",
       "      <td>22529</td>\n",
       "      <td>43915</td>\n",
       "      <td>0.0</td>\n",
       "      <td>0.0</td>\n",
       "    </tr>\n",
       "    <tr>\n",
       "      <th>4</th>\n",
       "      <td>0000757f-a121-41ed-b17b-162e76647c1f</td>\n",
       "      <td>dde79588-12f0-4811-bab0-e2b07f633fcd</td>\n",
       "      <td>Fully Paid</td>\n",
       "      <td>11731</td>\n",
       "      <td>Short Term</td>\n",
       "      <td>746.0</td>\n",
       "      <td>4 years</td>\n",
       "      <td>Rent</td>\n",
       "      <td>50025.0</td>\n",
       "      <td>Debt Consolidation</td>\n",
       "      <td>$355.18</td>\n",
       "      <td>11.5</td>\n",
       "      <td>NaN</td>\n",
       "      <td>12</td>\n",
       "      <td>0</td>\n",
       "      <td>17391</td>\n",
       "      <td>37081</td>\n",
       "      <td>0.0</td>\n",
       "      <td>0.0</td>\n",
       "    </tr>\n",
       "  </tbody>\n",
       "</table>\n",
       "</div>"
      ],
      "text/plain": [
       "                                Loan ID                           Customer ID  \\\n",
       "0  000025bb-5694-4cff-b17d-192b1a98ba44  5ebc8bb1-5eb9-4404-b11b-a6eebc401a19   \n",
       "1  00002c49-3a29-4bd4-8f67-c8f8fbc1048c  927b388d-2e01-423f-a8dc-f7e42d668f46   \n",
       "2  00002d89-27f3-409b-aa76-90834f359a65  defce609-c631-447d-aad6-1270615e89c4   \n",
       "3  00005222-b4d8-45a4-ad8c-186057e24233  070bcecb-aae7-4485-a26a-e0403e7bb6c5   \n",
       "4  0000757f-a121-41ed-b17b-162e76647c1f  dde79588-12f0-4811-bab0-e2b07f633fcd   \n",
       "\n",
       "  Loan Status  Current Loan Amount        Term  Credit Score  \\\n",
       "0  Fully Paid                11520  Short Term         741.0   \n",
       "1  Fully Paid                 3441  Short Term         734.0   \n",
       "2  Fully Paid                21029  Short Term         747.0   \n",
       "3  Fully Paid                18743  Short Term         747.0   \n",
       "4  Fully Paid                11731  Short Term         746.0   \n",
       "\n",
       "  Years in current job Home Ownership  Annual Income             Purpose  \\\n",
       "0            10+ years  Home Mortgage        33694.0  Debt Consolidation   \n",
       "1              4 years  Home Mortgage        42269.0               other   \n",
       "2            10+ years  Home Mortgage        90126.0  Debt Consolidation   \n",
       "3            10+ years       Own Home        38072.0  Debt Consolidation   \n",
       "4              4 years           Rent        50025.0  Debt Consolidation   \n",
       "\n",
       "  Monthly Debt  Years of Credit History  Months since last delinquent  \\\n",
       "0      $584.03                     12.3                          41.0   \n",
       "1   $1,106.04                      26.3                           NaN   \n",
       "2   $1,321.85                      28.8                           NaN   \n",
       "3      $751.92                     26.2                           NaN   \n",
       "4      $355.18                     11.5                           NaN   \n",
       "\n",
       "   Number of Open Accounts  Number of Credit Problems  Current Credit Balance  \\\n",
       "0                       10                          0                    6760   \n",
       "1                       17                          0                    6262   \n",
       "2                        5                          0                   20967   \n",
       "3                        9                          0                   22529   \n",
       "4                       12                          0                   17391   \n",
       "\n",
       "  Maximum Open Credit  Bankruptcies  Tax Liens  \n",
       "0               16056           0.0        0.0  \n",
       "1               19149           0.0        0.0  \n",
       "2               28335           0.0        0.0  \n",
       "3               43915           0.0        0.0  \n",
       "4               37081           0.0        0.0  "
      ]
     },
     "execution_count": 1,
     "metadata": {},
     "output_type": "execute_result"
    }
   ],
   "source": [
    "import pandas as pd\n",
    "import numpy as np \n",
    "\n",
    "data = pd.read_csv('LoansTrainingSet.csv')\n",
    "data.head()"
   ]
  },
  {
   "cell_type": "code",
   "execution_count": 2,
   "metadata": {
    "collapsed": false,
    "scrolled": true
   },
   "outputs": [
    {
     "name": "stdout",
     "output_type": "stream",
     "text": [
      "<class 'pandas.core.frame.DataFrame'>\n",
      "RangeIndex: 256984 entries, 0 to 256983\n",
      "Data columns (total 19 columns):\n",
      "Loan ID                         256984 non-null object\n",
      "Customer ID                     256984 non-null object\n",
      "Loan Status                     256984 non-null object\n",
      "Current Loan Amount             256984 non-null int64\n",
      "Term                            256984 non-null object\n",
      "Credit Score                    195308 non-null float64\n",
      "Years in current job            256984 non-null object\n",
      "Home Ownership                  256984 non-null object\n",
      "Annual Income                   195308 non-null float64\n",
      "Purpose                         256984 non-null object\n",
      "Monthly Debt                    256984 non-null object\n",
      "Years of Credit History         256984 non-null float64\n",
      "Months since last delinquent    116601 non-null float64\n",
      "Number of Open Accounts         256984 non-null int64\n",
      "Number of Credit Problems       256984 non-null int64\n",
      "Current Credit Balance          256984 non-null int64\n",
      "Maximum Open Credit             256984 non-null object\n",
      "Bankruptcies                    256455 non-null float64\n",
      "Tax Liens                       256961 non-null float64\n",
      "dtypes: float64(6), int64(4), object(9)\n",
      "memory usage: 37.3+ MB\n"
     ]
    }
   ],
   "source": [
    "data.info()"
   ]
  },
  {
   "cell_type": "markdown",
   "metadata": {},
   "source": [
    "*As we can see from above, we have problems with some missing values & data types"
   ]
  },
  {
   "cell_type": "markdown",
   "metadata": {},
   "source": [
    "*Let's take a look at \"Current Loan Amount\" Column"
   ]
  },
  {
   "cell_type": "code",
   "execution_count": 3,
   "metadata": {
    "collapsed": false
   },
   "outputs": [
    {
     "data": {
      "text/plain": [
       "(99999999, 505, 13713306.260237992)"
      ]
     },
     "execution_count": 3,
     "metadata": {},
     "output_type": "execute_result"
    }
   ],
   "source": [
    "data['Current Loan Amount'].max(), data['Current Loan Amount'].min(),data['Current Loan Amount'].mean()"
   ]
  },
  {
   "cell_type": "markdown",
   "metadata": {},
   "source": [
    "*Selecting the rows of \"Current Loan Amount\" is lesser than 99999999"
   ]
  },
  {
   "cell_type": "code",
   "execution_count": 4,
   "metadata": {
    "collapsed": false
   },
   "outputs": [],
   "source": [
    "data = data[(data['Current Loan Amount'] < 99999999)]"
   ]
  },
  {
   "cell_type": "code",
   "execution_count": 5,
   "metadata": {
    "collapsed": false
   },
   "outputs": [
    {
     "data": {
      "text/plain": [
       "count    221774.000000\n",
       "mean      13979.687389\n",
       "std        8260.519207\n",
       "min         505.000000\n",
       "25%        7819.000000\n",
       "50%       12058.000000\n",
       "75%       19438.750000\n",
       "max       41000.000000\n",
       "Name: Current Loan Amount, dtype: float64"
      ]
     },
     "execution_count": 5,
     "metadata": {},
     "output_type": "execute_result"
    }
   ],
   "source": [
    "data['Current Loan Amount'].describe()"
   ]
  },
  {
   "cell_type": "markdown",
   "metadata": {},
   "source": [
    "*Now, in \"Current Loan Amount\" column, the mean value is 13979.69 and median value is 12058.00"
   ]
  },
  {
   "cell_type": "markdown",
   "metadata": {},
   "source": [
    "*Looking at unique values of \"Years in current job\", \"Home Ownership\", and \"Purpose\" columns"
   ]
  },
  {
   "cell_type": "code",
   "execution_count": 6,
   "metadata": {
    "collapsed": false
   },
   "outputs": [
    {
     "data": {
      "text/plain": [
       "array(['10+ years', '4 years', '6 years', '5 years', 'n/a', '2 years',\n",
       "       '< 1 year', '3 years', '1 year', '7 years', '9 years', '8 years'], dtype=object)"
      ]
     },
     "execution_count": 6,
     "metadata": {},
     "output_type": "execute_result"
    }
   ],
   "source": [
    "data['Years in current job'].unique()"
   ]
  },
  {
   "cell_type": "code",
   "execution_count": 7,
   "metadata": {
    "collapsed": false
   },
   "outputs": [
    {
     "data": {
      "text/plain": [
       "array(['Home Mortgage', 'Own Home', 'Rent', 'HaveMortgage'], dtype=object)"
      ]
     },
     "execution_count": 7,
     "metadata": {},
     "output_type": "execute_result"
    }
   ],
   "source": [
    "data['Home Ownership'].unique()"
   ]
  },
  {
   "cell_type": "code",
   "execution_count": 8,
   "metadata": {
    "collapsed": false
   },
   "outputs": [
    {
     "data": {
      "text/plain": [
       "array(['Debt Consolidation', 'other', 'Business Loan', 'Home Improvements',\n",
       "       'Buy House', 'Other', 'Buy a Car', 'Medical Bills', 'Take a Trip',\n",
       "       'Educational Expenses'], dtype=object)"
      ]
     },
     "execution_count": 8,
     "metadata": {},
     "output_type": "execute_result"
    }
   ],
   "source": [
    "data['Purpose'].unique()"
   ]
  },
  {
   "cell_type": "markdown",
   "metadata": {},
   "source": [
    "# Data Problems"
   ]
  },
  {
   "cell_type": "markdown",
   "metadata": {},
   "source": [
    "1. Missing values: \n",
    " credit score (has nan), Annual Income, Months since last delinquent (has nan), Bankruptcies (has nan), Tax Liens (has nan)\n",
    "    \n",
    "2. Spelling differences & punctuation format\n",
    " Years in current job: delete years, 10+, <1, n/a;   \n",
    " Home Ownership: Home Mortgage == HaveMortgage;\n",
    " Purpose: Other == other;\n",
    " Monthly Debt: delete $ ;  \n",
    " Maximum Open Credit: why is it Object? ;\n",
    " Years of Credit History: decimal 1 place\n",
    "\n",
    "3. Duplicates rows\n",
    "\n",
    "4. Some of Credit scores are too high, have to devide by 10\n",
    "\n",
    "5. Current Loan Amount: too high 9999999 compared to their annual income\n",
    "\n",
    "6. Data types:\n",
    " convert Credit Score - float64 to int64;\n",
    " convert Monthly Debt, Maximum Open Credit - object to float64"
   ]
  },
  {
   "cell_type": "markdown",
   "metadata": {},
   "source": [
    "1. missing values: credit score (has nan)"
   ]
  },
  {
   "cell_type": "code",
   "execution_count": 9,
   "metadata": {
    "collapsed": false
   },
   "outputs": [
    {
     "data": {
      "text/html": [
       "<div>\n",
       "<table border=\"1\" class=\"dataframe\">\n",
       "  <thead>\n",
       "    <tr style=\"text-align: right;\">\n",
       "      <th></th>\n",
       "      <th>Loan ID</th>\n",
       "      <th>Customer ID</th>\n",
       "      <th>Loan Status</th>\n",
       "      <th>Current Loan Amount</th>\n",
       "      <th>Term</th>\n",
       "      <th>Credit Score</th>\n",
       "      <th>Years in current job</th>\n",
       "      <th>Home Ownership</th>\n",
       "      <th>Annual Income</th>\n",
       "      <th>Purpose</th>\n",
       "      <th>Monthly Debt</th>\n",
       "      <th>Years of Credit History</th>\n",
       "      <th>Months since last delinquent</th>\n",
       "      <th>Number of Open Accounts</th>\n",
       "      <th>Number of Credit Problems</th>\n",
       "      <th>Current Credit Balance</th>\n",
       "      <th>Maximum Open Credit</th>\n",
       "      <th>Bankruptcies</th>\n",
       "      <th>Tax Liens</th>\n",
       "    </tr>\n",
       "  </thead>\n",
       "  <tbody>\n",
       "    <tr>\n",
       "      <th>7</th>\n",
       "      <td>0000afa6-8902-4f8f-b870-25a8fdad0aeb</td>\n",
       "      <td>e49c1a82-a0f7-45e8-9f46-2f75c43f9fbc</td>\n",
       "      <td>Charged Off</td>\n",
       "      <td>24613</td>\n",
       "      <td>Long Term</td>\n",
       "      <td>NaN</td>\n",
       "      <td>6 years</td>\n",
       "      <td>Rent</td>\n",
       "      <td>NaN</td>\n",
       "      <td>Business Loan</td>\n",
       "      <td>$542.29</td>\n",
       "      <td>17.6</td>\n",
       "      <td>73.0</td>\n",
       "      <td>7</td>\n",
       "      <td>0</td>\n",
       "      <td>14123</td>\n",
       "      <td>16954</td>\n",
       "      <td>0.0</td>\n",
       "      <td>0.0</td>\n",
       "    </tr>\n",
       "    <tr>\n",
       "      <th>8</th>\n",
       "      <td>00011dfc-31c1-4178-932a-fbeb3f341efb</td>\n",
       "      <td>ef6e098c-6c83-4752-8d00-ff793e476b8c</td>\n",
       "      <td>Fully Paid</td>\n",
       "      <td>10036</td>\n",
       "      <td>Short Term</td>\n",
       "      <td>NaN</td>\n",
       "      <td>5 years</td>\n",
       "      <td>Rent</td>\n",
       "      <td>NaN</td>\n",
       "      <td>Debt Consolidation</td>\n",
       "      <td>$386.36</td>\n",
       "      <td>17.7</td>\n",
       "      <td>NaN</td>\n",
       "      <td>7</td>\n",
       "      <td>0</td>\n",
       "      <td>11970</td>\n",
       "      <td>16579</td>\n",
       "      <td>0.0</td>\n",
       "      <td>0.0</td>\n",
       "    </tr>\n",
       "    <tr>\n",
       "      <th>12</th>\n",
       "      <td>00029f9f-0cc5-4d4e-aabc-ea4a7fe74e12</td>\n",
       "      <td>afbc2fa3-3bad-4d48-b691-829aed78bad5</td>\n",
       "      <td>Charged Off</td>\n",
       "      <td>17980</td>\n",
       "      <td>Short Term</td>\n",
       "      <td>NaN</td>\n",
       "      <td>&lt; 1 year</td>\n",
       "      <td>Own Home</td>\n",
       "      <td>NaN</td>\n",
       "      <td>Debt Consolidation</td>\n",
       "      <td>$597.50</td>\n",
       "      <td>9.9</td>\n",
       "      <td>43.0</td>\n",
       "      <td>7</td>\n",
       "      <td>0</td>\n",
       "      <td>6817</td>\n",
       "      <td>22800</td>\n",
       "      <td>0.0</td>\n",
       "      <td>0.0</td>\n",
       "    </tr>\n",
       "    <tr>\n",
       "      <th>20</th>\n",
       "      <td>00038a08-f058-4add-a8ed-497b91672a9e</td>\n",
       "      <td>727bb429-dfa1-41c4-a347-23230e23949f</td>\n",
       "      <td>Charged Off</td>\n",
       "      <td>16929</td>\n",
       "      <td>Long Term</td>\n",
       "      <td>NaN</td>\n",
       "      <td>3 years</td>\n",
       "      <td>Home Mortgage</td>\n",
       "      <td>NaN</td>\n",
       "      <td>Debt Consolidation</td>\n",
       "      <td>$745.70</td>\n",
       "      <td>14.9</td>\n",
       "      <td>NaN</td>\n",
       "      <td>10</td>\n",
       "      <td>0</td>\n",
       "      <td>28513</td>\n",
       "      <td>101110</td>\n",
       "      <td>0.0</td>\n",
       "      <td>0.0</td>\n",
       "    </tr>\n",
       "    <tr>\n",
       "      <th>22</th>\n",
       "      <td>0003b749-307f-4830-9fb4-9db7ed1b1c48</td>\n",
       "      <td>998dc43c-f9ce-466e-bdaa-7057b0bbb9cd</td>\n",
       "      <td>Fully Paid</td>\n",
       "      <td>7228</td>\n",
       "      <td>Short Term</td>\n",
       "      <td>NaN</td>\n",
       "      <td>3 years</td>\n",
       "      <td>Home Mortgage</td>\n",
       "      <td>NaN</td>\n",
       "      <td>Debt Consolidation</td>\n",
       "      <td>$439.56</td>\n",
       "      <td>17.8</td>\n",
       "      <td>NaN</td>\n",
       "      <td>13</td>\n",
       "      <td>1</td>\n",
       "      <td>8488</td>\n",
       "      <td>15866</td>\n",
       "      <td>1.0</td>\n",
       "      <td>0.0</td>\n",
       "    </tr>\n",
       "  </tbody>\n",
       "</table>\n",
       "</div>"
      ],
      "text/plain": [
       "                                 Loan ID  \\\n",
       "7   0000afa6-8902-4f8f-b870-25a8fdad0aeb   \n",
       "8   00011dfc-31c1-4178-932a-fbeb3f341efb   \n",
       "12  00029f9f-0cc5-4d4e-aabc-ea4a7fe74e12   \n",
       "20  00038a08-f058-4add-a8ed-497b91672a9e   \n",
       "22  0003b749-307f-4830-9fb4-9db7ed1b1c48   \n",
       "\n",
       "                             Customer ID  Loan Status  Current Loan Amount  \\\n",
       "7   e49c1a82-a0f7-45e8-9f46-2f75c43f9fbc  Charged Off                24613   \n",
       "8   ef6e098c-6c83-4752-8d00-ff793e476b8c   Fully Paid                10036   \n",
       "12  afbc2fa3-3bad-4d48-b691-829aed78bad5  Charged Off                17980   \n",
       "20  727bb429-dfa1-41c4-a347-23230e23949f  Charged Off                16929   \n",
       "22  998dc43c-f9ce-466e-bdaa-7057b0bbb9cd   Fully Paid                 7228   \n",
       "\n",
       "          Term  Credit Score Years in current job Home Ownership  \\\n",
       "7    Long Term           NaN              6 years           Rent   \n",
       "8   Short Term           NaN              5 years           Rent   \n",
       "12  Short Term           NaN             < 1 year       Own Home   \n",
       "20   Long Term           NaN              3 years  Home Mortgage   \n",
       "22  Short Term           NaN              3 years  Home Mortgage   \n",
       "\n",
       "    Annual Income             Purpose Monthly Debt  Years of Credit History  \\\n",
       "7             NaN       Business Loan      $542.29                     17.6   \n",
       "8             NaN  Debt Consolidation      $386.36                     17.7   \n",
       "12            NaN  Debt Consolidation      $597.50                      9.9   \n",
       "20            NaN  Debt Consolidation      $745.70                     14.9   \n",
       "22            NaN  Debt Consolidation      $439.56                     17.8   \n",
       "\n",
       "    Months since last delinquent  Number of Open Accounts  \\\n",
       "7                           73.0                        7   \n",
       "8                            NaN                        7   \n",
       "12                          43.0                        7   \n",
       "20                           NaN                       10   \n",
       "22                           NaN                       13   \n",
       "\n",
       "    Number of Credit Problems  Current Credit Balance Maximum Open Credit  \\\n",
       "7                           0                   14123               16954   \n",
       "8                           0                   11970               16579   \n",
       "12                          0                    6817               22800   \n",
       "20                          0                   28513              101110   \n",
       "22                          1                    8488               15866   \n",
       "\n",
       "    Bankruptcies  Tax Liens  \n",
       "7            0.0        0.0  \n",
       "8            0.0        0.0  \n",
       "12           0.0        0.0  \n",
       "20           0.0        0.0  \n",
       "22           1.0        0.0  "
      ]
     },
     "execution_count": 9,
     "metadata": {},
     "output_type": "execute_result"
    }
   ],
   "source": [
    "credit_score_nan = data['Credit Score'].isnull()\n",
    "data[credit_score_nan].head()"
   ]
  },
  {
   "cell_type": "markdown",
   "metadata": {},
   "source": [
    "*Creating a new dataframe as df that has \"Credit Score\" values"
   ]
  },
  {
   "cell_type": "code",
   "execution_count": 10,
   "metadata": {
    "collapsed": true
   },
   "outputs": [],
   "source": [
    "df = data[data['Credit Score'].notnull()]"
   ]
  },
  {
   "cell_type": "code",
   "execution_count": 11,
   "metadata": {
    "collapsed": false
   },
   "outputs": [
    {
     "name": "stdout",
     "output_type": "stream",
     "text": [
      "<class 'pandas.core.frame.DataFrame'>\n",
      "Int64Index: 160098 entries, 0 to 256983\n",
      "Data columns (total 19 columns):\n",
      "Loan ID                         160098 non-null object\n",
      "Customer ID                     160098 non-null object\n",
      "Loan Status                     160098 non-null object\n",
      "Current Loan Amount             160098 non-null int64\n",
      "Term                            160098 non-null object\n",
      "Credit Score                    160098 non-null float64\n",
      "Years in current job            160098 non-null object\n",
      "Home Ownership                  160098 non-null object\n",
      "Annual Income                   160098 non-null float64\n",
      "Purpose                         160098 non-null object\n",
      "Monthly Debt                    160098 non-null object\n",
      "Years of Credit History         160098 non-null float64\n",
      "Months since last delinquent    72761 non-null float64\n",
      "Number of Open Accounts         160098 non-null int64\n",
      "Number of Credit Problems       160098 non-null int64\n",
      "Current Credit Balance          160098 non-null int64\n",
      "Maximum Open Credit             160098 non-null object\n",
      "Bankruptcies                    159756 non-null float64\n",
      "Tax Liens                       160085 non-null float64\n",
      "dtypes: float64(6), int64(4), object(9)\n",
      "memory usage: 24.4+ MB\n"
     ]
    }
   ],
   "source": [
    "df.info()   "
   ]
  },
  {
   "cell_type": "markdown",
   "metadata": {},
   "source": [
    "*convert Credit Score column from float to int type"
   ]
  },
  {
   "cell_type": "code",
   "execution_count": 12,
   "metadata": {
    "collapsed": false
   },
   "outputs": [
    {
     "name": "stderr",
     "output_type": "stream",
     "text": [
      "/anaconda/envs/python2/lib/python2.7/site-packages/ipykernel/__main__.py:1: SettingWithCopyWarning: \n",
      "A value is trying to be set on a copy of a slice from a DataFrame.\n",
      "Try using .loc[row_indexer,col_indexer] = value instead\n",
      "\n",
      "See the caveats in the documentation: http://pandas.pydata.org/pandas-docs/stable/indexing.html#indexing-view-versus-copy\n",
      "  if __name__ == '__main__':\n"
     ]
    }
   ],
   "source": [
    "df['Credit Score'] = df['Credit Score'].astype(np.int64)"
   ]
  },
  {
   "cell_type": "code",
   "execution_count": 13,
   "metadata": {
    "collapsed": false
   },
   "outputs": [
    {
     "name": "stdout",
     "output_type": "stream",
     "text": [
      "<class 'pandas.core.frame.DataFrame'>\n",
      "Int64Index: 160098 entries, 0 to 256983\n",
      "Data columns (total 19 columns):\n",
      "Loan ID                         160098 non-null object\n",
      "Customer ID                     160098 non-null object\n",
      "Loan Status                     160098 non-null object\n",
      "Current Loan Amount             160098 non-null int64\n",
      "Term                            160098 non-null object\n",
      "Credit Score                    160098 non-null int64\n",
      "Years in current job            160098 non-null object\n",
      "Home Ownership                  160098 non-null object\n",
      "Annual Income                   160098 non-null float64\n",
      "Purpose                         160098 non-null object\n",
      "Monthly Debt                    160098 non-null object\n",
      "Years of Credit History         160098 non-null float64\n",
      "Months since last delinquent    72761 non-null float64\n",
      "Number of Open Accounts         160098 non-null int64\n",
      "Number of Credit Problems       160098 non-null int64\n",
      "Current Credit Balance          160098 non-null int64\n",
      "Maximum Open Credit             160098 non-null object\n",
      "Bankruptcies                    159756 non-null float64\n",
      "Tax Liens                       160085 non-null float64\n",
      "dtypes: float64(5), int64(5), object(9)\n",
      "memory usage: 24.4+ MB\n"
     ]
    }
   ],
   "source": [
    "df.info()"
   ]
  },
  {
   "cell_type": "markdown",
   "metadata": {},
   "source": [
    "*Dividing \"Credit Score\" by 10, for the values more than 800"
   ]
  },
  {
   "cell_type": "code",
   "execution_count": 14,
   "metadata": {
    "collapsed": false,
    "scrolled": true
   },
   "outputs": [
    {
     "name": "stderr",
     "output_type": "stream",
     "text": [
      "/anaconda/envs/python2/lib/python2.7/site-packages/ipykernel/__main__.py:1: SettingWithCopyWarning: \n",
      "A value is trying to be set on a copy of a slice from a DataFrame.\n",
      "Try using .loc[row_indexer,col_indexer] = value instead\n",
      "\n",
      "See the caveats in the documentation: http://pandas.pydata.org/pandas-docs/stable/indexing.html#indexing-view-versus-copy\n",
      "  if __name__ == '__main__':\n"
     ]
    }
   ],
   "source": [
    "df['Credit Score'] = df['Credit Score'].map(lambda x: x/10 if x > 800 else x)"
   ]
  },
  {
   "cell_type": "code",
   "execution_count": 15,
   "metadata": {
    "collapsed": false
   },
   "outputs": [
    {
     "data": {
      "text/plain": [
       "0"
      ]
     },
     "execution_count": 15,
     "metadata": {},
     "output_type": "execute_result"
    }
   ],
   "source": [
    "df['Credit Score'][(df['Credit Score'] > 800)].count()"
   ]
  },
  {
   "cell_type": "markdown",
   "metadata": {},
   "source": [
    "*Now, we don't have credit score more than 800"
   ]
  },
  {
   "cell_type": "markdown",
   "metadata": {},
   "source": [
    "*Convert Monthly Debt from object to float64, removing the $"
   ]
  },
  {
   "cell_type": "code",
   "execution_count": 16,
   "metadata": {
    "collapsed": false
   },
   "outputs": [
    {
     "name": "stderr",
     "output_type": "stream",
     "text": [
      "/anaconda/envs/python2/lib/python2.7/site-packages/ipykernel/__main__.py:1: SettingWithCopyWarning: \n",
      "A value is trying to be set on a copy of a slice from a DataFrame.\n",
      "Try using .loc[row_indexer,col_indexer] = value instead\n",
      "\n",
      "See the caveats in the documentation: http://pandas.pydata.org/pandas-docs/stable/indexing.html#indexing-view-versus-copy\n",
      "  if __name__ == '__main__':\n"
     ]
    },
    {
     "data": {
      "text/plain": [
       "0     584.03\n",
       "1    1106.04\n",
       "2    1321.85\n",
       "3     751.92\n",
       "4     355.18\n",
       "Name: Monthly Debt, dtype: float64"
      ]
     },
     "execution_count": 16,
     "metadata": {},
     "output_type": "execute_result"
    }
   ],
   "source": [
    "df['Monthly Debt'] = df['Monthly Debt'].replace( '[\\$, ]','', regex=True).astype(float) \n",
    "df['Monthly Debt'].head()"
   ]
  },
  {
   "cell_type": "markdown",
   "metadata": {},
   "source": [
    "*Converting \"Maximum Open Credit\" from object to float64"
   ]
  },
  {
   "cell_type": "code",
   "execution_count": 17,
   "metadata": {
    "collapsed": false
   },
   "outputs": [
    {
     "name": "stderr",
     "output_type": "stream",
     "text": [
      "/anaconda/envs/python2/lib/python2.7/site-packages/ipykernel/__main__.py:1: FutureWarning: convert_objects is deprecated.  Use the data-type specific converters pd.to_datetime, pd.to_timedelta and pd.to_numeric.\n",
      "  if __name__ == '__main__':\n",
      "/anaconda/envs/python2/lib/python2.7/site-packages/ipykernel/__main__.py:1: SettingWithCopyWarning: \n",
      "A value is trying to be set on a copy of a slice from a DataFrame.\n",
      "Try using .loc[row_indexer,col_indexer] = value instead\n",
      "\n",
      "See the caveats in the documentation: http://pandas.pydata.org/pandas-docs/stable/indexing.html#indexing-view-versus-copy\n",
      "  if __name__ == '__main__':\n"
     ]
    },
    {
     "data": {
      "text/plain": [
       "0    16056.0\n",
       "1    19149.0\n",
       "2    28335.0\n",
       "3    43915.0\n",
       "4    37081.0\n",
       "Name: Maximum Open Credit, dtype: float64"
      ]
     },
     "execution_count": 17,
     "metadata": {},
     "output_type": "execute_result"
    }
   ],
   "source": [
    "df['Maximum Open Credit'] = df['Maximum Open Credit'].convert_objects(convert_numeric=True)\n",
    "df['Maximum Open Credit'].head()"
   ]
  },
  {
   "cell_type": "markdown",
   "metadata": {},
   "source": [
    "*Home Ownership: converting \"HaveMortgage\" to \"Home Mortgage\""
   ]
  },
  {
   "cell_type": "code",
   "execution_count": 18,
   "metadata": {
    "collapsed": false
   },
   "outputs": [
    {
     "name": "stderr",
     "output_type": "stream",
     "text": [
      "/anaconda/envs/python2/lib/python2.7/site-packages/ipykernel/__main__.py:1: SettingWithCopyWarning: \n",
      "A value is trying to be set on a copy of a slice from a DataFrame.\n",
      "Try using .loc[row_indexer,col_indexer] = value instead\n",
      "\n",
      "See the caveats in the documentation: http://pandas.pydata.org/pandas-docs/stable/indexing.html#indexing-view-versus-copy\n",
      "  if __name__ == '__main__':\n"
     ]
    }
   ],
   "source": [
    "df['Home Ownership'] = df['Home Ownership'].map(lambda x: 'Home Mortgage' if x == 'HaveMortgage' else x)"
   ]
  },
  {
   "cell_type": "markdown",
   "metadata": {},
   "source": [
    "*Purpose: converting \"other\" to \"Other\""
   ]
  },
  {
   "cell_type": "code",
   "execution_count": 19,
   "metadata": {
    "collapsed": false
   },
   "outputs": [
    {
     "name": "stderr",
     "output_type": "stream",
     "text": [
      "/anaconda/envs/python2/lib/python2.7/site-packages/ipykernel/__main__.py:3: SettingWithCopyWarning: \n",
      "A value is trying to be set on a copy of a slice from a DataFrame.\n",
      "Try using .loc[row_indexer,col_indexer] = value instead\n",
      "\n",
      "See the caveats in the documentation: http://pandas.pydata.org/pandas-docs/stable/indexing.html#indexing-view-versus-copy\n",
      "  app.launch_new_instance()\n"
     ]
    }
   ],
   "source": [
    "#Purpose: other == Other\n",
    "\n",
    "df['Purpose'] = df['Purpose'].map(lambda x: 'Other' if x == 'other' else x)"
   ]
  },
  {
   "cell_type": "markdown",
   "metadata": {},
   "source": [
    "*Checking the unique values of \"Home Ownership\" and \"Purpose\""
   ]
  },
  {
   "cell_type": "code",
   "execution_count": 20,
   "metadata": {
    "collapsed": false
   },
   "outputs": [
    {
     "name": "stdout",
     "output_type": "stream",
     "text": [
      "Home Ownership:  ['Home Mortgage' 'Own Home' 'Rent']\n",
      "Purpose:  ['Debt Consolidation' 'Other' 'Business Loan' 'Home Improvements'\n",
      " 'Buy House' 'Medical Bills' 'Take a Trip' 'Buy a Car'\n",
      " 'Educational Expenses']\n"
     ]
    }
   ],
   "source": [
    "print \"Home Ownership: \", df['Home Ownership'].unique()\n",
    "print \"Purpose: \", df['Purpose'].unique()"
   ]
  },
  {
   "cell_type": "markdown",
   "metadata": {},
   "source": [
    "*We have missing values in \"Month since last delinquent\" column. Let's take a look at the relationship between NA values in \"Month since last delinquent\" column and other \"problem columns\" such as \"Purpose\", \"Number of Credit Problems\", \"Bankruptcies\", and \"Tax Liens\""
   ]
  },
  {
   "cell_type": "code",
   "execution_count": 21,
   "metadata": {
    "collapsed": false
   },
   "outputs": [
    {
     "name": "stdout",
     "output_type": "stream",
     "text": [
      "Debt Consolidation      69495\n",
      "Other                    8295\n",
      "Home Improvements        4513\n",
      "Business Loan            1728\n",
      "Buy a Car                1205\n",
      "Medical Bills             942\n",
      "Take a Trip               552\n",
      "Buy House                 515\n",
      "Educational Expenses       92\n",
      "Name: Purpose, dtype: int64\n",
      "0    76539\n",
      "1     9711\n",
      "2      808\n",
      "3      179\n",
      "4       63\n",
      "5       21\n",
      "6       11\n",
      "7        3\n",
      "9        1\n",
      "8        1\n",
      "Name: Number of Credit Problems, dtype: int64\n",
      "0.0    78011\n",
      "1.0     9016\n",
      "2.0      266\n",
      "3.0       35\n",
      "4.0        5\n",
      "5.0        2\n",
      "Name: Bankruptcies, dtype: int64\n",
      "0.0    86179\n",
      "1.0      837\n",
      "2.0      220\n",
      "3.0       48\n",
      "4.0       28\n",
      "5.0       16\n",
      "6.0        5\n",
      "9.0        1\n",
      "7.0        1\n",
      "Name: Tax Liens, dtype: int64\n"
     ]
    }
   ],
   "source": [
    "msld_nan = df['Months since last delinquent'].isnull()\n",
    "\n",
    "print df[msld_nan]['Purpose'].value_counts()\n",
    "\n",
    "print df[msld_nan]['Number of Credit Problems'].value_counts()\n",
    "\n",
    "print df[msld_nan]['Bankruptcies'].value_counts()\n",
    "\n",
    "print df[msld_nan]['Tax Liens'].value_counts()"
   ]
  },
  {
   "cell_type": "markdown",
   "metadata": {},
   "source": [
    "*Most of NA values in \"Month since last delinquent\" column have: purpose of Debt Consolidation; 0 Number of Credit Problems; 0 Bankruptcies; 0 Tax Liens"
   ]
  },
  {
   "cell_type": "markdown",
   "metadata": {},
   "source": [
    "*Now, taking a look at correlations"
   ]
  },
  {
   "cell_type": "code",
   "execution_count": 22,
   "metadata": {
    "collapsed": false
   },
   "outputs": [
    {
     "data": {
      "text/html": [
       "<div>\n",
       "<table border=\"1\" class=\"dataframe\">\n",
       "  <thead>\n",
       "    <tr style=\"text-align: right;\">\n",
       "      <th></th>\n",
       "      <th>Current Loan Amount</th>\n",
       "      <th>Credit Score</th>\n",
       "      <th>Annual Income</th>\n",
       "      <th>Monthly Debt</th>\n",
       "      <th>Years of Credit History</th>\n",
       "      <th>Months since last delinquent</th>\n",
       "      <th>Number of Open Accounts</th>\n",
       "      <th>Number of Credit Problems</th>\n",
       "      <th>Current Credit Balance</th>\n",
       "      <th>Maximum Open Credit</th>\n",
       "      <th>Bankruptcies</th>\n",
       "      <th>Tax Liens</th>\n",
       "    </tr>\n",
       "  </thead>\n",
       "  <tbody>\n",
       "    <tr>\n",
       "      <th>Current Loan Amount</th>\n",
       "      <td>1.000000</td>\n",
       "      <td>-0.233733</td>\n",
       "      <td>0.335476</td>\n",
       "      <td>0.435983</td>\n",
       "      <td>0.152230</td>\n",
       "      <td>-0.044143</td>\n",
       "      <td>0.201689</td>\n",
       "      <td>-0.072039</td>\n",
       "      <td>0.331326</td>\n",
       "      <td>0.038276</td>\n",
       "      <td>-0.095954</td>\n",
       "      <td>0.014140</td>\n",
       "    </tr>\n",
       "    <tr>\n",
       "      <th>Credit Score</th>\n",
       "      <td>-0.233733</td>\n",
       "      <td>1.000000</td>\n",
       "      <td>0.009421</td>\n",
       "      <td>-0.095841</td>\n",
       "      <td>0.087433</td>\n",
       "      <td>0.046790</td>\n",
       "      <td>-0.046681</td>\n",
       "      <td>-0.055539</td>\n",
       "      <td>-0.015774</td>\n",
       "      <td>0.017475</td>\n",
       "      <td>-0.039888</td>\n",
       "      <td>-0.028144</td>\n",
       "    </tr>\n",
       "    <tr>\n",
       "      <th>Annual Income</th>\n",
       "      <td>0.335476</td>\n",
       "      <td>0.009421</td>\n",
       "      <td>1.000000</td>\n",
       "      <td>0.452869</td>\n",
       "      <td>0.146897</td>\n",
       "      <td>-0.063535</td>\n",
       "      <td>0.139885</td>\n",
       "      <td>-0.010737</td>\n",
       "      <td>0.283434</td>\n",
       "      <td>0.040757</td>\n",
       "      <td>-0.043599</td>\n",
       "      <td>0.041296</td>\n",
       "    </tr>\n",
       "    <tr>\n",
       "      <th>Monthly Debt</th>\n",
       "      <td>0.435983</td>\n",
       "      <td>-0.095841</td>\n",
       "      <td>0.452869</td>\n",
       "      <td>1.000000</td>\n",
       "      <td>0.188655</td>\n",
       "      <td>-0.056744</td>\n",
       "      <td>0.409085</td>\n",
       "      <td>-0.049905</td>\n",
       "      <td>0.476020</td>\n",
       "      <td>0.037311</td>\n",
       "      <td>-0.076680</td>\n",
       "      <td>0.022576</td>\n",
       "    </tr>\n",
       "    <tr>\n",
       "      <th>Years of Credit History</th>\n",
       "      <td>0.152230</td>\n",
       "      <td>0.087433</td>\n",
       "      <td>0.146897</td>\n",
       "      <td>0.188655</td>\n",
       "      <td>1.000000</td>\n",
       "      <td>-0.039912</td>\n",
       "      <td>0.130126</td>\n",
       "      <td>0.061586</td>\n",
       "      <td>0.207288</td>\n",
       "      <td>0.027981</td>\n",
       "      <td>0.062593</td>\n",
       "      <td>0.020989</td>\n",
       "    </tr>\n",
       "    <tr>\n",
       "      <th>Months since last delinquent</th>\n",
       "      <td>-0.044143</td>\n",
       "      <td>0.046790</td>\n",
       "      <td>-0.063535</td>\n",
       "      <td>-0.056744</td>\n",
       "      <td>-0.039912</td>\n",
       "      <td>1.000000</td>\n",
       "      <td>-0.035585</td>\n",
       "      <td>0.088823</td>\n",
       "      <td>-0.023838</td>\n",
       "      <td>0.001044</td>\n",
       "      <td>0.111428</td>\n",
       "      <td>0.007285</td>\n",
       "    </tr>\n",
       "    <tr>\n",
       "      <th>Number of Open Accounts</th>\n",
       "      <td>0.201689</td>\n",
       "      <td>-0.046681</td>\n",
       "      <td>0.139885</td>\n",
       "      <td>0.409085</td>\n",
       "      <td>0.130126</td>\n",
       "      <td>-0.035585</td>\n",
       "      <td>1.000000</td>\n",
       "      <td>-0.012142</td>\n",
       "      <td>0.231627</td>\n",
       "      <td>0.030191</td>\n",
       "      <td>-0.020959</td>\n",
       "      <td>0.005294</td>\n",
       "    </tr>\n",
       "    <tr>\n",
       "      <th>Number of Credit Problems</th>\n",
       "      <td>-0.072039</td>\n",
       "      <td>-0.055539</td>\n",
       "      <td>-0.010737</td>\n",
       "      <td>-0.049905</td>\n",
       "      <td>0.061586</td>\n",
       "      <td>0.088823</td>\n",
       "      <td>-0.012142</td>\n",
       "      <td>1.000000</td>\n",
       "      <td>-0.106842</td>\n",
       "      <td>-0.012794</td>\n",
       "      <td>0.751046</td>\n",
       "      <td>0.591397</td>\n",
       "    </tr>\n",
       "    <tr>\n",
       "      <th>Current Credit Balance</th>\n",
       "      <td>0.331326</td>\n",
       "      <td>-0.015774</td>\n",
       "      <td>0.283434</td>\n",
       "      <td>0.476020</td>\n",
       "      <td>0.207288</td>\n",
       "      <td>-0.023838</td>\n",
       "      <td>0.231627</td>\n",
       "      <td>-0.106842</td>\n",
       "      <td>1.000000</td>\n",
       "      <td>0.137415</td>\n",
       "      <td>-0.121008</td>\n",
       "      <td>-0.012892</td>\n",
       "    </tr>\n",
       "    <tr>\n",
       "      <th>Maximum Open Credit</th>\n",
       "      <td>0.038276</td>\n",
       "      <td>0.017475</td>\n",
       "      <td>0.040757</td>\n",
       "      <td>0.037311</td>\n",
       "      <td>0.027981</td>\n",
       "      <td>0.001044</td>\n",
       "      <td>0.030191</td>\n",
       "      <td>-0.012794</td>\n",
       "      <td>0.137415</td>\n",
       "      <td>1.000000</td>\n",
       "      <td>-0.014270</td>\n",
       "      <td>-0.001751</td>\n",
       "    </tr>\n",
       "    <tr>\n",
       "      <th>Bankruptcies</th>\n",
       "      <td>-0.095954</td>\n",
       "      <td>-0.039888</td>\n",
       "      <td>-0.043599</td>\n",
       "      <td>-0.076680</td>\n",
       "      <td>0.062593</td>\n",
       "      <td>0.111428</td>\n",
       "      <td>-0.020959</td>\n",
       "      <td>0.751046</td>\n",
       "      <td>-0.121008</td>\n",
       "      <td>-0.014270</td>\n",
       "      <td>1.000000</td>\n",
       "      <td>0.045402</td>\n",
       "    </tr>\n",
       "    <tr>\n",
       "      <th>Tax Liens</th>\n",
       "      <td>0.014140</td>\n",
       "      <td>-0.028144</td>\n",
       "      <td>0.041296</td>\n",
       "      <td>0.022576</td>\n",
       "      <td>0.020989</td>\n",
       "      <td>0.007285</td>\n",
       "      <td>0.005294</td>\n",
       "      <td>0.591397</td>\n",
       "      <td>-0.012892</td>\n",
       "      <td>-0.001751</td>\n",
       "      <td>0.045402</td>\n",
       "      <td>1.000000</td>\n",
       "    </tr>\n",
       "  </tbody>\n",
       "</table>\n",
       "</div>"
      ],
      "text/plain": [
       "                              Current Loan Amount  Credit Score  \\\n",
       "Current Loan Amount                      1.000000     -0.233733   \n",
       "Credit Score                            -0.233733      1.000000   \n",
       "Annual Income                            0.335476      0.009421   \n",
       "Monthly Debt                             0.435983     -0.095841   \n",
       "Years of Credit History                  0.152230      0.087433   \n",
       "Months since last delinquent            -0.044143      0.046790   \n",
       "Number of Open Accounts                  0.201689     -0.046681   \n",
       "Number of Credit Problems               -0.072039     -0.055539   \n",
       "Current Credit Balance                   0.331326     -0.015774   \n",
       "Maximum Open Credit                      0.038276      0.017475   \n",
       "Bankruptcies                            -0.095954     -0.039888   \n",
       "Tax Liens                                0.014140     -0.028144   \n",
       "\n",
       "                              Annual Income  Monthly Debt  \\\n",
       "Current Loan Amount                0.335476      0.435983   \n",
       "Credit Score                       0.009421     -0.095841   \n",
       "Annual Income                      1.000000      0.452869   \n",
       "Monthly Debt                       0.452869      1.000000   \n",
       "Years of Credit History            0.146897      0.188655   \n",
       "Months since last delinquent      -0.063535     -0.056744   \n",
       "Number of Open Accounts            0.139885      0.409085   \n",
       "Number of Credit Problems         -0.010737     -0.049905   \n",
       "Current Credit Balance             0.283434      0.476020   \n",
       "Maximum Open Credit                0.040757      0.037311   \n",
       "Bankruptcies                      -0.043599     -0.076680   \n",
       "Tax Liens                          0.041296      0.022576   \n",
       "\n",
       "                              Years of Credit History  \\\n",
       "Current Loan Amount                          0.152230   \n",
       "Credit Score                                 0.087433   \n",
       "Annual Income                                0.146897   \n",
       "Monthly Debt                                 0.188655   \n",
       "Years of Credit History                      1.000000   \n",
       "Months since last delinquent                -0.039912   \n",
       "Number of Open Accounts                      0.130126   \n",
       "Number of Credit Problems                    0.061586   \n",
       "Current Credit Balance                       0.207288   \n",
       "Maximum Open Credit                          0.027981   \n",
       "Bankruptcies                                 0.062593   \n",
       "Tax Liens                                    0.020989   \n",
       "\n",
       "                              Months since last delinquent  \\\n",
       "Current Loan Amount                              -0.044143   \n",
       "Credit Score                                      0.046790   \n",
       "Annual Income                                    -0.063535   \n",
       "Monthly Debt                                     -0.056744   \n",
       "Years of Credit History                          -0.039912   \n",
       "Months since last delinquent                      1.000000   \n",
       "Number of Open Accounts                          -0.035585   \n",
       "Number of Credit Problems                         0.088823   \n",
       "Current Credit Balance                           -0.023838   \n",
       "Maximum Open Credit                               0.001044   \n",
       "Bankruptcies                                      0.111428   \n",
       "Tax Liens                                         0.007285   \n",
       "\n",
       "                              Number of Open Accounts  \\\n",
       "Current Loan Amount                          0.201689   \n",
       "Credit Score                                -0.046681   \n",
       "Annual Income                                0.139885   \n",
       "Monthly Debt                                 0.409085   \n",
       "Years of Credit History                      0.130126   \n",
       "Months since last delinquent                -0.035585   \n",
       "Number of Open Accounts                      1.000000   \n",
       "Number of Credit Problems                   -0.012142   \n",
       "Current Credit Balance                       0.231627   \n",
       "Maximum Open Credit                          0.030191   \n",
       "Bankruptcies                                -0.020959   \n",
       "Tax Liens                                    0.005294   \n",
       "\n",
       "                              Number of Credit Problems  \\\n",
       "Current Loan Amount                           -0.072039   \n",
       "Credit Score                                  -0.055539   \n",
       "Annual Income                                 -0.010737   \n",
       "Monthly Debt                                  -0.049905   \n",
       "Years of Credit History                        0.061586   \n",
       "Months since last delinquent                   0.088823   \n",
       "Number of Open Accounts                       -0.012142   \n",
       "Number of Credit Problems                      1.000000   \n",
       "Current Credit Balance                        -0.106842   \n",
       "Maximum Open Credit                           -0.012794   \n",
       "Bankruptcies                                   0.751046   \n",
       "Tax Liens                                      0.591397   \n",
       "\n",
       "                              Current Credit Balance  Maximum Open Credit  \\\n",
       "Current Loan Amount                         0.331326             0.038276   \n",
       "Credit Score                               -0.015774             0.017475   \n",
       "Annual Income                               0.283434             0.040757   \n",
       "Monthly Debt                                0.476020             0.037311   \n",
       "Years of Credit History                     0.207288             0.027981   \n",
       "Months since last delinquent               -0.023838             0.001044   \n",
       "Number of Open Accounts                     0.231627             0.030191   \n",
       "Number of Credit Problems                  -0.106842            -0.012794   \n",
       "Current Credit Balance                      1.000000             0.137415   \n",
       "Maximum Open Credit                         0.137415             1.000000   \n",
       "Bankruptcies                               -0.121008            -0.014270   \n",
       "Tax Liens                                  -0.012892            -0.001751   \n",
       "\n",
       "                              Bankruptcies  Tax Liens  \n",
       "Current Loan Amount              -0.095954   0.014140  \n",
       "Credit Score                     -0.039888  -0.028144  \n",
       "Annual Income                    -0.043599   0.041296  \n",
       "Monthly Debt                     -0.076680   0.022576  \n",
       "Years of Credit History           0.062593   0.020989  \n",
       "Months since last delinquent      0.111428   0.007285  \n",
       "Number of Open Accounts          -0.020959   0.005294  \n",
       "Number of Credit Problems         0.751046   0.591397  \n",
       "Current Credit Balance           -0.121008  -0.012892  \n",
       "Maximum Open Credit              -0.014270  -0.001751  \n",
       "Bankruptcies                      1.000000   0.045402  \n",
       "Tax Liens                         0.045402   1.000000  "
      ]
     },
     "execution_count": 22,
     "metadata": {},
     "output_type": "execute_result"
    }
   ],
   "source": [
    "df.corr()"
   ]
  },
  {
   "cell_type": "markdown",
   "metadata": {},
   "source": [
    "*Let's take a look at \"Months since last delinquent\" column"
   ]
  },
  {
   "cell_type": "code",
   "execution_count": 23,
   "metadata": {
    "collapsed": false
   },
   "outputs": [
    {
     "data": {
      "text/plain": [
       "176.0"
      ]
     },
     "execution_count": 23,
     "metadata": {},
     "output_type": "execute_result"
    }
   ],
   "source": [
    "df['Months since last delinquent'].max()"
   ]
  },
  {
   "cell_type": "markdown",
   "metadata": {},
   "source": [
    "*Let's fill in NA in 'Months since last delinquent' with 200 which is even more than max number of credit problems (176), because we noticed above that most NA in 'Months since last delinquent' has \"least\" problems"
   ]
  },
  {
   "cell_type": "code",
   "execution_count": 24,
   "metadata": {
    "collapsed": false
   },
   "outputs": [
    {
     "name": "stderr",
     "output_type": "stream",
     "text": [
      "//anaconda/envs/python2/lib/python2.7/site-packages/pandas/core/generic.py:3191: SettingWithCopyWarning: \n",
      "A value is trying to be set on a copy of a slice from a DataFrame\n",
      "\n",
      "See the caveats in the documentation: http://pandas.pydata.org/pandas-docs/stable/indexing.html#indexing-view-versus-copy\n",
      "  self._update_inplace(new_data)\n"
     ]
    }
   ],
   "source": [
    "df[\"Months since last delinquent\"].fillna(value=200, inplace=True)"
   ]
  },
  {
   "cell_type": "code",
   "execution_count": 25,
   "metadata": {
    "collapsed": false
   },
   "outputs": [
    {
     "data": {
      "text/plain": [
       "count    160098.000000\n",
       "mean        124.948338\n",
       "std          83.539069\n",
       "min           0.000000\n",
       "25%          35.000000\n",
       "50%         200.000000\n",
       "75%         200.000000\n",
       "max         200.000000\n",
       "Name: Months since last delinquent, dtype: float64"
      ]
     },
     "execution_count": 25,
     "metadata": {},
     "output_type": "execute_result"
    }
   ],
   "source": [
    "df['Months since last delinquent'].describe()"
   ]
  },
  {
   "cell_type": "code",
   "execution_count": 26,
   "metadata": {
    "collapsed": false
   },
   "outputs": [
    {
     "name": "stdout",
     "output_type": "stream",
     "text": [
      "<class 'pandas.core.frame.DataFrame'>\n",
      "Int64Index: 160098 entries, 0 to 256983\n",
      "Data columns (total 19 columns):\n",
      "Loan ID                         160098 non-null object\n",
      "Customer ID                     160098 non-null object\n",
      "Loan Status                     160098 non-null object\n",
      "Current Loan Amount             160098 non-null int64\n",
      "Term                            160098 non-null object\n",
      "Credit Score                    160098 non-null int64\n",
      "Years in current job            160098 non-null object\n",
      "Home Ownership                  160098 non-null object\n",
      "Annual Income                   160098 non-null float64\n",
      "Purpose                         160098 non-null object\n",
      "Monthly Debt                    160098 non-null float64\n",
      "Years of Credit History         160098 non-null float64\n",
      "Months since last delinquent    160098 non-null float64\n",
      "Number of Open Accounts         160098 non-null int64\n",
      "Number of Credit Problems       160098 non-null int64\n",
      "Current Credit Balance          160098 non-null int64\n",
      "Maximum Open Credit             160095 non-null float64\n",
      "Bankruptcies                    159756 non-null float64\n",
      "Tax Liens                       160085 non-null float64\n",
      "dtypes: float64(7), int64(5), object(7)\n",
      "memory usage: 24.4+ MB\n"
     ]
    }
   ],
   "source": [
    "df.info()"
   ]
  },
  {
   "cell_type": "markdown",
   "metadata": {},
   "source": [
    "*Tax Liens is highly correlated with Number of credit problems = 0.59, so let's only include none missing values in Tax Liens for our new dataframe df"
   ]
  },
  {
   "cell_type": "code",
   "execution_count": 27,
   "metadata": {
    "collapsed": true
   },
   "outputs": [],
   "source": [
    "df = df[df['Tax Liens'].notnull()]"
   ]
  },
  {
   "cell_type": "code",
   "execution_count": 28,
   "metadata": {
    "collapsed": false
   },
   "outputs": [
    {
     "name": "stdout",
     "output_type": "stream",
     "text": [
      "<class 'pandas.core.frame.DataFrame'>\n",
      "Int64Index: 160085 entries, 0 to 256983\n",
      "Data columns (total 19 columns):\n",
      "Loan ID                         160085 non-null object\n",
      "Customer ID                     160085 non-null object\n",
      "Loan Status                     160085 non-null object\n",
      "Current Loan Amount             160085 non-null int64\n",
      "Term                            160085 non-null object\n",
      "Credit Score                    160085 non-null int64\n",
      "Years in current job            160085 non-null object\n",
      "Home Ownership                  160085 non-null object\n",
      "Annual Income                   160085 non-null float64\n",
      "Purpose                         160085 non-null object\n",
      "Monthly Debt                    160085 non-null float64\n",
      "Years of Credit History         160085 non-null float64\n",
      "Months since last delinquent    160085 non-null float64\n",
      "Number of Open Accounts         160085 non-null int64\n",
      "Number of Credit Problems       160085 non-null int64\n",
      "Current Credit Balance          160085 non-null int64\n",
      "Maximum Open Credit             160082 non-null float64\n",
      "Bankruptcies                    159756 non-null float64\n",
      "Tax Liens                       160085 non-null float64\n",
      "dtypes: float64(7), int64(5), object(7)\n",
      "memory usage: 24.4+ MB\n"
     ]
    }
   ],
   "source": [
    "df.info()"
   ]
  },
  {
   "cell_type": "markdown",
   "metadata": {},
   "source": [
    "*Let's only include none missing values in Bankruptcies for our new dataframe df"
   ]
  },
  {
   "cell_type": "code",
   "execution_count": 29,
   "metadata": {
    "collapsed": true
   },
   "outputs": [],
   "source": [
    "df = df[df['Bankruptcies'].notnull()] "
   ]
  },
  {
   "cell_type": "code",
   "execution_count": 30,
   "metadata": {
    "collapsed": false
   },
   "outputs": [
    {
     "name": "stdout",
     "output_type": "stream",
     "text": [
      "<class 'pandas.core.frame.DataFrame'>\n",
      "Int64Index: 159756 entries, 0 to 256983\n",
      "Data columns (total 19 columns):\n",
      "Loan ID                         159756 non-null object\n",
      "Customer ID                     159756 non-null object\n",
      "Loan Status                     159756 non-null object\n",
      "Current Loan Amount             159756 non-null int64\n",
      "Term                            159756 non-null object\n",
      "Credit Score                    159756 non-null int64\n",
      "Years in current job            159756 non-null object\n",
      "Home Ownership                  159756 non-null object\n",
      "Annual Income                   159756 non-null float64\n",
      "Purpose                         159756 non-null object\n",
      "Monthly Debt                    159756 non-null float64\n",
      "Years of Credit History         159756 non-null float64\n",
      "Months since last delinquent    159756 non-null float64\n",
      "Number of Open Accounts         159756 non-null int64\n",
      "Number of Credit Problems       159756 non-null int64\n",
      "Current Credit Balance          159756 non-null int64\n",
      "Maximum Open Credit             159753 non-null float64\n",
      "Bankruptcies                    159756 non-null float64\n",
      "Tax Liens                       159756 non-null float64\n",
      "dtypes: float64(7), int64(5), object(7)\n",
      "memory usage: 24.4+ MB\n"
     ]
    }
   ],
   "source": [
    "df.info()"
   ]
  },
  {
   "cell_type": "markdown",
   "metadata": {},
   "source": [
    "*Taking a look at \"Maximum Open Credit\" column"
   ]
  },
  {
   "cell_type": "code",
   "execution_count": 31,
   "metadata": {
    "collapsed": false
   },
   "outputs": [
    {
     "data": {
      "text/plain": [
       "False    159753\n",
       "True          3\n",
       "Name: Maximum Open Credit, dtype: int64"
      ]
     },
     "execution_count": 31,
     "metadata": {},
     "output_type": "execute_result"
    }
   ],
   "source": [
    "moc_nan = df['Maximum Open Credit'].isnull()\n",
    "moc_nan.value_counts()"
   ]
  },
  {
   "cell_type": "markdown",
   "metadata": {},
   "source": [
    "*Selecting none missing values in Maximum Open Credit for our new dataframe df"
   ]
  },
  {
   "cell_type": "code",
   "execution_count": 32,
   "metadata": {
    "collapsed": true
   },
   "outputs": [],
   "source": [
    "df = df[df['Maximum Open Credit'].notnull()]"
   ]
  },
  {
   "cell_type": "code",
   "execution_count": 33,
   "metadata": {
    "collapsed": false
   },
   "outputs": [
    {
     "name": "stdout",
     "output_type": "stream",
     "text": [
      "<class 'pandas.core.frame.DataFrame'>\n",
      "Int64Index: 159753 entries, 0 to 256983\n",
      "Data columns (total 19 columns):\n",
      "Loan ID                         159753 non-null object\n",
      "Customer ID                     159753 non-null object\n",
      "Loan Status                     159753 non-null object\n",
      "Current Loan Amount             159753 non-null int64\n",
      "Term                            159753 non-null object\n",
      "Credit Score                    159753 non-null int64\n",
      "Years in current job            159753 non-null object\n",
      "Home Ownership                  159753 non-null object\n",
      "Annual Income                   159753 non-null float64\n",
      "Purpose                         159753 non-null object\n",
      "Monthly Debt                    159753 non-null float64\n",
      "Years of Credit History         159753 non-null float64\n",
      "Months since last delinquent    159753 non-null float64\n",
      "Number of Open Accounts         159753 non-null int64\n",
      "Number of Credit Problems       159753 non-null int64\n",
      "Current Credit Balance          159753 non-null int64\n",
      "Maximum Open Credit             159753 non-null float64\n",
      "Bankruptcies                    159753 non-null float64\n",
      "Tax Liens                       159753 non-null float64\n",
      "dtypes: float64(7), int64(5), object(7)\n",
      "memory usage: 24.4+ MB\n"
     ]
    }
   ],
   "source": [
    "df.info()"
   ]
  },
  {
   "cell_type": "markdown",
   "metadata": {},
   "source": [
    "*Now, we don't have any missing values"
   ]
  },
  {
   "cell_type": "markdown",
   "metadata": {
    "collapsed": true
   },
   "source": [
    "*Taking look at \"Loan ID\" and \"Customer ID\" columns"
   ]
  },
  {
   "cell_type": "code",
   "execution_count": 34,
   "metadata": {
    "collapsed": false
   },
   "outputs": [
    {
     "name": "stdout",
     "output_type": "stream",
     "text": [
      "Total unique Loan IDs:  135696\n",
      "Total unique Customer IDs:  135696\n",
      "Total entries:  159753\n"
     ]
    }
   ],
   "source": [
    "print \"Total unique Loan IDs: \", df['Loan ID'].nunique()\n",
    "print \"Total unique Customer IDs: \", df['Customer ID'].nunique()\n",
    "print \"Total entries: \", len(df)"
   ]
  },
  {
   "cell_type": "code",
   "execution_count": 35,
   "metadata": {
    "collapsed": false
   },
   "outputs": [
    {
     "data": {
      "text/plain": [
       "9d601e9f-2e11-42f6-868a-82ba3aa9e401    4\n",
       "bbf7a3d6-c415-417e-b6a1-5095a6a5fcca    4\n",
       "80bf6f56-b3f3-41d8-bb26-191ead5a8a4c    4\n",
       "255cc82a-2733-48bd-a784-aa61a494833b    4\n",
       "21d50a6a-0e3d-49d9-843d-e4c9e2959e11    4\n",
       "2f7500e8-695a-4d4d-b91c-bdfaedb06745    4\n",
       "536c1d67-0e1a-4060-909b-b23b7d6eff50    4\n",
       "4e800cb9-955b-45f9-85d5-196c3054f2f1    4\n",
       "f1dc64e8-b329-480a-b289-e793e954fd3c    4\n",
       "a4bd5c89-275a-4539-9e27-5c256845bd2c    4\n",
       "943b437f-b6aa-4581-9ca7-611a5ffffc4a    4\n",
       "16a5ca88-8f09-4a8e-a40c-9e9bc394abc7    4\n",
       "6e766ede-75e9-4b26-b781-e268faf258f0    4\n",
       "e6559d6b-42fa-4285-a565-200b693fb976    4\n",
       "91037789-b0a2-4d49-89dc-78c27b5e5297    4\n",
       "9f20c0be-fac2-4400-8c2a-fa6063a123a0    4\n",
       "b1e4e451-4a27-4a35-9d48-3fc55702992b    4\n",
       "66bb3e99-6468-4193-a7d3-4d0134581e30    4\n",
       "b8dbe5c6-6c6d-4b26-850f-8f52c4303383    4\n",
       "55931e3a-d5d2-4be5-94c6-d4c8bb9d4844    4\n",
       "c7f0e509-28b8-4349-99db-f863fb067237    4\n",
       "16be66d9-607a-43a4-8fbf-5327a16708c1    4\n",
       "889bb6f2-91f1-46c6-ba21-92f37ea2e662    4\n",
       "93663d95-1686-4fb7-8d4f-b06c237d5689    4\n",
       "8a036c7c-9836-4763-8f69-980b23e3f381    4\n",
       "14c5fb07-d3bd-4fc8-aad0-54d21f491daf    4\n",
       "f57c84b6-cf4d-4023-ab5d-8ae55a708524    4\n",
       "e94aceda-a038-4444-bb52-a481f2ac5472    4\n",
       "2e03e705-c9eb-474c-9e45-6e898d75dbd8    4\n",
       "cadb86e8-b6da-420f-95ce-a477f5cb3040    4\n",
       "                                       ..\n",
       "ea9580a3-53e8-4ae8-b986-b2ceb009a613    1\n",
       "838674cc-5d8a-487b-99db-34ed9a417d87    1\n",
       "0a9c74d7-35f3-4f5c-ae7f-d4963fe25c74    1\n",
       "81cf9604-580e-4360-a39e-ad42f3bfe840    1\n",
       "9aa79939-a953-4472-aa07-2b35f04a7100    1\n",
       "8fedaaf8-f844-4d8d-8b35-4aeae3862844    1\n",
       "3d8ab1c0-42eb-4495-9aa8-1afb4fa72b1b    1\n",
       "0fd0dd72-a6e7-4971-8f19-d7b820b6c84e    1\n",
       "14ba0515-b8a8-4bce-873b-d6143df45b13    1\n",
       "fbd4aade-5491-48cd-b87c-fdcbb615a771    1\n",
       "97a385bc-b849-4fc0-997e-bfa9db1878af    1\n",
       "a7933509-e00c-402c-8211-819d7bcdac06    1\n",
       "ee215047-6034-484e-b98b-8659c9d6ab50    1\n",
       "f6a9f7a0-e6ce-4bba-a489-ce54096fdd9c    1\n",
       "d4f2074f-e816-4724-a984-732a8844b7e9    1\n",
       "6fb2fadc-92b3-4704-9aae-78236b924fa4    1\n",
       "17e3da6f-2161-4864-b7b3-682cca6430d2    1\n",
       "36b424f8-a6b8-443b-a46e-b08b1818ff60    1\n",
       "b480f024-aeb7-4a1c-96be-fb58f99b2301    1\n",
       "a28ca379-87b6-4332-a0f5-acdfc2c75701    1\n",
       "e8b0b33a-ad7c-4dc5-91e8-8df5deb35735    1\n",
       "f4cf3374-4203-4cb1-8fe6-45108ccebda1    1\n",
       "d7360a03-c7a9-4574-8ac7-a7fc0cd636a1    1\n",
       "b6e48ebc-fb87-4c90-9ae5-12d98262f4fc    1\n",
       "e1d5d2bd-c029-4b55-a0c0-64c0997a677c    1\n",
       "201c3791-b28e-4605-a130-313fe0a2069e    1\n",
       "d070b35b-cb35-474c-9e72-f26ef01c3bbd    1\n",
       "2f282acf-636a-456f-9b13-aec30d35b817    1\n",
       "efc6e397-4743-4843-9477-2a0269abae8a    1\n",
       "5b11b29a-700e-42fa-9992-14067457ec62    1\n",
       "Name: Loan ID, dtype: int64"
      ]
     },
     "execution_count": 35,
     "metadata": {},
     "output_type": "execute_result"
    }
   ],
   "source": [
    "df['Loan ID'].value_counts()"
   ]
  },
  {
   "cell_type": "markdown",
   "metadata": {},
   "source": [
    "*Let's drop the duplicate Loan ID values & keep first row, and set new dataframe df"
   ]
  },
  {
   "cell_type": "code",
   "execution_count": 36,
   "metadata": {
    "collapsed": false
   },
   "outputs": [],
   "source": [
    "df = df.drop_duplicates(['Loan ID'], keep ='first') "
   ]
  },
  {
   "cell_type": "code",
   "execution_count": 37,
   "metadata": {
    "collapsed": false
   },
   "outputs": [
    {
     "name": "stdout",
     "output_type": "stream",
     "text": [
      "Total unique Loan IDs:  135696\n",
      "Total unique Customer IDs:  135696\n",
      "Total entries:  135696\n"
     ]
    }
   ],
   "source": [
    "print \"Total unique Loan IDs: \", df['Loan ID'].nunique()\n",
    "print \"Total unique Customer IDs: \", df['Customer ID'].nunique()\n",
    "print \"Total entries: \", len(df)"
   ]
  },
  {
   "cell_type": "code",
   "execution_count": 38,
   "metadata": {
    "collapsed": false
   },
   "outputs": [
    {
     "name": "stdout",
     "output_type": "stream",
     "text": [
      "<class 'pandas.core.frame.DataFrame'>\n",
      "Int64Index: 135696 entries, 0 to 256983\n",
      "Data columns (total 19 columns):\n",
      "Loan ID                         135696 non-null object\n",
      "Customer ID                     135696 non-null object\n",
      "Loan Status                     135696 non-null object\n",
      "Current Loan Amount             135696 non-null int64\n",
      "Term                            135696 non-null object\n",
      "Credit Score                    135696 non-null int64\n",
      "Years in current job            135696 non-null object\n",
      "Home Ownership                  135696 non-null object\n",
      "Annual Income                   135696 non-null float64\n",
      "Purpose                         135696 non-null object\n",
      "Monthly Debt                    135696 non-null float64\n",
      "Years of Credit History         135696 non-null float64\n",
      "Months since last delinquent    135696 non-null float64\n",
      "Number of Open Accounts         135696 non-null int64\n",
      "Number of Credit Problems       135696 non-null int64\n",
      "Current Credit Balance          135696 non-null int64\n",
      "Maximum Open Credit             135696 non-null float64\n",
      "Bankruptcies                    135696 non-null float64\n",
      "Tax Liens                       135696 non-null float64\n",
      "dtypes: float64(7), int64(5), object(7)\n",
      "memory usage: 20.7+ MB\n"
     ]
    }
   ],
   "source": [
    "df.info()"
   ]
  },
  {
   "cell_type": "markdown",
   "metadata": {},
   "source": [
    "*Double check that we don't have duplicated rows"
   ]
  },
  {
   "cell_type": "code",
   "execution_count": 39,
   "metadata": {
    "collapsed": false
   },
   "outputs": [
    {
     "name": "stdout",
     "output_type": "stream",
     "text": [
      "Total unique Customer IDs:  135696\n",
      "Total entries:  135696\n"
     ]
    }
   ],
   "source": [
    "print \"Total unique Customer IDs: \", df['Customer ID'].nunique()\n",
    "print \"Total entries: \", len(df)"
   ]
  },
  {
   "cell_type": "markdown",
   "metadata": {},
   "source": [
    "*Let's take a look at \"Years in current job\" column - removing the strings by deleting \"years and +\"; converting it to int; converting n/a and <1 to 0"
   ]
  },
  {
   "cell_type": "code",
   "execution_count": 40,
   "metadata": {
    "collapsed": true
   },
   "outputs": [],
   "source": [
    "df['Years in current job'] = df['Years in current job'].map(lambda x: '0' if x == 'n/a' else x) \n",
    "df['Years in current job'] = df['Years in current job'].map(lambda x: '0' if x == '< 1 year' else x)\n",
    "df['Years in current job'] = df['Years in current job'].replace( '[\\+ years]','', regex=True).astype(np.int64) "
   ]
  },
  {
   "cell_type": "code",
   "execution_count": 41,
   "metadata": {
    "collapsed": false
   },
   "outputs": [
    {
     "data": {
      "text/plain": [
       "array([10,  4,  6,  0,  2,  5,  3,  1,  7,  9,  8])"
      ]
     },
     "execution_count": 41,
     "metadata": {},
     "output_type": "execute_result"
    }
   ],
   "source": [
    "df['Years in current job'].unique()"
   ]
  },
  {
   "cell_type": "markdown",
   "metadata": {},
   "source": [
    "*Now, we we have integers only for \"Years in current job\" column"
   ]
  },
  {
   "cell_type": "markdown",
   "metadata": {},
   "source": [
    "*Converting \"Loan Status\" to binary output for easy modeling : Fully paid = 1"
   ]
  },
  {
   "cell_type": "code",
   "execution_count": 42,
   "metadata": {
    "collapsed": true
   },
   "outputs": [],
   "source": [
    "df['Loan Status'] = df['Loan Status'].map(lambda x: 1 if x == 'Fully Paid' else 0) "
   ]
  },
  {
   "cell_type": "code",
   "execution_count": 43,
   "metadata": {
    "collapsed": false
   },
   "outputs": [
    {
     "data": {
      "text/plain": [
       "array([1, 0])"
      ]
     },
     "execution_count": 43,
     "metadata": {},
     "output_type": "execute_result"
    }
   ],
   "source": [
    "df['Loan Status'].unique()"
   ]
  },
  {
   "cell_type": "markdown",
   "metadata": {},
   "source": [
    "*Converting \"Term\" to binary output for easy modeling: Long Term  = 1"
   ]
  },
  {
   "cell_type": "code",
   "execution_count": 44,
   "metadata": {
    "collapsed": false
   },
   "outputs": [],
   "source": [
    "df['Term'] = df['Term'].map(lambda x: 1 if x == 'Long Term' else 0)"
   ]
  },
  {
   "cell_type": "code",
   "execution_count": 45,
   "metadata": {
    "collapsed": false
   },
   "outputs": [
    {
     "data": {
      "text/plain": [
       "array([0, 1])"
      ]
     },
     "execution_count": 45,
     "metadata": {},
     "output_type": "execute_result"
    }
   ],
   "source": [
    "df['Term'].unique()"
   ]
  },
  {
   "cell_type": "code",
   "execution_count": 46,
   "metadata": {
    "collapsed": false,
    "scrolled": true
   },
   "outputs": [
    {
     "name": "stdout",
     "output_type": "stream",
     "text": [
      "<class 'pandas.core.frame.DataFrame'>\n",
      "Int64Index: 135696 entries, 0 to 256983\n",
      "Data columns (total 19 columns):\n",
      "Loan ID                         135696 non-null object\n",
      "Customer ID                     135696 non-null object\n",
      "Loan Status                     135696 non-null int64\n",
      "Current Loan Amount             135696 non-null int64\n",
      "Term                            135696 non-null int64\n",
      "Credit Score                    135696 non-null int64\n",
      "Years in current job            135696 non-null int64\n",
      "Home Ownership                  135696 non-null object\n",
      "Annual Income                   135696 non-null float64\n",
      "Purpose                         135696 non-null object\n",
      "Monthly Debt                    135696 non-null float64\n",
      "Years of Credit History         135696 non-null float64\n",
      "Months since last delinquent    135696 non-null float64\n",
      "Number of Open Accounts         135696 non-null int64\n",
      "Number of Credit Problems       135696 non-null int64\n",
      "Current Credit Balance          135696 non-null int64\n",
      "Maximum Open Credit             135696 non-null float64\n",
      "Bankruptcies                    135696 non-null float64\n",
      "Tax Liens                       135696 non-null float64\n",
      "dtypes: float64(7), int64(8), object(4)\n",
      "memory usage: 20.7+ MB\n"
     ]
    }
   ],
   "source": [
    "df.info()"
   ]
  },
  {
   "cell_type": "markdown",
   "metadata": {},
   "source": [
    "*Feature engineering 1: Credit Utilization Rate = sum of outstanding balance / credit card's limit; \n",
    "*In our case, Credit Utilization Rate = Current Credit Balance / Maximum Open Credit"
   ]
  },
  {
   "cell_type": "code",
   "execution_count": 47,
   "metadata": {
    "collapsed": true
   },
   "outputs": [],
   "source": [
    "df['Credit Utilization'] = df['Current Credit Balance'].div(df['Maximum Open Credit'] + 1, axis='index')"
   ]
  },
  {
   "cell_type": "code",
   "execution_count": 48,
   "metadata": {
    "collapsed": false
   },
   "outputs": [
    {
     "data": {
      "text/plain": [
       "count    135696.000000\n",
       "mean         29.092050\n",
       "std        1536.194716\n",
       "min           0.000000\n",
       "25%           0.369991\n",
       "50%           0.562006\n",
       "75%           0.741875\n",
       "max      236458.000000\n",
       "Name: Credit Utilization, dtype: float64"
      ]
     },
     "execution_count": 48,
     "metadata": {},
     "output_type": "execute_result"
    }
   ],
   "source": [
    "df['Credit Utilization'].describe()"
   ]
  },
  {
   "cell_type": "markdown",
   "metadata": {
    "collapsed": true
   },
   "source": [
    "*Feature engineering 2: Payment Rate = (Monthly Debt ** 12) / Annual Income = Annual Payment / Annual Income ;     Add 1 to this value"
   ]
  },
  {
   "cell_type": "code",
   "execution_count": 49,
   "metadata": {
    "collapsed": false
   },
   "outputs": [],
   "source": [
    "df['Annual Payment'] = df['Monthly Debt']*12"
   ]
  },
  {
   "cell_type": "code",
   "execution_count": 50,
   "metadata": {
    "collapsed": false
   },
   "outputs": [],
   "source": [
    "df['Payment Rate'] = df['Annual Payment'].div(df['Annual Income'] + 1, axis='index')"
   ]
  },
  {
   "cell_type": "code",
   "execution_count": 51,
   "metadata": {
    "collapsed": false
   },
   "outputs": [
    {
     "data": {
      "text/plain": [
       "count    135696.000000\n",
       "mean          0.170673\n",
       "std           0.079576\n",
       "min           0.000000\n",
       "25%           0.110999\n",
       "50%           0.166998\n",
       "75%           0.225999\n",
       "max           0.591982\n",
       "Name: Payment Rate, dtype: float64"
      ]
     },
     "execution_count": 51,
     "metadata": {},
     "output_type": "execute_result"
    }
   ],
   "source": [
    "df['Payment Rate'].describe()"
   ]
  },
  {
   "cell_type": "markdown",
   "metadata": {},
   "source": [
    "*Renaming all the columns to make it simple"
   ]
  },
  {
   "cell_type": "code",
   "execution_count": 52,
   "metadata": {
    "collapsed": false
   },
   "outputs": [
    {
     "data": {
      "text/html": [
       "<div>\n",
       "<table border=\"1\" class=\"dataframe\">\n",
       "  <thead>\n",
       "    <tr style=\"text-align: right;\">\n",
       "      <th></th>\n",
       "      <th>Loan ID</th>\n",
       "      <th>Customer ID</th>\n",
       "      <th>y</th>\n",
       "      <th>a</th>\n",
       "      <th>b</th>\n",
       "      <th>c</th>\n",
       "      <th>d</th>\n",
       "      <th>e</th>\n",
       "      <th>f</th>\n",
       "      <th>g</th>\n",
       "      <th>...</th>\n",
       "      <th>Months since last delinquent</th>\n",
       "      <th>j</th>\n",
       "      <th>k</th>\n",
       "      <th>l</th>\n",
       "      <th>m</th>\n",
       "      <th>n</th>\n",
       "      <th>o</th>\n",
       "      <th>p</th>\n",
       "      <th>Annual Payment</th>\n",
       "      <th>q</th>\n",
       "    </tr>\n",
       "  </thead>\n",
       "  <tbody>\n",
       "    <tr>\n",
       "      <th>0</th>\n",
       "      <td>000025bb-5694-4cff-b17d-192b1a98ba44</td>\n",
       "      <td>5ebc8bb1-5eb9-4404-b11b-a6eebc401a19</td>\n",
       "      <td>1</td>\n",
       "      <td>11520</td>\n",
       "      <td>0</td>\n",
       "      <td>741</td>\n",
       "      <td>10</td>\n",
       "      <td>Home Mortgage</td>\n",
       "      <td>33694.0</td>\n",
       "      <td>Debt Consolidation</td>\n",
       "      <td>...</td>\n",
       "      <td>41.0</td>\n",
       "      <td>10</td>\n",
       "      <td>0</td>\n",
       "      <td>6760</td>\n",
       "      <td>16056.0</td>\n",
       "      <td>0.0</td>\n",
       "      <td>0.0</td>\n",
       "      <td>0.421000</td>\n",
       "      <td>7008.36</td>\n",
       "      <td>0.207994</td>\n",
       "    </tr>\n",
       "    <tr>\n",
       "      <th>1</th>\n",
       "      <td>00002c49-3a29-4bd4-8f67-c8f8fbc1048c</td>\n",
       "      <td>927b388d-2e01-423f-a8dc-f7e42d668f46</td>\n",
       "      <td>1</td>\n",
       "      <td>3441</td>\n",
       "      <td>0</td>\n",
       "      <td>734</td>\n",
       "      <td>4</td>\n",
       "      <td>Home Mortgage</td>\n",
       "      <td>42269.0</td>\n",
       "      <td>Other</td>\n",
       "      <td>...</td>\n",
       "      <td>200.0</td>\n",
       "      <td>17</td>\n",
       "      <td>0</td>\n",
       "      <td>6262</td>\n",
       "      <td>19149.0</td>\n",
       "      <td>0.0</td>\n",
       "      <td>0.0</td>\n",
       "      <td>0.326997</td>\n",
       "      <td>13272.48</td>\n",
       "      <td>0.313993</td>\n",
       "    </tr>\n",
       "    <tr>\n",
       "      <th>2</th>\n",
       "      <td>00002d89-27f3-409b-aa76-90834f359a65</td>\n",
       "      <td>defce609-c631-447d-aad6-1270615e89c4</td>\n",
       "      <td>1</td>\n",
       "      <td>21029</td>\n",
       "      <td>0</td>\n",
       "      <td>747</td>\n",
       "      <td>10</td>\n",
       "      <td>Home Mortgage</td>\n",
       "      <td>90126.0</td>\n",
       "      <td>Debt Consolidation</td>\n",
       "      <td>...</td>\n",
       "      <td>200.0</td>\n",
       "      <td>5</td>\n",
       "      <td>0</td>\n",
       "      <td>20967</td>\n",
       "      <td>28335.0</td>\n",
       "      <td>0.0</td>\n",
       "      <td>0.0</td>\n",
       "      <td>0.739942</td>\n",
       "      <td>15862.20</td>\n",
       "      <td>0.175998</td>\n",
       "    </tr>\n",
       "    <tr>\n",
       "      <th>3</th>\n",
       "      <td>00005222-b4d8-45a4-ad8c-186057e24233</td>\n",
       "      <td>070bcecb-aae7-4485-a26a-e0403e7bb6c5</td>\n",
       "      <td>1</td>\n",
       "      <td>18743</td>\n",
       "      <td>0</td>\n",
       "      <td>747</td>\n",
       "      <td>10</td>\n",
       "      <td>Own Home</td>\n",
       "      <td>38072.0</td>\n",
       "      <td>Debt Consolidation</td>\n",
       "      <td>...</td>\n",
       "      <td>200.0</td>\n",
       "      <td>9</td>\n",
       "      <td>0</td>\n",
       "      <td>22529</td>\n",
       "      <td>43915.0</td>\n",
       "      <td>0.0</td>\n",
       "      <td>0.0</td>\n",
       "      <td>0.513002</td>\n",
       "      <td>9023.04</td>\n",
       "      <td>0.236993</td>\n",
       "    </tr>\n",
       "    <tr>\n",
       "      <th>4</th>\n",
       "      <td>0000757f-a121-41ed-b17b-162e76647c1f</td>\n",
       "      <td>dde79588-12f0-4811-bab0-e2b07f633fcd</td>\n",
       "      <td>1</td>\n",
       "      <td>11731</td>\n",
       "      <td>0</td>\n",
       "      <td>746</td>\n",
       "      <td>4</td>\n",
       "      <td>Rent</td>\n",
       "      <td>50025.0</td>\n",
       "      <td>Debt Consolidation</td>\n",
       "      <td>...</td>\n",
       "      <td>200.0</td>\n",
       "      <td>12</td>\n",
       "      <td>0</td>\n",
       "      <td>17391</td>\n",
       "      <td>37081.0</td>\n",
       "      <td>0.0</td>\n",
       "      <td>0.0</td>\n",
       "      <td>0.468988</td>\n",
       "      <td>4262.16</td>\n",
       "      <td>0.085199</td>\n",
       "    </tr>\n",
       "    <tr>\n",
       "      <th>5</th>\n",
       "      <td>0000a149-b055-4a57-b762-280783ccc25e</td>\n",
       "      <td>62ddc017-7023-4ba7-af23-1a7cd16c1ce5</td>\n",
       "      <td>1</td>\n",
       "      <td>10208</td>\n",
       "      <td>0</td>\n",
       "      <td>716</td>\n",
       "      <td>10</td>\n",
       "      <td>Rent</td>\n",
       "      <td>41853.0</td>\n",
       "      <td>Business Loan</td>\n",
       "      <td>...</td>\n",
       "      <td>200.0</td>\n",
       "      <td>4</td>\n",
       "      <td>1</td>\n",
       "      <td>2289</td>\n",
       "      <td>4671.0</td>\n",
       "      <td>1.0</td>\n",
       "      <td>0.0</td>\n",
       "      <td>0.489940</td>\n",
       "      <td>6738.24</td>\n",
       "      <td>0.160994</td>\n",
       "    </tr>\n",
       "    <tr>\n",
       "      <th>6</th>\n",
       "      <td>0000afa6-8902-4f8f-b870-25a8fdad0aeb</td>\n",
       "      <td>e49c1a82-a0f7-45e8-9f46-2f75c43f9fbc</td>\n",
       "      <td>0</td>\n",
       "      <td>24613</td>\n",
       "      <td>1</td>\n",
       "      <td>664</td>\n",
       "      <td>6</td>\n",
       "      <td>Rent</td>\n",
       "      <td>49225.0</td>\n",
       "      <td>Business Loan</td>\n",
       "      <td>...</td>\n",
       "      <td>73.0</td>\n",
       "      <td>7</td>\n",
       "      <td>0</td>\n",
       "      <td>14123</td>\n",
       "      <td>16954.0</td>\n",
       "      <td>0.0</td>\n",
       "      <td>0.0</td>\n",
       "      <td>0.832970</td>\n",
       "      <td>6507.48</td>\n",
       "      <td>0.132196</td>\n",
       "    </tr>\n",
       "    <tr>\n",
       "      <th>9</th>\n",
       "      <td>0001cb86-af28-4011-bb86-183786e473ae</td>\n",
       "      <td>4aae67bb-d54b-41ae-8bce-1d62022ed8dd</td>\n",
       "      <td>1</td>\n",
       "      <td>2036</td>\n",
       "      <td>0</td>\n",
       "      <td>733</td>\n",
       "      <td>0</td>\n",
       "      <td>Home Mortgage</td>\n",
       "      <td>55985.0</td>\n",
       "      <td>Debt Consolidation</td>\n",
       "      <td>...</td>\n",
       "      <td>29.0</td>\n",
       "      <td>7</td>\n",
       "      <td>0</td>\n",
       "      <td>10926</td>\n",
       "      <td>15676.0</td>\n",
       "      <td>0.0</td>\n",
       "      <td>0.0</td>\n",
       "      <td>0.696945</td>\n",
       "      <td>8901.48</td>\n",
       "      <td>0.158995</td>\n",
       "    </tr>\n",
       "    <tr>\n",
       "      <th>11</th>\n",
       "      <td>0002593b-4973-4f28-8d1c-2b323a125863</td>\n",
       "      <td>c1322b41-c3f5-4395-bda7-a61f848c1f7e</td>\n",
       "      <td>1</td>\n",
       "      <td>10233</td>\n",
       "      <td>0</td>\n",
       "      <td>742</td>\n",
       "      <td>2</td>\n",
       "      <td>Home Mortgage</td>\n",
       "      <td>153495.0</td>\n",
       "      <td>Home Improvements</td>\n",
       "      <td>...</td>\n",
       "      <td>200.0</td>\n",
       "      <td>8</td>\n",
       "      <td>0</td>\n",
       "      <td>32630</td>\n",
       "      <td>41726.0</td>\n",
       "      <td>0.0</td>\n",
       "      <td>0.0</td>\n",
       "      <td>0.781988</td>\n",
       "      <td>18879.84</td>\n",
       "      <td>0.122999</td>\n",
       "    </tr>\n",
       "    <tr>\n",
       "      <th>13</th>\n",
       "      <td>00029f9f-0cc5-4d4e-aabc-ea4a7fe74e12</td>\n",
       "      <td>afbc2fa3-3bad-4d48-b691-829aed78bad5</td>\n",
       "      <td>0</td>\n",
       "      <td>17961</td>\n",
       "      <td>0</td>\n",
       "      <td>701</td>\n",
       "      <td>0</td>\n",
       "      <td>Own Home</td>\n",
       "      <td>53053.0</td>\n",
       "      <td>Debt Consolidation</td>\n",
       "      <td>...</td>\n",
       "      <td>43.0</td>\n",
       "      <td>7</td>\n",
       "      <td>0</td>\n",
       "      <td>6810</td>\n",
       "      <td>22775.0</td>\n",
       "      <td>0.0</td>\n",
       "      <td>0.0</td>\n",
       "      <td>0.298999</td>\n",
       "      <td>7162.20</td>\n",
       "      <td>0.134998</td>\n",
       "    </tr>\n",
       "    <tr>\n",
       "      <th>17</th>\n",
       "      <td>000306fc-516c-48c3-b1c7-7889185dd694</td>\n",
       "      <td>df5577f6-6db3-47ae-9bd7-c4ef7233b4ff</td>\n",
       "      <td>1</td>\n",
       "      <td>7587</td>\n",
       "      <td>0</td>\n",
       "      <td>744</td>\n",
       "      <td>5</td>\n",
       "      <td>Home Mortgage</td>\n",
       "      <td>50580.0</td>\n",
       "      <td>Debt Consolidation</td>\n",
       "      <td>...</td>\n",
       "      <td>200.0</td>\n",
       "      <td>9</td>\n",
       "      <td>0</td>\n",
       "      <td>8519</td>\n",
       "      <td>15982.0</td>\n",
       "      <td>0.0</td>\n",
       "      <td>0.0</td>\n",
       "      <td>0.533004</td>\n",
       "      <td>5412.00</td>\n",
       "      <td>0.106997</td>\n",
       "    </tr>\n",
       "    <tr>\n",
       "      <th>18</th>\n",
       "      <td>00035328-2636-4390-8322-5841de482d2b</td>\n",
       "      <td>28eb75ac-6a09-4057-b73f-726c72ebf933</td>\n",
       "      <td>0</td>\n",
       "      <td>11604</td>\n",
       "      <td>0</td>\n",
       "      <td>729</td>\n",
       "      <td>6</td>\n",
       "      <td>Home Mortgage</td>\n",
       "      <td>35315.0</td>\n",
       "      <td>Debt Consolidation</td>\n",
       "      <td>...</td>\n",
       "      <td>200.0</td>\n",
       "      <td>12</td>\n",
       "      <td>0</td>\n",
       "      <td>17092</td>\n",
       "      <td>20743.0</td>\n",
       "      <td>0.0</td>\n",
       "      <td>0.0</td>\n",
       "      <td>0.823949</td>\n",
       "      <td>7945.92</td>\n",
       "      <td>0.224995</td>\n",
       "    </tr>\n",
       "    <tr>\n",
       "      <th>21</th>\n",
       "      <td>00038a08-f058-4add-a8ed-497b91672a9e</td>\n",
       "      <td>727bb429-dfa1-41c4-a347-23230e23949f</td>\n",
       "      <td>0</td>\n",
       "      <td>16929</td>\n",
       "      <td>1</td>\n",
       "      <td>734</td>\n",
       "      <td>3</td>\n",
       "      <td>Home Mortgage</td>\n",
       "      <td>40308.0</td>\n",
       "      <td>Debt Consolidation</td>\n",
       "      <td>...</td>\n",
       "      <td>200.0</td>\n",
       "      <td>10</td>\n",
       "      <td>0</td>\n",
       "      <td>28513</td>\n",
       "      <td>101110.0</td>\n",
       "      <td>0.0</td>\n",
       "      <td>0.0</td>\n",
       "      <td>0.281997</td>\n",
       "      <td>8948.40</td>\n",
       "      <td>0.221995</td>\n",
       "    </tr>\n",
       "    <tr>\n",
       "      <th>24</th>\n",
       "      <td>00045ecd-59e9-4752-ba0d-679ff71692b3</td>\n",
       "      <td>b7bce684-b4b0-4b29-af66-eae316bce573</td>\n",
       "      <td>1</td>\n",
       "      <td>11863</td>\n",
       "      <td>0</td>\n",
       "      <td>734</td>\n",
       "      <td>10</td>\n",
       "      <td>Own Home</td>\n",
       "      <td>69202.0</td>\n",
       "      <td>Debt Consolidation</td>\n",
       "      <td>...</td>\n",
       "      <td>200.0</td>\n",
       "      <td>7</td>\n",
       "      <td>0</td>\n",
       "      <td>9959</td>\n",
       "      <td>16995.0</td>\n",
       "      <td>0.0</td>\n",
       "      <td>0.0</td>\n",
       "      <td>0.585961</td>\n",
       "      <td>10311.12</td>\n",
       "      <td>0.148998</td>\n",
       "    </tr>\n",
       "    <tr>\n",
       "      <th>25</th>\n",
       "      <td>0004c11a-bacd-4bd0-98d0-efae9cce56e9</td>\n",
       "      <td>c57b1bbd-6be6-4265-a581-01a96f4a9213</td>\n",
       "      <td>1</td>\n",
       "      <td>15395</td>\n",
       "      <td>1</td>\n",
       "      <td>733</td>\n",
       "      <td>5</td>\n",
       "      <td>Home Mortgage</td>\n",
       "      <td>51984.0</td>\n",
       "      <td>Debt Consolidation</td>\n",
       "      <td>...</td>\n",
       "      <td>200.0</td>\n",
       "      <td>9</td>\n",
       "      <td>0</td>\n",
       "      <td>2184</td>\n",
       "      <td>8989.0</td>\n",
       "      <td>0.0</td>\n",
       "      <td>0.0</td>\n",
       "      <td>0.242937</td>\n",
       "      <td>5718.36</td>\n",
       "      <td>0.110000</td>\n",
       "    </tr>\n",
       "    <tr>\n",
       "      <th>27</th>\n",
       "      <td>0004d139-d1fb-44ca-9fa5-f5e2d042b81f</td>\n",
       "      <td>587000a6-a421-417b-a5d5-6b8a04345913</td>\n",
       "      <td>1</td>\n",
       "      <td>16906</td>\n",
       "      <td>1</td>\n",
       "      <td>728</td>\n",
       "      <td>10</td>\n",
       "      <td>Home Mortgage</td>\n",
       "      <td>204920.0</td>\n",
       "      <td>Debt Consolidation</td>\n",
       "      <td>...</td>\n",
       "      <td>200.0</td>\n",
       "      <td>14</td>\n",
       "      <td>0</td>\n",
       "      <td>47201</td>\n",
       "      <td>54068.0</td>\n",
       "      <td>0.0</td>\n",
       "      <td>0.0</td>\n",
       "      <td>0.872977</td>\n",
       "      <td>26229.72</td>\n",
       "      <td>0.127999</td>\n",
       "    </tr>\n",
       "    <tr>\n",
       "      <th>29</th>\n",
       "      <td>000582b2-2b2e-4290-9360-43e3a93b57c2</td>\n",
       "      <td>bafabc36-a32f-489c-9531-896ff66c9171</td>\n",
       "      <td>1</td>\n",
       "      <td>16080</td>\n",
       "      <td>1</td>\n",
       "      <td>692</td>\n",
       "      <td>10</td>\n",
       "      <td>Rent</td>\n",
       "      <td>63315.0</td>\n",
       "      <td>Debt Consolidation</td>\n",
       "      <td>...</td>\n",
       "      <td>200.0</td>\n",
       "      <td>10</td>\n",
       "      <td>0</td>\n",
       "      <td>9126</td>\n",
       "      <td>13662.0</td>\n",
       "      <td>0.0</td>\n",
       "      <td>0.0</td>\n",
       "      <td>0.667935</td>\n",
       "      <td>3862.20</td>\n",
       "      <td>0.060999</td>\n",
       "    </tr>\n",
       "    <tr>\n",
       "      <th>30</th>\n",
       "      <td>0005f59b-5f14-4290-ba97-a8c749bb5824</td>\n",
       "      <td>3d8be9ee-a74d-409e-9b62-15e7d33a2929</td>\n",
       "      <td>1</td>\n",
       "      <td>10529</td>\n",
       "      <td>0</td>\n",
       "      <td>739</td>\n",
       "      <td>10</td>\n",
       "      <td>Rent</td>\n",
       "      <td>56694.0</td>\n",
       "      <td>Debt Consolidation</td>\n",
       "      <td>...</td>\n",
       "      <td>15.0</td>\n",
       "      <td>16</td>\n",
       "      <td>0</td>\n",
       "      <td>24461</td>\n",
       "      <td>42392.0</td>\n",
       "      <td>0.0</td>\n",
       "      <td>0.0</td>\n",
       "      <td>0.577006</td>\n",
       "      <td>12983.04</td>\n",
       "      <td>0.228998</td>\n",
       "    </tr>\n",
       "    <tr>\n",
       "      <th>31</th>\n",
       "      <td>0006572c-9567-484d-b49b-bfe06536aa96</td>\n",
       "      <td>c1a7ba66-9f36-4f5c-86cd-1aa7ad68b954</td>\n",
       "      <td>0</td>\n",
       "      <td>14727</td>\n",
       "      <td>0</td>\n",
       "      <td>740</td>\n",
       "      <td>3</td>\n",
       "      <td>Home Mortgage</td>\n",
       "      <td>70690.0</td>\n",
       "      <td>Debt Consolidation</td>\n",
       "      <td>...</td>\n",
       "      <td>27.0</td>\n",
       "      <td>12</td>\n",
       "      <td>0</td>\n",
       "      <td>43375</td>\n",
       "      <td>225911.0</td>\n",
       "      <td>0.0</td>\n",
       "      <td>0.0</td>\n",
       "      <td>0.192000</td>\n",
       "      <td>13006.92</td>\n",
       "      <td>0.183997</td>\n",
       "    </tr>\n",
       "    <tr>\n",
       "      <th>33</th>\n",
       "      <td>00069ff1-a877-4d35-81be-7cd359b99956</td>\n",
       "      <td>ee3c27f2-766a-499c-9a96-d17c4d2faa16</td>\n",
       "      <td>1</td>\n",
       "      <td>1433</td>\n",
       "      <td>0</td>\n",
       "      <td>716</td>\n",
       "      <td>10</td>\n",
       "      <td>Home Mortgage</td>\n",
       "      <td>108735.0</td>\n",
       "      <td>Home Improvements</td>\n",
       "      <td>...</td>\n",
       "      <td>5.0</td>\n",
       "      <td>22</td>\n",
       "      <td>0</td>\n",
       "      <td>27706</td>\n",
       "      <td>49563.0</td>\n",
       "      <td>0.0</td>\n",
       "      <td>0.0</td>\n",
       "      <td>0.558994</td>\n",
       "      <td>31533.12</td>\n",
       "      <td>0.289997</td>\n",
       "    </tr>\n",
       "    <tr>\n",
       "      <th>34</th>\n",
       "      <td>0007276b-a2e1-4096-8777-96a44684707d</td>\n",
       "      <td>3fd8aa1e-6ddd-4d67-b2c1-2a78c082d146</td>\n",
       "      <td>1</td>\n",
       "      <td>17484</td>\n",
       "      <td>1</td>\n",
       "      <td>607</td>\n",
       "      <td>10</td>\n",
       "      <td>Home Mortgage</td>\n",
       "      <td>76920.0</td>\n",
       "      <td>Debt Consolidation</td>\n",
       "      <td>...</td>\n",
       "      <td>200.0</td>\n",
       "      <td>9</td>\n",
       "      <td>0</td>\n",
       "      <td>41603</td>\n",
       "      <td>45971.0</td>\n",
       "      <td>0.0</td>\n",
       "      <td>0.0</td>\n",
       "      <td>0.904964</td>\n",
       "      <td>21075.96</td>\n",
       "      <td>0.273995</td>\n",
       "    </tr>\n",
       "    <tr>\n",
       "      <th>35</th>\n",
       "      <td>0007293a-065c-4513-bfd2-e1732fa5439e</td>\n",
       "      <td>c9e40e26-910f-4f04-b640-829478fac10c</td>\n",
       "      <td>1</td>\n",
       "      <td>5111</td>\n",
       "      <td>0</td>\n",
       "      <td>735</td>\n",
       "      <td>10</td>\n",
       "      <td>Home Mortgage</td>\n",
       "      <td>45999.0</td>\n",
       "      <td>Debt Consolidation</td>\n",
       "      <td>...</td>\n",
       "      <td>200.0</td>\n",
       "      <td>11</td>\n",
       "      <td>0</td>\n",
       "      <td>26722</td>\n",
       "      <td>39766.0</td>\n",
       "      <td>0.0</td>\n",
       "      <td>0.0</td>\n",
       "      <td>0.671964</td>\n",
       "      <td>11223.72</td>\n",
       "      <td>0.243994</td>\n",
       "    </tr>\n",
       "    <tr>\n",
       "      <th>36</th>\n",
       "      <td>000795b0-d767-42bf-837a-80d5b78c1e50</td>\n",
       "      <td>b533c78c-3096-4914-acb1-5453c0ff76a4</td>\n",
       "      <td>0</td>\n",
       "      <td>19731</td>\n",
       "      <td>1</td>\n",
       "      <td>623</td>\n",
       "      <td>3</td>\n",
       "      <td>Rent</td>\n",
       "      <td>43846.0</td>\n",
       "      <td>Buy House</td>\n",
       "      <td>...</td>\n",
       "      <td>55.0</td>\n",
       "      <td>13</td>\n",
       "      <td>1</td>\n",
       "      <td>9031</td>\n",
       "      <td>17955.0</td>\n",
       "      <td>1.0</td>\n",
       "      <td>0.0</td>\n",
       "      <td>0.502952</td>\n",
       "      <td>8856.96</td>\n",
       "      <td>0.201997</td>\n",
       "    </tr>\n",
       "    <tr>\n",
       "      <th>39</th>\n",
       "      <td>0008a65c-3054-4b5d-931d-8352021f813d</td>\n",
       "      <td>04513d99-d809-4eb6-b4bb-6abc767d861e</td>\n",
       "      <td>0</td>\n",
       "      <td>7066</td>\n",
       "      <td>0</td>\n",
       "      <td>741</td>\n",
       "      <td>10</td>\n",
       "      <td>Own Home</td>\n",
       "      <td>60564.0</td>\n",
       "      <td>Debt Consolidation</td>\n",
       "      <td>...</td>\n",
       "      <td>56.0</td>\n",
       "      <td>4</td>\n",
       "      <td>0</td>\n",
       "      <td>6229</td>\n",
       "      <td>9242.0</td>\n",
       "      <td>0.0</td>\n",
       "      <td>0.0</td>\n",
       "      <td>0.673915</td>\n",
       "      <td>8478.96</td>\n",
       "      <td>0.139998</td>\n",
       "    </tr>\n",
       "    <tr>\n",
       "      <th>41</th>\n",
       "      <td>0008b9bc-c0a0-4575-9d49-6bfc5589b566</td>\n",
       "      <td>591971e4-611f-47ea-b7ee-e345d6f0683f</td>\n",
       "      <td>1</td>\n",
       "      <td>7911</td>\n",
       "      <td>0</td>\n",
       "      <td>729</td>\n",
       "      <td>10</td>\n",
       "      <td>Rent</td>\n",
       "      <td>18025.0</td>\n",
       "      <td>Debt Consolidation</td>\n",
       "      <td>...</td>\n",
       "      <td>25.0</td>\n",
       "      <td>11</td>\n",
       "      <td>0</td>\n",
       "      <td>2863</td>\n",
       "      <td>10723.0</td>\n",
       "      <td>0.0</td>\n",
       "      <td>0.0</td>\n",
       "      <td>0.266971</td>\n",
       "      <td>6020.40</td>\n",
       "      <td>0.333984</td>\n",
       "    </tr>\n",
       "    <tr>\n",
       "      <th>43</th>\n",
       "      <td>0008f2b0-d440-410f-9174-ffa51ee2154b</td>\n",
       "      <td>fa852dd1-b8a2-401d-b203-c6b91662eb81</td>\n",
       "      <td>1</td>\n",
       "      <td>33261</td>\n",
       "      <td>1</td>\n",
       "      <td>737</td>\n",
       "      <td>5</td>\n",
       "      <td>Home Mortgage</td>\n",
       "      <td>84254.0</td>\n",
       "      <td>Debt Consolidation</td>\n",
       "      <td>...</td>\n",
       "      <td>200.0</td>\n",
       "      <td>13</td>\n",
       "      <td>0</td>\n",
       "      <td>14633</td>\n",
       "      <td>28919.0</td>\n",
       "      <td>0.0</td>\n",
       "      <td>0.0</td>\n",
       "      <td>0.505982</td>\n",
       "      <td>13649.16</td>\n",
       "      <td>0.161998</td>\n",
       "    </tr>\n",
       "    <tr>\n",
       "      <th>44</th>\n",
       "      <td>0009af13-7b88-4e14-b972-35b146a1a66e</td>\n",
       "      <td>960b78b4-b39a-4498-a1d2-60858daa8cff</td>\n",
       "      <td>1</td>\n",
       "      <td>15875</td>\n",
       "      <td>1</td>\n",
       "      <td>746</td>\n",
       "      <td>10</td>\n",
       "      <td>Home Mortgage</td>\n",
       "      <td>99220.0</td>\n",
       "      <td>Debt Consolidation</td>\n",
       "      <td>...</td>\n",
       "      <td>27.0</td>\n",
       "      <td>34</td>\n",
       "      <td>0</td>\n",
       "      <td>11526</td>\n",
       "      <td>149693.0</td>\n",
       "      <td>0.0</td>\n",
       "      <td>0.0</td>\n",
       "      <td>0.076997</td>\n",
       "      <td>21431.52</td>\n",
       "      <td>0.215998</td>\n",
       "    </tr>\n",
       "    <tr>\n",
       "      <th>45</th>\n",
       "      <td>0009bf47-92b9-4ab5-b539-dd649025c557</td>\n",
       "      <td>72ab1e49-579e-4206-a27c-66f65ea7b709</td>\n",
       "      <td>1</td>\n",
       "      <td>11313</td>\n",
       "      <td>0</td>\n",
       "      <td>741</td>\n",
       "      <td>10</td>\n",
       "      <td>Own Home</td>\n",
       "      <td>80663.0</td>\n",
       "      <td>Debt Consolidation</td>\n",
       "      <td>...</td>\n",
       "      <td>200.0</td>\n",
       "      <td>9</td>\n",
       "      <td>0</td>\n",
       "      <td>7723</td>\n",
       "      <td>12105.0</td>\n",
       "      <td>0.0</td>\n",
       "      <td>0.0</td>\n",
       "      <td>0.637948</td>\n",
       "      <td>15003.36</td>\n",
       "      <td>0.185998</td>\n",
       "    </tr>\n",
       "    <tr>\n",
       "      <th>47</th>\n",
       "      <td>000a08fa-e669-46dc-9a96-9da6b96570a0</td>\n",
       "      <td>4b7782a6-b84c-4dd9-ac62-f927a68eeaa9</td>\n",
       "      <td>0</td>\n",
       "      <td>21160</td>\n",
       "      <td>1</td>\n",
       "      <td>636</td>\n",
       "      <td>5</td>\n",
       "      <td>Home Mortgage</td>\n",
       "      <td>77770.0</td>\n",
       "      <td>Debt Consolidation</td>\n",
       "      <td>...</td>\n",
       "      <td>200.0</td>\n",
       "      <td>28</td>\n",
       "      <td>0</td>\n",
       "      <td>28175</td>\n",
       "      <td>51227.0</td>\n",
       "      <td>0.0</td>\n",
       "      <td>0.0</td>\n",
       "      <td>0.549992</td>\n",
       "      <td>15491.76</td>\n",
       "      <td>0.199197</td>\n",
       "    </tr>\n",
       "    <tr>\n",
       "      <th>48</th>\n",
       "      <td>000a0abe-b839-414d-9b00-8ba33b47ebce</td>\n",
       "      <td>b2f4c91c-0157-4529-af67-35ffeac65389</td>\n",
       "      <td>1</td>\n",
       "      <td>3508</td>\n",
       "      <td>0</td>\n",
       "      <td>736</td>\n",
       "      <td>10</td>\n",
       "      <td>Home Mortgage</td>\n",
       "      <td>85191.0</td>\n",
       "      <td>Other</td>\n",
       "      <td>...</td>\n",
       "      <td>2.0</td>\n",
       "      <td>6</td>\n",
       "      <td>0</td>\n",
       "      <td>11643</td>\n",
       "      <td>25476.0</td>\n",
       "      <td>0.0</td>\n",
       "      <td>0.0</td>\n",
       "      <td>0.457000</td>\n",
       "      <td>4566.24</td>\n",
       "      <td>0.053599</td>\n",
       "    </tr>\n",
       "    <tr>\n",
       "      <th>...</th>\n",
       "      <td>...</td>\n",
       "      <td>...</td>\n",
       "      <td>...</td>\n",
       "      <td>...</td>\n",
       "      <td>...</td>\n",
       "      <td>...</td>\n",
       "      <td>...</td>\n",
       "      <td>...</td>\n",
       "      <td>...</td>\n",
       "      <td>...</td>\n",
       "      <td>...</td>\n",
       "      <td>...</td>\n",
       "      <td>...</td>\n",
       "      <td>...</td>\n",
       "      <td>...</td>\n",
       "      <td>...</td>\n",
       "      <td>...</td>\n",
       "      <td>...</td>\n",
       "      <td>...</td>\n",
       "      <td>...</td>\n",
       "      <td>...</td>\n",
       "    </tr>\n",
       "    <tr>\n",
       "      <th>256932</th>\n",
       "      <td>fff1c0cc-49ce-47f6-a0c1-e74a7d43fbe1</td>\n",
       "      <td>cb142142-3ff3-4ffe-87ed-4c0dd9fabb67</td>\n",
       "      <td>0</td>\n",
       "      <td>9681</td>\n",
       "      <td>0</td>\n",
       "      <td>732</td>\n",
       "      <td>8</td>\n",
       "      <td>Home Mortgage</td>\n",
       "      <td>33759.0</td>\n",
       "      <td>Other</td>\n",
       "      <td>...</td>\n",
       "      <td>200.0</td>\n",
       "      <td>17</td>\n",
       "      <td>0</td>\n",
       "      <td>24900</td>\n",
       "      <td>29857.0</td>\n",
       "      <td>0.0</td>\n",
       "      <td>0.0</td>\n",
       "      <td>0.833947</td>\n",
       "      <td>11444.16</td>\n",
       "      <td>0.338986</td>\n",
       "    </tr>\n",
       "    <tr>\n",
       "      <th>256937</th>\n",
       "      <td>fff2779e-9fe7-4db5-b566-48f43b58aa68</td>\n",
       "      <td>7ddd16c2-bf65-4b01-8b48-bbda8793c206</td>\n",
       "      <td>0</td>\n",
       "      <td>9976</td>\n",
       "      <td>0</td>\n",
       "      <td>733</td>\n",
       "      <td>1</td>\n",
       "      <td>Home Mortgage</td>\n",
       "      <td>124700.0</td>\n",
       "      <td>Debt Consolidation</td>\n",
       "      <td>...</td>\n",
       "      <td>16.0</td>\n",
       "      <td>16</td>\n",
       "      <td>0</td>\n",
       "      <td>6539</td>\n",
       "      <td>17074.0</td>\n",
       "      <td>0.0</td>\n",
       "      <td>0.0</td>\n",
       "      <td>0.382958</td>\n",
       "      <td>16086.36</td>\n",
       "      <td>0.128999</td>\n",
       "    </tr>\n",
       "    <tr>\n",
       "      <th>256940</th>\n",
       "      <td>fff355eb-8cc0-42c9-84bf-280c6664f785</td>\n",
       "      <td>14eabb7c-22f4-4060-9dce-b90ded55fef2</td>\n",
       "      <td>1</td>\n",
       "      <td>8112</td>\n",
       "      <td>0</td>\n",
       "      <td>716</td>\n",
       "      <td>0</td>\n",
       "      <td>Rent</td>\n",
       "      <td>30324.0</td>\n",
       "      <td>Debt Consolidation</td>\n",
       "      <td>...</td>\n",
       "      <td>200.0</td>\n",
       "      <td>5</td>\n",
       "      <td>0</td>\n",
       "      <td>1798</td>\n",
       "      <td>6760.0</td>\n",
       "      <td>0.0</td>\n",
       "      <td>0.0</td>\n",
       "      <td>0.265937</td>\n",
       "      <td>3062.76</td>\n",
       "      <td>0.100998</td>\n",
       "    </tr>\n",
       "    <tr>\n",
       "      <th>256941</th>\n",
       "      <td>fff3fa19-bb85-41f4-ba64-48b01c6d9a38</td>\n",
       "      <td>d6a7a8ab-bff0-4330-bc68-b68e80f793d1</td>\n",
       "      <td>1</td>\n",
       "      <td>34552</td>\n",
       "      <td>1</td>\n",
       "      <td>724</td>\n",
       "      <td>10</td>\n",
       "      <td>Home Mortgage</td>\n",
       "      <td>123400.0</td>\n",
       "      <td>Debt Consolidation</td>\n",
       "      <td>...</td>\n",
       "      <td>7.0</td>\n",
       "      <td>20</td>\n",
       "      <td>0</td>\n",
       "      <td>33031</td>\n",
       "      <td>56852.0</td>\n",
       "      <td>0.0</td>\n",
       "      <td>0.0</td>\n",
       "      <td>0.580990</td>\n",
       "      <td>18510.00</td>\n",
       "      <td>0.149999</td>\n",
       "    </tr>\n",
       "    <tr>\n",
       "      <th>256942</th>\n",
       "      <td>fff45ad2-1594-40d8-9e05-bb8880d7537f</td>\n",
       "      <td>a65b053e-ca23-43a5-b758-fef6157e6995</td>\n",
       "      <td>1</td>\n",
       "      <td>19898</td>\n",
       "      <td>0</td>\n",
       "      <td>732</td>\n",
       "      <td>10</td>\n",
       "      <td>Own Home</td>\n",
       "      <td>94516.0</td>\n",
       "      <td>Other</td>\n",
       "      <td>...</td>\n",
       "      <td>200.0</td>\n",
       "      <td>17</td>\n",
       "      <td>0</td>\n",
       "      <td>22532</td>\n",
       "      <td>44008.0</td>\n",
       "      <td>0.0</td>\n",
       "      <td>0.0</td>\n",
       "      <td>0.511986</td>\n",
       "      <td>8336.28</td>\n",
       "      <td>0.088199</td>\n",
       "    </tr>\n",
       "    <tr>\n",
       "      <th>256943</th>\n",
       "      <td>fff4be77-72c2-406e-87cf-ce4b88e958a1</td>\n",
       "      <td>17c0d376-2153-4b04-98d9-a6950f768686</td>\n",
       "      <td>1</td>\n",
       "      <td>10157</td>\n",
       "      <td>0</td>\n",
       "      <td>744</td>\n",
       "      <td>10</td>\n",
       "      <td>Home Mortgage</td>\n",
       "      <td>121884.0</td>\n",
       "      <td>Debt Consolidation</td>\n",
       "      <td>...</td>\n",
       "      <td>200.0</td>\n",
       "      <td>6</td>\n",
       "      <td>1</td>\n",
       "      <td>8738</td>\n",
       "      <td>11682.0</td>\n",
       "      <td>1.0</td>\n",
       "      <td>0.0</td>\n",
       "      <td>0.747924</td>\n",
       "      <td>7179.00</td>\n",
       "      <td>0.058900</td>\n",
       "    </tr>\n",
       "    <tr>\n",
       "      <th>256944</th>\n",
       "      <td>fff5063a-9366-4659-bdf3-bf8c6fafa9b5</td>\n",
       "      <td>4b13e0aa-ec50-472b-b8f1-60ee584bbbc9</td>\n",
       "      <td>1</td>\n",
       "      <td>5125</td>\n",
       "      <td>0</td>\n",
       "      <td>722</td>\n",
       "      <td>3</td>\n",
       "      <td>Rent</td>\n",
       "      <td>14349.0</td>\n",
       "      <td>Debt Consolidation</td>\n",
       "      <td>...</td>\n",
       "      <td>200.0</td>\n",
       "      <td>8</td>\n",
       "      <td>0</td>\n",
       "      <td>3457</td>\n",
       "      <td>12617.0</td>\n",
       "      <td>0.0</td>\n",
       "      <td>0.0</td>\n",
       "      <td>0.273974</td>\n",
       "      <td>898.20</td>\n",
       "      <td>0.062592</td>\n",
       "    </tr>\n",
       "    <tr>\n",
       "      <th>256945</th>\n",
       "      <td>fff55c39-500b-4f31-8139-cbce1d491976</td>\n",
       "      <td>2f946acd-d8d9-4f53-835f-64634d86490c</td>\n",
       "      <td>1</td>\n",
       "      <td>8019</td>\n",
       "      <td>0</td>\n",
       "      <td>742</td>\n",
       "      <td>9</td>\n",
       "      <td>Rent</td>\n",
       "      <td>25458.0</td>\n",
       "      <td>Debt Consolidation</td>\n",
       "      <td>...</td>\n",
       "      <td>200.0</td>\n",
       "      <td>6</td>\n",
       "      <td>0</td>\n",
       "      <td>3501</td>\n",
       "      <td>4789.0</td>\n",
       "      <td>0.0</td>\n",
       "      <td>0.0</td>\n",
       "      <td>0.730898</td>\n",
       "      <td>2413.32</td>\n",
       "      <td>0.094792</td>\n",
       "    </tr>\n",
       "    <tr>\n",
       "      <th>256946</th>\n",
       "      <td>fff5f918-967f-4cae-b8e8-0ec41b9d0a69</td>\n",
       "      <td>92093f79-1142-496c-8aef-0bc152ed8dd9</td>\n",
       "      <td>0</td>\n",
       "      <td>20658</td>\n",
       "      <td>0</td>\n",
       "      <td>745</td>\n",
       "      <td>10</td>\n",
       "      <td>Rent</td>\n",
       "      <td>45963.0</td>\n",
       "      <td>Debt Consolidation</td>\n",
       "      <td>...</td>\n",
       "      <td>200.0</td>\n",
       "      <td>10</td>\n",
       "      <td>0</td>\n",
       "      <td>13192</td>\n",
       "      <td>36143.0</td>\n",
       "      <td>0.0</td>\n",
       "      <td>0.0</td>\n",
       "      <td>0.364985</td>\n",
       "      <td>9514.32</td>\n",
       "      <td>0.206995</td>\n",
       "    </tr>\n",
       "    <tr>\n",
       "      <th>256948</th>\n",
       "      <td>fff61503-051a-4bb8-8342-287939fa738a</td>\n",
       "      <td>b36620f7-d086-45c4-bfdc-b14c2187d0c6</td>\n",
       "      <td>0</td>\n",
       "      <td>20492</td>\n",
       "      <td>0</td>\n",
       "      <td>722</td>\n",
       "      <td>5</td>\n",
       "      <td>Rent</td>\n",
       "      <td>52511.0</td>\n",
       "      <td>Debt Consolidation</td>\n",
       "      <td>...</td>\n",
       "      <td>200.0</td>\n",
       "      <td>12</td>\n",
       "      <td>0</td>\n",
       "      <td>18732</td>\n",
       "      <td>24391.0</td>\n",
       "      <td>0.0</td>\n",
       "      <td>0.0</td>\n",
       "      <td>0.767957</td>\n",
       "      <td>13967.88</td>\n",
       "      <td>0.265994</td>\n",
       "    </tr>\n",
       "    <tr>\n",
       "      <th>256950</th>\n",
       "      <td>fff616e3-3b35-4529-a970-38f1bb02d6e1</td>\n",
       "      <td>cc11dbaa-0661-4f3b-81f6-79260b4ca0b0</td>\n",
       "      <td>1</td>\n",
       "      <td>27578</td>\n",
       "      <td>1</td>\n",
       "      <td>712</td>\n",
       "      <td>4</td>\n",
       "      <td>Rent</td>\n",
       "      <td>107247.0</td>\n",
       "      <td>Debt Consolidation</td>\n",
       "      <td>...</td>\n",
       "      <td>11.0</td>\n",
       "      <td>11</td>\n",
       "      <td>0</td>\n",
       "      <td>13960</td>\n",
       "      <td>26744.0</td>\n",
       "      <td>0.0</td>\n",
       "      <td>0.0</td>\n",
       "      <td>0.521967</td>\n",
       "      <td>11582.64</td>\n",
       "      <td>0.107999</td>\n",
       "    </tr>\n",
       "    <tr>\n",
       "      <th>256951</th>\n",
       "      <td>fff66f00-2861-4851-9d68-214f4901998d</td>\n",
       "      <td>f597af69-c624-44ff-bf47-4b6db5cd581d</td>\n",
       "      <td>1</td>\n",
       "      <td>8611</td>\n",
       "      <td>0</td>\n",
       "      <td>751</td>\n",
       "      <td>10</td>\n",
       "      <td>Home Mortgage</td>\n",
       "      <td>74159.0</td>\n",
       "      <td>Home Improvements</td>\n",
       "      <td>...</td>\n",
       "      <td>72.0</td>\n",
       "      <td>17</td>\n",
       "      <td>0</td>\n",
       "      <td>6453</td>\n",
       "      <td>49263.0</td>\n",
       "      <td>0.0</td>\n",
       "      <td>0.0</td>\n",
       "      <td>0.130988</td>\n",
       "      <td>9121.56</td>\n",
       "      <td>0.122998</td>\n",
       "    </tr>\n",
       "    <tr>\n",
       "      <th>256952</th>\n",
       "      <td>fff6748f-e442-4848-9dd6-2252cb7396fd</td>\n",
       "      <td>6a54a6c9-3328-4ee0-bcb9-f4e8af37ff12</td>\n",
       "      <td>0</td>\n",
       "      <td>12262</td>\n",
       "      <td>1</td>\n",
       "      <td>741</td>\n",
       "      <td>0</td>\n",
       "      <td>Home Mortgage</td>\n",
       "      <td>40872.0</td>\n",
       "      <td>Debt Consolidation</td>\n",
       "      <td>...</td>\n",
       "      <td>200.0</td>\n",
       "      <td>11</td>\n",
       "      <td>0</td>\n",
       "      <td>13892</td>\n",
       "      <td>22775.0</td>\n",
       "      <td>0.0</td>\n",
       "      <td>0.0</td>\n",
       "      <td>0.609940</td>\n",
       "      <td>8460.48</td>\n",
       "      <td>0.206994</td>\n",
       "    </tr>\n",
       "    <tr>\n",
       "      <th>256955</th>\n",
       "      <td>fff75529-3a89-4eec-8ae7-e1af1d100bb5</td>\n",
       "      <td>5e21ff96-a8a1-40ca-8c51-0040c1cb8b15</td>\n",
       "      <td>1</td>\n",
       "      <td>11057</td>\n",
       "      <td>0</td>\n",
       "      <td>727</td>\n",
       "      <td>1</td>\n",
       "      <td>Rent</td>\n",
       "      <td>63328.0</td>\n",
       "      <td>Debt Consolidation</td>\n",
       "      <td>...</td>\n",
       "      <td>200.0</td>\n",
       "      <td>14</td>\n",
       "      <td>0</td>\n",
       "      <td>10116</td>\n",
       "      <td>13071.0</td>\n",
       "      <td>0.0</td>\n",
       "      <td>0.0</td>\n",
       "      <td>0.773868</td>\n",
       "      <td>13868.76</td>\n",
       "      <td>0.218995</td>\n",
       "    </tr>\n",
       "    <tr>\n",
       "      <th>256956</th>\n",
       "      <td>fff8b666-d2b2-4e41-9697-6fff766b115c</td>\n",
       "      <td>87d39022-0a8d-420d-aae0-7e03c307ea9c</td>\n",
       "      <td>1</td>\n",
       "      <td>5366</td>\n",
       "      <td>0</td>\n",
       "      <td>737</td>\n",
       "      <td>4</td>\n",
       "      <td>Rent</td>\n",
       "      <td>44924.0</td>\n",
       "      <td>Debt Consolidation</td>\n",
       "      <td>...</td>\n",
       "      <td>46.0</td>\n",
       "      <td>12</td>\n",
       "      <td>0</td>\n",
       "      <td>3686</td>\n",
       "      <td>5191.0</td>\n",
       "      <td>0.0</td>\n",
       "      <td>0.0</td>\n",
       "      <td>0.709938</td>\n",
       "      <td>4146.48</td>\n",
       "      <td>0.092298</td>\n",
       "    </tr>\n",
       "    <tr>\n",
       "      <th>256957</th>\n",
       "      <td>fff91d07-3f77-44ee-898c-beaf65da3859</td>\n",
       "      <td>1aa35f79-fa82-42e5-96b8-f9609d5f482a</td>\n",
       "      <td>1</td>\n",
       "      <td>9833</td>\n",
       "      <td>0</td>\n",
       "      <td>743</td>\n",
       "      <td>6</td>\n",
       "      <td>Home Mortgage</td>\n",
       "      <td>83581.0</td>\n",
       "      <td>Debt Consolidation</td>\n",
       "      <td>...</td>\n",
       "      <td>56.0</td>\n",
       "      <td>10</td>\n",
       "      <td>1</td>\n",
       "      <td>22110</td>\n",
       "      <td>27637.0</td>\n",
       "      <td>1.0</td>\n",
       "      <td>0.0</td>\n",
       "      <td>0.799986</td>\n",
       "      <td>19725.00</td>\n",
       "      <td>0.235996</td>\n",
       "    </tr>\n",
       "    <tr>\n",
       "      <th>256958</th>\n",
       "      <td>fff99ae1-990f-4982-844c-49ba7426c96a</td>\n",
       "      <td>6ede5c70-e6e6-4e96-88d0-01e4d5add013</td>\n",
       "      <td>1</td>\n",
       "      <td>10414</td>\n",
       "      <td>0</td>\n",
       "      <td>742</td>\n",
       "      <td>9</td>\n",
       "      <td>Own Home</td>\n",
       "      <td>30186.0</td>\n",
       "      <td>Debt Consolidation</td>\n",
       "      <td>...</td>\n",
       "      <td>22.0</td>\n",
       "      <td>8</td>\n",
       "      <td>0</td>\n",
       "      <td>3274</td>\n",
       "      <td>11175.0</td>\n",
       "      <td>0.0</td>\n",
       "      <td>0.0</td>\n",
       "      <td>0.292949</td>\n",
       "      <td>3441.24</td>\n",
       "      <td>0.113997</td>\n",
       "    </tr>\n",
       "    <tr>\n",
       "      <th>256960</th>\n",
       "      <td>fff9be8f-d153-4454-bf40-7c3552f4e235</td>\n",
       "      <td>41c7e701-735d-4897-873d-e50295d99303</td>\n",
       "      <td>1</td>\n",
       "      <td>15903</td>\n",
       "      <td>1</td>\n",
       "      <td>687</td>\n",
       "      <td>2</td>\n",
       "      <td>Rent</td>\n",
       "      <td>161296.0</td>\n",
       "      <td>Medical Bills</td>\n",
       "      <td>...</td>\n",
       "      <td>47.0</td>\n",
       "      <td>9</td>\n",
       "      <td>1</td>\n",
       "      <td>7297</td>\n",
       "      <td>25336.0</td>\n",
       "      <td>1.0</td>\n",
       "      <td>0.0</td>\n",
       "      <td>0.287998</td>\n",
       "      <td>5161.56</td>\n",
       "      <td>0.032000</td>\n",
       "    </tr>\n",
       "    <tr>\n",
       "      <th>256961</th>\n",
       "      <td>fffa2dc8-6407-449a-99dc-12f59928d013</td>\n",
       "      <td>1abe52ef-2414-427a-bf9b-068c60e5352a</td>\n",
       "      <td>1</td>\n",
       "      <td>8721</td>\n",
       "      <td>0</td>\n",
       "      <td>726</td>\n",
       "      <td>7</td>\n",
       "      <td>Home Mortgage</td>\n",
       "      <td>38649.0</td>\n",
       "      <td>Debt Consolidation</td>\n",
       "      <td>...</td>\n",
       "      <td>200.0</td>\n",
       "      <td>9</td>\n",
       "      <td>1</td>\n",
       "      <td>3860</td>\n",
       "      <td>13592.0</td>\n",
       "      <td>1.0</td>\n",
       "      <td>0.0</td>\n",
       "      <td>0.283970</td>\n",
       "      <td>9739.56</td>\n",
       "      <td>0.251994</td>\n",
       "    </tr>\n",
       "    <tr>\n",
       "      <th>256964</th>\n",
       "      <td>fffbc431-6a56-467c-a5f7-772928f96715</td>\n",
       "      <td>ae7c08b7-6b2e-4763-b148-035bf01c3072</td>\n",
       "      <td>1</td>\n",
       "      <td>30327</td>\n",
       "      <td>1</td>\n",
       "      <td>715</td>\n",
       "      <td>0</td>\n",
       "      <td>Rent</td>\n",
       "      <td>163376.0</td>\n",
       "      <td>Debt Consolidation</td>\n",
       "      <td>...</td>\n",
       "      <td>200.0</td>\n",
       "      <td>8</td>\n",
       "      <td>0</td>\n",
       "      <td>9284</td>\n",
       "      <td>14644.0</td>\n",
       "      <td>0.0</td>\n",
       "      <td>0.0</td>\n",
       "      <td>0.633936</td>\n",
       "      <td>9851.52</td>\n",
       "      <td>0.060299</td>\n",
       "    </tr>\n",
       "    <tr>\n",
       "      <th>256966</th>\n",
       "      <td>fffc297d-74f0-4d42-ad90-cdea2bd9aac0</td>\n",
       "      <td>b8cae6f0-6c9b-4982-bef2-e3cdf48add59</td>\n",
       "      <td>0</td>\n",
       "      <td>11524</td>\n",
       "      <td>0</td>\n",
       "      <td>725</td>\n",
       "      <td>6</td>\n",
       "      <td>Home Mortgage</td>\n",
       "      <td>50990.0</td>\n",
       "      <td>Debt Consolidation</td>\n",
       "      <td>...</td>\n",
       "      <td>200.0</td>\n",
       "      <td>23</td>\n",
       "      <td>0</td>\n",
       "      <td>12818</td>\n",
       "      <td>19160.0</td>\n",
       "      <td>0.0</td>\n",
       "      <td>0.0</td>\n",
       "      <td>0.668963</td>\n",
       "      <td>9484.20</td>\n",
       "      <td>0.185998</td>\n",
       "    </tr>\n",
       "    <tr>\n",
       "      <th>256967</th>\n",
       "      <td>fffc2c5b-2ee2-454b-b82f-16c5d983281d</td>\n",
       "      <td>274e5790-7122-4857-bdd9-93d928b16edc</td>\n",
       "      <td>1</td>\n",
       "      <td>9981</td>\n",
       "      <td>0</td>\n",
       "      <td>737</td>\n",
       "      <td>6</td>\n",
       "      <td>Rent</td>\n",
       "      <td>39924.0</td>\n",
       "      <td>Debt Consolidation</td>\n",
       "      <td>...</td>\n",
       "      <td>18.0</td>\n",
       "      <td>9</td>\n",
       "      <td>0</td>\n",
       "      <td>10629</td>\n",
       "      <td>19793.0</td>\n",
       "      <td>0.0</td>\n",
       "      <td>0.0</td>\n",
       "      <td>0.536981</td>\n",
       "      <td>3820.68</td>\n",
       "      <td>0.095696</td>\n",
       "    </tr>\n",
       "    <tr>\n",
       "      <th>256968</th>\n",
       "      <td>fffc4837-d6f7-48c7-bc61-78422af92eb6</td>\n",
       "      <td>01511702-6e9f-490e-9fef-0a9dbf1c0e20</td>\n",
       "      <td>0</td>\n",
       "      <td>10782</td>\n",
       "      <td>0</td>\n",
       "      <td>738</td>\n",
       "      <td>5</td>\n",
       "      <td>Rent</td>\n",
       "      <td>36787.0</td>\n",
       "      <td>Debt Consolidation</td>\n",
       "      <td>...</td>\n",
       "      <td>200.0</td>\n",
       "      <td>8</td>\n",
       "      <td>0</td>\n",
       "      <td>13415</td>\n",
       "      <td>16440.0</td>\n",
       "      <td>0.0</td>\n",
       "      <td>0.0</td>\n",
       "      <td>0.815948</td>\n",
       "      <td>8792.04</td>\n",
       "      <td>0.238992</td>\n",
       "    </tr>\n",
       "    <tr>\n",
       "      <th>256971</th>\n",
       "      <td>fffd5218-faf0-4b82-becf-11664fa064a3</td>\n",
       "      <td>301954fb-2381-4d68-a3b0-478870cd49f3</td>\n",
       "      <td>0</td>\n",
       "      <td>5968</td>\n",
       "      <td>0</td>\n",
       "      <td>746</td>\n",
       "      <td>8</td>\n",
       "      <td>Own Home</td>\n",
       "      <td>79568.0</td>\n",
       "      <td>Debt Consolidation</td>\n",
       "      <td>...</td>\n",
       "      <td>63.0</td>\n",
       "      <td>10</td>\n",
       "      <td>1</td>\n",
       "      <td>4237</td>\n",
       "      <td>0.0</td>\n",
       "      <td>0.0</td>\n",
       "      <td>0.0</td>\n",
       "      <td>4237.000000</td>\n",
       "      <td>16947.96</td>\n",
       "      <td>0.212997</td>\n",
       "    </tr>\n",
       "    <tr>\n",
       "      <th>256974</th>\n",
       "      <td>fffe36ec-97a6-460a-a236-640b7e0669f0</td>\n",
       "      <td>6520de3e-5961-47b1-bced-6a8132acb5cc</td>\n",
       "      <td>0</td>\n",
       "      <td>10575</td>\n",
       "      <td>1</td>\n",
       "      <td>722</td>\n",
       "      <td>0</td>\n",
       "      <td>Rent</td>\n",
       "      <td>30854.0</td>\n",
       "      <td>Debt Consolidation</td>\n",
       "      <td>...</td>\n",
       "      <td>200.0</td>\n",
       "      <td>18</td>\n",
       "      <td>0</td>\n",
       "      <td>20183</td>\n",
       "      <td>23496.0</td>\n",
       "      <td>0.0</td>\n",
       "      <td>0.0</td>\n",
       "      <td>0.858961</td>\n",
       "      <td>8484.96</td>\n",
       "      <td>0.274995</td>\n",
       "    </tr>\n",
       "    <tr>\n",
       "      <th>256975</th>\n",
       "      <td>fffe5140-8725-4fd1-b3bf-9e59cb7834eb</td>\n",
       "      <td>df856c29-ce44-4df7-94a6-bd758a1c1332</td>\n",
       "      <td>0</td>\n",
       "      <td>34710</td>\n",
       "      <td>0</td>\n",
       "      <td>700</td>\n",
       "      <td>9</td>\n",
       "      <td>Rent</td>\n",
       "      <td>148755.0</td>\n",
       "      <td>Business Loan</td>\n",
       "      <td>...</td>\n",
       "      <td>1.0</td>\n",
       "      <td>3</td>\n",
       "      <td>0</td>\n",
       "      <td>2590</td>\n",
       "      <td>37004.0</td>\n",
       "      <td>0.0</td>\n",
       "      <td>0.0</td>\n",
       "      <td>0.069991</td>\n",
       "      <td>565.32</td>\n",
       "      <td>0.003800</td>\n",
       "    </tr>\n",
       "    <tr>\n",
       "      <th>256977</th>\n",
       "      <td>fffe84cf-67a1-468d-ab7b-cf06a9c4ee14</td>\n",
       "      <td>460c6cf5-4d12-4e3c-a3d0-46dd67c78cce</td>\n",
       "      <td>0</td>\n",
       "      <td>11953</td>\n",
       "      <td>0</td>\n",
       "      <td>717</td>\n",
       "      <td>10</td>\n",
       "      <td>Home Mortgage</td>\n",
       "      <td>39844.0</td>\n",
       "      <td>Debt Consolidation</td>\n",
       "      <td>...</td>\n",
       "      <td>200.0</td>\n",
       "      <td>9</td>\n",
       "      <td>1</td>\n",
       "      <td>4176</td>\n",
       "      <td>4783.0</td>\n",
       "      <td>1.0</td>\n",
       "      <td>0.0</td>\n",
       "      <td>0.872910</td>\n",
       "      <td>11793.84</td>\n",
       "      <td>0.295993</td>\n",
       "    </tr>\n",
       "    <tr>\n",
       "      <th>256980</th>\n",
       "      <td>ffffca93-aa8c-4123-b8ff-7852f6df889a</td>\n",
       "      <td>616fef0c-8f09-4327-9b5c-48fcfaa52934</td>\n",
       "      <td>1</td>\n",
       "      <td>5078</td>\n",
       "      <td>0</td>\n",
       "      <td>737</td>\n",
       "      <td>10</td>\n",
       "      <td>Own Home</td>\n",
       "      <td>77186.0</td>\n",
       "      <td>Debt Consolidation</td>\n",
       "      <td>...</td>\n",
       "      <td>47.0</td>\n",
       "      <td>9</td>\n",
       "      <td>0</td>\n",
       "      <td>1717</td>\n",
       "      <td>9758.0</td>\n",
       "      <td>0.0</td>\n",
       "      <td>0.0</td>\n",
       "      <td>0.175940</td>\n",
       "      <td>16517.64</td>\n",
       "      <td>0.213995</td>\n",
       "    </tr>\n",
       "    <tr>\n",
       "      <th>256981</th>\n",
       "      <td>ffffcb2e-e48e-4d2c-a0d6-ed6bce5bfdbe</td>\n",
       "      <td>971a6682-183b-4a52-8bce-1d3429ade295</td>\n",
       "      <td>0</td>\n",
       "      <td>12116</td>\n",
       "      <td>0</td>\n",
       "      <td>746</td>\n",
       "      <td>9</td>\n",
       "      <td>Home Mortgage</td>\n",
       "      <td>52504.0</td>\n",
       "      <td>Debt Consolidation</td>\n",
       "      <td>...</td>\n",
       "      <td>82.0</td>\n",
       "      <td>8</td>\n",
       "      <td>0</td>\n",
       "      <td>3315</td>\n",
       "      <td>20090.0</td>\n",
       "      <td>0.0</td>\n",
       "      <td>0.0</td>\n",
       "      <td>0.164999</td>\n",
       "      <td>3575.52</td>\n",
       "      <td>0.068099</td>\n",
       "    </tr>\n",
       "    <tr>\n",
       "      <th>256983</th>\n",
       "      <td>ffffe32e-ed17-459f-9cfd-7b9ee7972933</td>\n",
       "      <td>97281336-1e45-41d2-acb2-263ce56a590e</td>\n",
       "      <td>1</td>\n",
       "      <td>27902</td>\n",
       "      <td>1</td>\n",
       "      <td>678</td>\n",
       "      <td>10</td>\n",
       "      <td>Home Mortgage</td>\n",
       "      <td>117480.0</td>\n",
       "      <td>Debt Consolidation</td>\n",
       "      <td>...</td>\n",
       "      <td>11.0</td>\n",
       "      <td>10</td>\n",
       "      <td>0</td>\n",
       "      <td>28317</td>\n",
       "      <td>62371.0</td>\n",
       "      <td>0.0</td>\n",
       "      <td>0.0</td>\n",
       "      <td>0.454002</td>\n",
       "      <td>30309.84</td>\n",
       "      <td>0.257998</td>\n",
       "    </tr>\n",
       "  </tbody>\n",
       "</table>\n",
       "<p>135696 rows × 22 columns</p>\n",
       "</div>"
      ],
      "text/plain": [
       "                                     Loan ID  \\\n",
       "0       000025bb-5694-4cff-b17d-192b1a98ba44   \n",
       "1       00002c49-3a29-4bd4-8f67-c8f8fbc1048c   \n",
       "2       00002d89-27f3-409b-aa76-90834f359a65   \n",
       "3       00005222-b4d8-45a4-ad8c-186057e24233   \n",
       "4       0000757f-a121-41ed-b17b-162e76647c1f   \n",
       "5       0000a149-b055-4a57-b762-280783ccc25e   \n",
       "6       0000afa6-8902-4f8f-b870-25a8fdad0aeb   \n",
       "9       0001cb86-af28-4011-bb86-183786e473ae   \n",
       "11      0002593b-4973-4f28-8d1c-2b323a125863   \n",
       "13      00029f9f-0cc5-4d4e-aabc-ea4a7fe74e12   \n",
       "17      000306fc-516c-48c3-b1c7-7889185dd694   \n",
       "18      00035328-2636-4390-8322-5841de482d2b   \n",
       "21      00038a08-f058-4add-a8ed-497b91672a9e   \n",
       "24      00045ecd-59e9-4752-ba0d-679ff71692b3   \n",
       "25      0004c11a-bacd-4bd0-98d0-efae9cce56e9   \n",
       "27      0004d139-d1fb-44ca-9fa5-f5e2d042b81f   \n",
       "29      000582b2-2b2e-4290-9360-43e3a93b57c2   \n",
       "30      0005f59b-5f14-4290-ba97-a8c749bb5824   \n",
       "31      0006572c-9567-484d-b49b-bfe06536aa96   \n",
       "33      00069ff1-a877-4d35-81be-7cd359b99956   \n",
       "34      0007276b-a2e1-4096-8777-96a44684707d   \n",
       "35      0007293a-065c-4513-bfd2-e1732fa5439e   \n",
       "36      000795b0-d767-42bf-837a-80d5b78c1e50   \n",
       "39      0008a65c-3054-4b5d-931d-8352021f813d   \n",
       "41      0008b9bc-c0a0-4575-9d49-6bfc5589b566   \n",
       "43      0008f2b0-d440-410f-9174-ffa51ee2154b   \n",
       "44      0009af13-7b88-4e14-b972-35b146a1a66e   \n",
       "45      0009bf47-92b9-4ab5-b539-dd649025c557   \n",
       "47      000a08fa-e669-46dc-9a96-9da6b96570a0   \n",
       "48      000a0abe-b839-414d-9b00-8ba33b47ebce   \n",
       "...                                      ...   \n",
       "256932  fff1c0cc-49ce-47f6-a0c1-e74a7d43fbe1   \n",
       "256937  fff2779e-9fe7-4db5-b566-48f43b58aa68   \n",
       "256940  fff355eb-8cc0-42c9-84bf-280c6664f785   \n",
       "256941  fff3fa19-bb85-41f4-ba64-48b01c6d9a38   \n",
       "256942  fff45ad2-1594-40d8-9e05-bb8880d7537f   \n",
       "256943  fff4be77-72c2-406e-87cf-ce4b88e958a1   \n",
       "256944  fff5063a-9366-4659-bdf3-bf8c6fafa9b5   \n",
       "256945  fff55c39-500b-4f31-8139-cbce1d491976   \n",
       "256946  fff5f918-967f-4cae-b8e8-0ec41b9d0a69   \n",
       "256948  fff61503-051a-4bb8-8342-287939fa738a   \n",
       "256950  fff616e3-3b35-4529-a970-38f1bb02d6e1   \n",
       "256951  fff66f00-2861-4851-9d68-214f4901998d   \n",
       "256952  fff6748f-e442-4848-9dd6-2252cb7396fd   \n",
       "256955  fff75529-3a89-4eec-8ae7-e1af1d100bb5   \n",
       "256956  fff8b666-d2b2-4e41-9697-6fff766b115c   \n",
       "256957  fff91d07-3f77-44ee-898c-beaf65da3859   \n",
       "256958  fff99ae1-990f-4982-844c-49ba7426c96a   \n",
       "256960  fff9be8f-d153-4454-bf40-7c3552f4e235   \n",
       "256961  fffa2dc8-6407-449a-99dc-12f59928d013   \n",
       "256964  fffbc431-6a56-467c-a5f7-772928f96715   \n",
       "256966  fffc297d-74f0-4d42-ad90-cdea2bd9aac0   \n",
       "256967  fffc2c5b-2ee2-454b-b82f-16c5d983281d   \n",
       "256968  fffc4837-d6f7-48c7-bc61-78422af92eb6   \n",
       "256971  fffd5218-faf0-4b82-becf-11664fa064a3   \n",
       "256974  fffe36ec-97a6-460a-a236-640b7e0669f0   \n",
       "256975  fffe5140-8725-4fd1-b3bf-9e59cb7834eb   \n",
       "256977  fffe84cf-67a1-468d-ab7b-cf06a9c4ee14   \n",
       "256980  ffffca93-aa8c-4123-b8ff-7852f6df889a   \n",
       "256981  ffffcb2e-e48e-4d2c-a0d6-ed6bce5bfdbe   \n",
       "256983  ffffe32e-ed17-459f-9cfd-7b9ee7972933   \n",
       "\n",
       "                                 Customer ID  y      a  b    c   d  \\\n",
       "0       5ebc8bb1-5eb9-4404-b11b-a6eebc401a19  1  11520  0  741  10   \n",
       "1       927b388d-2e01-423f-a8dc-f7e42d668f46  1   3441  0  734   4   \n",
       "2       defce609-c631-447d-aad6-1270615e89c4  1  21029  0  747  10   \n",
       "3       070bcecb-aae7-4485-a26a-e0403e7bb6c5  1  18743  0  747  10   \n",
       "4       dde79588-12f0-4811-bab0-e2b07f633fcd  1  11731  0  746   4   \n",
       "5       62ddc017-7023-4ba7-af23-1a7cd16c1ce5  1  10208  0  716  10   \n",
       "6       e49c1a82-a0f7-45e8-9f46-2f75c43f9fbc  0  24613  1  664   6   \n",
       "9       4aae67bb-d54b-41ae-8bce-1d62022ed8dd  1   2036  0  733   0   \n",
       "11      c1322b41-c3f5-4395-bda7-a61f848c1f7e  1  10233  0  742   2   \n",
       "13      afbc2fa3-3bad-4d48-b691-829aed78bad5  0  17961  0  701   0   \n",
       "17      df5577f6-6db3-47ae-9bd7-c4ef7233b4ff  1   7587  0  744   5   \n",
       "18      28eb75ac-6a09-4057-b73f-726c72ebf933  0  11604  0  729   6   \n",
       "21      727bb429-dfa1-41c4-a347-23230e23949f  0  16929  1  734   3   \n",
       "24      b7bce684-b4b0-4b29-af66-eae316bce573  1  11863  0  734  10   \n",
       "25      c57b1bbd-6be6-4265-a581-01a96f4a9213  1  15395  1  733   5   \n",
       "27      587000a6-a421-417b-a5d5-6b8a04345913  1  16906  1  728  10   \n",
       "29      bafabc36-a32f-489c-9531-896ff66c9171  1  16080  1  692  10   \n",
       "30      3d8be9ee-a74d-409e-9b62-15e7d33a2929  1  10529  0  739  10   \n",
       "31      c1a7ba66-9f36-4f5c-86cd-1aa7ad68b954  0  14727  0  740   3   \n",
       "33      ee3c27f2-766a-499c-9a96-d17c4d2faa16  1   1433  0  716  10   \n",
       "34      3fd8aa1e-6ddd-4d67-b2c1-2a78c082d146  1  17484  1  607  10   \n",
       "35      c9e40e26-910f-4f04-b640-829478fac10c  1   5111  0  735  10   \n",
       "36      b533c78c-3096-4914-acb1-5453c0ff76a4  0  19731  1  623   3   \n",
       "39      04513d99-d809-4eb6-b4bb-6abc767d861e  0   7066  0  741  10   \n",
       "41      591971e4-611f-47ea-b7ee-e345d6f0683f  1   7911  0  729  10   \n",
       "43      fa852dd1-b8a2-401d-b203-c6b91662eb81  1  33261  1  737   5   \n",
       "44      960b78b4-b39a-4498-a1d2-60858daa8cff  1  15875  1  746  10   \n",
       "45      72ab1e49-579e-4206-a27c-66f65ea7b709  1  11313  0  741  10   \n",
       "47      4b7782a6-b84c-4dd9-ac62-f927a68eeaa9  0  21160  1  636   5   \n",
       "48      b2f4c91c-0157-4529-af67-35ffeac65389  1   3508  0  736  10   \n",
       "...                                      ... ..    ... ..  ...  ..   \n",
       "256932  cb142142-3ff3-4ffe-87ed-4c0dd9fabb67  0   9681  0  732   8   \n",
       "256937  7ddd16c2-bf65-4b01-8b48-bbda8793c206  0   9976  0  733   1   \n",
       "256940  14eabb7c-22f4-4060-9dce-b90ded55fef2  1   8112  0  716   0   \n",
       "256941  d6a7a8ab-bff0-4330-bc68-b68e80f793d1  1  34552  1  724  10   \n",
       "256942  a65b053e-ca23-43a5-b758-fef6157e6995  1  19898  0  732  10   \n",
       "256943  17c0d376-2153-4b04-98d9-a6950f768686  1  10157  0  744  10   \n",
       "256944  4b13e0aa-ec50-472b-b8f1-60ee584bbbc9  1   5125  0  722   3   \n",
       "256945  2f946acd-d8d9-4f53-835f-64634d86490c  1   8019  0  742   9   \n",
       "256946  92093f79-1142-496c-8aef-0bc152ed8dd9  0  20658  0  745  10   \n",
       "256948  b36620f7-d086-45c4-bfdc-b14c2187d0c6  0  20492  0  722   5   \n",
       "256950  cc11dbaa-0661-4f3b-81f6-79260b4ca0b0  1  27578  1  712   4   \n",
       "256951  f597af69-c624-44ff-bf47-4b6db5cd581d  1   8611  0  751  10   \n",
       "256952  6a54a6c9-3328-4ee0-bcb9-f4e8af37ff12  0  12262  1  741   0   \n",
       "256955  5e21ff96-a8a1-40ca-8c51-0040c1cb8b15  1  11057  0  727   1   \n",
       "256956  87d39022-0a8d-420d-aae0-7e03c307ea9c  1   5366  0  737   4   \n",
       "256957  1aa35f79-fa82-42e5-96b8-f9609d5f482a  1   9833  0  743   6   \n",
       "256958  6ede5c70-e6e6-4e96-88d0-01e4d5add013  1  10414  0  742   9   \n",
       "256960  41c7e701-735d-4897-873d-e50295d99303  1  15903  1  687   2   \n",
       "256961  1abe52ef-2414-427a-bf9b-068c60e5352a  1   8721  0  726   7   \n",
       "256964  ae7c08b7-6b2e-4763-b148-035bf01c3072  1  30327  1  715   0   \n",
       "256966  b8cae6f0-6c9b-4982-bef2-e3cdf48add59  0  11524  0  725   6   \n",
       "256967  274e5790-7122-4857-bdd9-93d928b16edc  1   9981  0  737   6   \n",
       "256968  01511702-6e9f-490e-9fef-0a9dbf1c0e20  0  10782  0  738   5   \n",
       "256971  301954fb-2381-4d68-a3b0-478870cd49f3  0   5968  0  746   8   \n",
       "256974  6520de3e-5961-47b1-bced-6a8132acb5cc  0  10575  1  722   0   \n",
       "256975  df856c29-ce44-4df7-94a6-bd758a1c1332  0  34710  0  700   9   \n",
       "256977  460c6cf5-4d12-4e3c-a3d0-46dd67c78cce  0  11953  0  717  10   \n",
       "256980  616fef0c-8f09-4327-9b5c-48fcfaa52934  1   5078  0  737  10   \n",
       "256981  971a6682-183b-4a52-8bce-1d3429ade295  0  12116  0  746   9   \n",
       "256983  97281336-1e45-41d2-acb2-263ce56a590e  1  27902  1  678  10   \n",
       "\n",
       "                    e         f                   g    ...     \\\n",
       "0       Home Mortgage   33694.0  Debt Consolidation    ...      \n",
       "1       Home Mortgage   42269.0               Other    ...      \n",
       "2       Home Mortgage   90126.0  Debt Consolidation    ...      \n",
       "3            Own Home   38072.0  Debt Consolidation    ...      \n",
       "4                Rent   50025.0  Debt Consolidation    ...      \n",
       "5                Rent   41853.0       Business Loan    ...      \n",
       "6                Rent   49225.0       Business Loan    ...      \n",
       "9       Home Mortgage   55985.0  Debt Consolidation    ...      \n",
       "11      Home Mortgage  153495.0   Home Improvements    ...      \n",
       "13           Own Home   53053.0  Debt Consolidation    ...      \n",
       "17      Home Mortgage   50580.0  Debt Consolidation    ...      \n",
       "18      Home Mortgage   35315.0  Debt Consolidation    ...      \n",
       "21      Home Mortgage   40308.0  Debt Consolidation    ...      \n",
       "24           Own Home   69202.0  Debt Consolidation    ...      \n",
       "25      Home Mortgage   51984.0  Debt Consolidation    ...      \n",
       "27      Home Mortgage  204920.0  Debt Consolidation    ...      \n",
       "29               Rent   63315.0  Debt Consolidation    ...      \n",
       "30               Rent   56694.0  Debt Consolidation    ...      \n",
       "31      Home Mortgage   70690.0  Debt Consolidation    ...      \n",
       "33      Home Mortgage  108735.0   Home Improvements    ...      \n",
       "34      Home Mortgage   76920.0  Debt Consolidation    ...      \n",
       "35      Home Mortgage   45999.0  Debt Consolidation    ...      \n",
       "36               Rent   43846.0           Buy House    ...      \n",
       "39           Own Home   60564.0  Debt Consolidation    ...      \n",
       "41               Rent   18025.0  Debt Consolidation    ...      \n",
       "43      Home Mortgage   84254.0  Debt Consolidation    ...      \n",
       "44      Home Mortgage   99220.0  Debt Consolidation    ...      \n",
       "45           Own Home   80663.0  Debt Consolidation    ...      \n",
       "47      Home Mortgage   77770.0  Debt Consolidation    ...      \n",
       "48      Home Mortgage   85191.0               Other    ...      \n",
       "...               ...       ...                 ...    ...      \n",
       "256932  Home Mortgage   33759.0               Other    ...      \n",
       "256937  Home Mortgage  124700.0  Debt Consolidation    ...      \n",
       "256940           Rent   30324.0  Debt Consolidation    ...      \n",
       "256941  Home Mortgage  123400.0  Debt Consolidation    ...      \n",
       "256942       Own Home   94516.0               Other    ...      \n",
       "256943  Home Mortgage  121884.0  Debt Consolidation    ...      \n",
       "256944           Rent   14349.0  Debt Consolidation    ...      \n",
       "256945           Rent   25458.0  Debt Consolidation    ...      \n",
       "256946           Rent   45963.0  Debt Consolidation    ...      \n",
       "256948           Rent   52511.0  Debt Consolidation    ...      \n",
       "256950           Rent  107247.0  Debt Consolidation    ...      \n",
       "256951  Home Mortgage   74159.0   Home Improvements    ...      \n",
       "256952  Home Mortgage   40872.0  Debt Consolidation    ...      \n",
       "256955           Rent   63328.0  Debt Consolidation    ...      \n",
       "256956           Rent   44924.0  Debt Consolidation    ...      \n",
       "256957  Home Mortgage   83581.0  Debt Consolidation    ...      \n",
       "256958       Own Home   30186.0  Debt Consolidation    ...      \n",
       "256960           Rent  161296.0       Medical Bills    ...      \n",
       "256961  Home Mortgage   38649.0  Debt Consolidation    ...      \n",
       "256964           Rent  163376.0  Debt Consolidation    ...      \n",
       "256966  Home Mortgage   50990.0  Debt Consolidation    ...      \n",
       "256967           Rent   39924.0  Debt Consolidation    ...      \n",
       "256968           Rent   36787.0  Debt Consolidation    ...      \n",
       "256971       Own Home   79568.0  Debt Consolidation    ...      \n",
       "256974           Rent   30854.0  Debt Consolidation    ...      \n",
       "256975           Rent  148755.0       Business Loan    ...      \n",
       "256977  Home Mortgage   39844.0  Debt Consolidation    ...      \n",
       "256980       Own Home   77186.0  Debt Consolidation    ...      \n",
       "256981  Home Mortgage   52504.0  Debt Consolidation    ...      \n",
       "256983  Home Mortgage  117480.0  Debt Consolidation    ...      \n",
       "\n",
       "        Months since last delinquent   j  k      l         m    n    o  \\\n",
       "0                               41.0  10  0   6760   16056.0  0.0  0.0   \n",
       "1                              200.0  17  0   6262   19149.0  0.0  0.0   \n",
       "2                              200.0   5  0  20967   28335.0  0.0  0.0   \n",
       "3                              200.0   9  0  22529   43915.0  0.0  0.0   \n",
       "4                              200.0  12  0  17391   37081.0  0.0  0.0   \n",
       "5                              200.0   4  1   2289    4671.0  1.0  0.0   \n",
       "6                               73.0   7  0  14123   16954.0  0.0  0.0   \n",
       "9                               29.0   7  0  10926   15676.0  0.0  0.0   \n",
       "11                             200.0   8  0  32630   41726.0  0.0  0.0   \n",
       "13                              43.0   7  0   6810   22775.0  0.0  0.0   \n",
       "17                             200.0   9  0   8519   15982.0  0.0  0.0   \n",
       "18                             200.0  12  0  17092   20743.0  0.0  0.0   \n",
       "21                             200.0  10  0  28513  101110.0  0.0  0.0   \n",
       "24                             200.0   7  0   9959   16995.0  0.0  0.0   \n",
       "25                             200.0   9  0   2184    8989.0  0.0  0.0   \n",
       "27                             200.0  14  0  47201   54068.0  0.0  0.0   \n",
       "29                             200.0  10  0   9126   13662.0  0.0  0.0   \n",
       "30                              15.0  16  0  24461   42392.0  0.0  0.0   \n",
       "31                              27.0  12  0  43375  225911.0  0.0  0.0   \n",
       "33                               5.0  22  0  27706   49563.0  0.0  0.0   \n",
       "34                             200.0   9  0  41603   45971.0  0.0  0.0   \n",
       "35                             200.0  11  0  26722   39766.0  0.0  0.0   \n",
       "36                              55.0  13  1   9031   17955.0  1.0  0.0   \n",
       "39                              56.0   4  0   6229    9242.0  0.0  0.0   \n",
       "41                              25.0  11  0   2863   10723.0  0.0  0.0   \n",
       "43                             200.0  13  0  14633   28919.0  0.0  0.0   \n",
       "44                              27.0  34  0  11526  149693.0  0.0  0.0   \n",
       "45                             200.0   9  0   7723   12105.0  0.0  0.0   \n",
       "47                             200.0  28  0  28175   51227.0  0.0  0.0   \n",
       "48                               2.0   6  0  11643   25476.0  0.0  0.0   \n",
       "...                              ...  .. ..    ...       ...  ...  ...   \n",
       "256932                         200.0  17  0  24900   29857.0  0.0  0.0   \n",
       "256937                          16.0  16  0   6539   17074.0  0.0  0.0   \n",
       "256940                         200.0   5  0   1798    6760.0  0.0  0.0   \n",
       "256941                           7.0  20  0  33031   56852.0  0.0  0.0   \n",
       "256942                         200.0  17  0  22532   44008.0  0.0  0.0   \n",
       "256943                         200.0   6  1   8738   11682.0  1.0  0.0   \n",
       "256944                         200.0   8  0   3457   12617.0  0.0  0.0   \n",
       "256945                         200.0   6  0   3501    4789.0  0.0  0.0   \n",
       "256946                         200.0  10  0  13192   36143.0  0.0  0.0   \n",
       "256948                         200.0  12  0  18732   24391.0  0.0  0.0   \n",
       "256950                          11.0  11  0  13960   26744.0  0.0  0.0   \n",
       "256951                          72.0  17  0   6453   49263.0  0.0  0.0   \n",
       "256952                         200.0  11  0  13892   22775.0  0.0  0.0   \n",
       "256955                         200.0  14  0  10116   13071.0  0.0  0.0   \n",
       "256956                          46.0  12  0   3686    5191.0  0.0  0.0   \n",
       "256957                          56.0  10  1  22110   27637.0  1.0  0.0   \n",
       "256958                          22.0   8  0   3274   11175.0  0.0  0.0   \n",
       "256960                          47.0   9  1   7297   25336.0  1.0  0.0   \n",
       "256961                         200.0   9  1   3860   13592.0  1.0  0.0   \n",
       "256964                         200.0   8  0   9284   14644.0  0.0  0.0   \n",
       "256966                         200.0  23  0  12818   19160.0  0.0  0.0   \n",
       "256967                          18.0   9  0  10629   19793.0  0.0  0.0   \n",
       "256968                         200.0   8  0  13415   16440.0  0.0  0.0   \n",
       "256971                          63.0  10  1   4237       0.0  0.0  0.0   \n",
       "256974                         200.0  18  0  20183   23496.0  0.0  0.0   \n",
       "256975                           1.0   3  0   2590   37004.0  0.0  0.0   \n",
       "256977                         200.0   9  1   4176    4783.0  1.0  0.0   \n",
       "256980                          47.0   9  0   1717    9758.0  0.0  0.0   \n",
       "256981                          82.0   8  0   3315   20090.0  0.0  0.0   \n",
       "256983                          11.0  10  0  28317   62371.0  0.0  0.0   \n",
       "\n",
       "                  p  Annual Payment         q  \n",
       "0          0.421000         7008.36  0.207994  \n",
       "1          0.326997        13272.48  0.313993  \n",
       "2          0.739942        15862.20  0.175998  \n",
       "3          0.513002         9023.04  0.236993  \n",
       "4          0.468988         4262.16  0.085199  \n",
       "5          0.489940         6738.24  0.160994  \n",
       "6          0.832970         6507.48  0.132196  \n",
       "9          0.696945         8901.48  0.158995  \n",
       "11         0.781988        18879.84  0.122999  \n",
       "13         0.298999         7162.20  0.134998  \n",
       "17         0.533004         5412.00  0.106997  \n",
       "18         0.823949         7945.92  0.224995  \n",
       "21         0.281997         8948.40  0.221995  \n",
       "24         0.585961        10311.12  0.148998  \n",
       "25         0.242937         5718.36  0.110000  \n",
       "27         0.872977        26229.72  0.127999  \n",
       "29         0.667935         3862.20  0.060999  \n",
       "30         0.577006        12983.04  0.228998  \n",
       "31         0.192000        13006.92  0.183997  \n",
       "33         0.558994        31533.12  0.289997  \n",
       "34         0.904964        21075.96  0.273995  \n",
       "35         0.671964        11223.72  0.243994  \n",
       "36         0.502952         8856.96  0.201997  \n",
       "39         0.673915         8478.96  0.139998  \n",
       "41         0.266971         6020.40  0.333984  \n",
       "43         0.505982        13649.16  0.161998  \n",
       "44         0.076997        21431.52  0.215998  \n",
       "45         0.637948        15003.36  0.185998  \n",
       "47         0.549992        15491.76  0.199197  \n",
       "48         0.457000         4566.24  0.053599  \n",
       "...             ...             ...       ...  \n",
       "256932     0.833947        11444.16  0.338986  \n",
       "256937     0.382958        16086.36  0.128999  \n",
       "256940     0.265937         3062.76  0.100998  \n",
       "256941     0.580990        18510.00  0.149999  \n",
       "256942     0.511986         8336.28  0.088199  \n",
       "256943     0.747924         7179.00  0.058900  \n",
       "256944     0.273974          898.20  0.062592  \n",
       "256945     0.730898         2413.32  0.094792  \n",
       "256946     0.364985         9514.32  0.206995  \n",
       "256948     0.767957        13967.88  0.265994  \n",
       "256950     0.521967        11582.64  0.107999  \n",
       "256951     0.130988         9121.56  0.122998  \n",
       "256952     0.609940         8460.48  0.206994  \n",
       "256955     0.773868        13868.76  0.218995  \n",
       "256956     0.709938         4146.48  0.092298  \n",
       "256957     0.799986        19725.00  0.235996  \n",
       "256958     0.292949         3441.24  0.113997  \n",
       "256960     0.287998         5161.56  0.032000  \n",
       "256961     0.283970         9739.56  0.251994  \n",
       "256964     0.633936         9851.52  0.060299  \n",
       "256966     0.668963         9484.20  0.185998  \n",
       "256967     0.536981         3820.68  0.095696  \n",
       "256968     0.815948         8792.04  0.238992  \n",
       "256971  4237.000000        16947.96  0.212997  \n",
       "256974     0.858961         8484.96  0.274995  \n",
       "256975     0.069991          565.32  0.003800  \n",
       "256977     0.872910        11793.84  0.295993  \n",
       "256980     0.175940        16517.64  0.213995  \n",
       "256981     0.164999         3575.52  0.068099  \n",
       "256983     0.454002        30309.84  0.257998  \n",
       "\n",
       "[135696 rows x 22 columns]"
      ]
     },
     "execution_count": 52,
     "metadata": {},
     "output_type": "execute_result"
    }
   ],
   "source": [
    "df = df.rename(columns={'Loan Status': 'y', \n",
    "                        'Current Loan Amount': 'a', \n",
    "                        'Term': 'b', 'Credit Score': 'c', \n",
    "                        'Years in current job': 'd', \n",
    "                        'Home Ownership': 'e', \n",
    "                        'Annual Income': 'f', \n",
    "                        'Purpose': 'g', 'Monthly Debt': 'h', \n",
    "                        'Years of Credit History': 'i', \n",
    "                        'Number of Open Accounts': 'j', \n",
    "                        'Number of Credit Problems': 'k', \n",
    "                        'Current Credit Balance': 'l', \n",
    "                        'Maximum Open Credit': 'm', \n",
    "                        'Bankruptcies': 'n', 'Tax Liens': 'o',\n",
    "                        'Credit Utilization': 'p', 'Payment Rate': 'q'})\n",
    "df"
   ]
  },
  {
   "cell_type": "markdown",
   "metadata": {},
   "source": [
    "# Data Visualization"
   ]
  },
  {
   "cell_type": "code",
   "execution_count": 53,
   "metadata": {
    "collapsed": true
   },
   "outputs": [],
   "source": [
    "import matplotlib.pyplot as plt\n",
    "%matplotlib inline\n",
    "import seaborn as sns"
   ]
  },
  {
   "cell_type": "markdown",
   "metadata": {},
   "source": [
    "*Plotting \"Current Loan Amount\" for histogram and boxplot"
   ]
  },
  {
   "cell_type": "code",
   "execution_count": 54,
   "metadata": {
    "collapsed": false
   },
   "outputs": [
    {
     "data": {
      "text/plain": [
       "{'boxes': [<matplotlib.lines.Line2D at 0x11aa67d90>],\n",
       " 'caps': [<matplotlib.lines.Line2D at 0x10e755090>,\n",
       "  <matplotlib.lines.Line2D at 0x10e7556d0>],\n",
       " 'fliers': [<matplotlib.lines.Line2D at 0x10e760390>],\n",
       " 'means': [],\n",
       " 'medians': [<matplotlib.lines.Line2D at 0x10e755d10>],\n",
       " 'whiskers': [<matplotlib.lines.Line2D at 0x11aa67e90>,\n",
       "  <matplotlib.lines.Line2D at 0x119f18610>]}"
      ]
     },
     "execution_count": 54,
     "metadata": {},
     "output_type": "execute_result"
    },
    {
     "data": {
      "image/png": "[encoded data removed]",
      "text/plain": [
       "<matplotlib.figure.Figure at 0x119eea850>"
      ]
     },
     "metadata": {},
     "output_type": "display_data"
    }
   ],
   "source": [
    "fig = plt.figure()\n",
    "ax1 = fig.add_subplot(121)\n",
    "ax2 = fig.add_subplot(122)\n",
    "\n",
    "ax1.hist(df.a)\n",
    "ax2.boxplot(df.a)"
   ]
  },
  {
   "cell_type": "markdown",
   "metadata": {},
   "source": [
    "*Normalizing it by applying log into \"Current Loan Amount\""
   ]
  },
  {
   "cell_type": "code",
   "execution_count": 55,
   "metadata": {
    "collapsed": false
   },
   "outputs": [
    {
     "data": {
      "text/plain": [
       "(array([   880.,   1740.,   2525.,   6426.,  14170.,  17367.,  31075.,\n",
       "         26720.,  22926.,  11867.]),\n",
       " array([  6.88243747,   7.25210188,   7.62176629,   7.9914307 ,\n",
       "          8.36109511,   8.73075952,   9.10042393,   9.47008834,\n",
       "          9.83975275,  10.20941716,  10.57908157]),\n",
       " <a list of 10 Patch objects>)"
      ]
     },
     "execution_count": 55,
     "metadata": {},
     "output_type": "execute_result"
    },
    {
     "data": {
      "image/png": "[encoded data removed]",
      "text/plain": [
       "<matplotlib.figure.Figure at 0x10e7c0890>"
      ]
     },
     "metadata": {},
     "output_type": "display_data"
    }
   ],
   "source": [
    "plt.hist(np.log(df.a))"
   ]
  },
  {
   "cell_type": "markdown",
   "metadata": {},
   "source": [
    "*Now we have the histogram that is skewed to the left"
   ]
  },
  {
   "cell_type": "markdown",
   "metadata": {},
   "source": [
    "*Now we want to plot x as \"Credit Utilization\" & y as \"Loan Status\""
   ]
  },
  {
   "cell_type": "code",
   "execution_count": 56,
   "metadata": {
    "collapsed": false
   },
   "outputs": [
    {
     "data": {
      "text/plain": [
       "<matplotlib.text.Text at 0x10e7c0290>"
      ]
     },
     "execution_count": 56,
     "metadata": {},
     "output_type": "execute_result"
    },
    {
     "data": {
      "image/png": "[encoded data removed]",
      "text/plain": [
       "<matplotlib.figure.Figure at 0x10e810150>"
      ]
     },
     "metadata": {},
     "output_type": "display_data"
    }
   ],
   "source": [
    "x = df['p']\n",
    "y = df['y']\n",
    "\n",
    "# make the plot\n",
    "fig = plt.figure()\n",
    "ax = fig.add_subplot(111)  \n",
    "ax.scatter(x, y)\n",
    "ax.set_ylabel('Loan Status', fontsize=20)  \n",
    "ax.set_xlabel('Credit Utilization', fontsize=20)"
   ]
  },
  {
   "cell_type": "markdown",
   "metadata": {},
   "source": [
    "*Note that Loan Status = 1 is Fully Paid and it's more dense on the left; We can conclude that customers who have Loan Status of Fully Paid tend to have lower credit utilization rate"
   ]
  },
  {
   "cell_type": "markdown",
   "metadata": {},
   "source": [
    "*Now we want to create the dummy variables for categorical values using dmatrices"
   ]
  },
  {
   "cell_type": "code",
   "execution_count": 57,
   "metadata": {
    "collapsed": false
   },
   "outputs": [],
   "source": [
    "from patsy import dmatrices\n",
    "y, X = dmatrices('y ~ a + b + c + d + C(e) + f + C(g) + h + i + j + k + l + m + n + o + p + q', df, return_type = 'dataframe')"
   ]
  },
  {
   "cell_type": "code",
   "execution_count": 58,
   "metadata": {
    "collapsed": false
   },
   "outputs": [
    {
     "data": {
      "text/html": [
       "<div>\n",
       "<table border=\"1\" class=\"dataframe\">\n",
       "  <thead>\n",
       "    <tr style=\"text-align: right;\">\n",
       "      <th></th>\n",
       "      <th>Intercept</th>\n",
       "      <th>C(e)[T.Own Home]</th>\n",
       "      <th>C(e)[T.Rent]</th>\n",
       "      <th>C(g)[T.Buy House]</th>\n",
       "      <th>C(g)[T.Buy a Car]</th>\n",
       "      <th>C(g)[T.Debt Consolidation]</th>\n",
       "      <th>C(g)[T.Educational Expenses]</th>\n",
       "      <th>C(g)[T.Home Improvements]</th>\n",
       "      <th>C(g)[T.Medical Bills]</th>\n",
       "      <th>C(g)[T.Other]</th>\n",
       "      <th>...</th>\n",
       "      <th>h</th>\n",
       "      <th>i</th>\n",
       "      <th>j</th>\n",
       "      <th>k</th>\n",
       "      <th>l</th>\n",
       "      <th>m</th>\n",
       "      <th>n</th>\n",
       "      <th>o</th>\n",
       "      <th>p</th>\n",
       "      <th>q</th>\n",
       "    </tr>\n",
       "  </thead>\n",
       "  <tbody>\n",
       "    <tr>\n",
       "      <th>0</th>\n",
       "      <td>1.0</td>\n",
       "      <td>0.0</td>\n",
       "      <td>0.0</td>\n",
       "      <td>0.0</td>\n",
       "      <td>0.0</td>\n",
       "      <td>1.0</td>\n",
       "      <td>0.0</td>\n",
       "      <td>0.0</td>\n",
       "      <td>0.0</td>\n",
       "      <td>0.0</td>\n",
       "      <td>...</td>\n",
       "      <td>584.03</td>\n",
       "      <td>12.3</td>\n",
       "      <td>10.0</td>\n",
       "      <td>0.0</td>\n",
       "      <td>6760.0</td>\n",
       "      <td>16056.0</td>\n",
       "      <td>0.0</td>\n",
       "      <td>0.0</td>\n",
       "      <td>0.421000</td>\n",
       "      <td>0.207994</td>\n",
       "    </tr>\n",
       "    <tr>\n",
       "      <th>1</th>\n",
       "      <td>1.0</td>\n",
       "      <td>0.0</td>\n",
       "      <td>0.0</td>\n",
       "      <td>0.0</td>\n",
       "      <td>0.0</td>\n",
       "      <td>0.0</td>\n",
       "      <td>0.0</td>\n",
       "      <td>0.0</td>\n",
       "      <td>0.0</td>\n",
       "      <td>1.0</td>\n",
       "      <td>...</td>\n",
       "      <td>1106.04</td>\n",
       "      <td>26.3</td>\n",
       "      <td>17.0</td>\n",
       "      <td>0.0</td>\n",
       "      <td>6262.0</td>\n",
       "      <td>19149.0</td>\n",
       "      <td>0.0</td>\n",
       "      <td>0.0</td>\n",
       "      <td>0.326997</td>\n",
       "      <td>0.313993</td>\n",
       "    </tr>\n",
       "    <tr>\n",
       "      <th>2</th>\n",
       "      <td>1.0</td>\n",
       "      <td>0.0</td>\n",
       "      <td>0.0</td>\n",
       "      <td>0.0</td>\n",
       "      <td>0.0</td>\n",
       "      <td>1.0</td>\n",
       "      <td>0.0</td>\n",
       "      <td>0.0</td>\n",
       "      <td>0.0</td>\n",
       "      <td>0.0</td>\n",
       "      <td>...</td>\n",
       "      <td>1321.85</td>\n",
       "      <td>28.8</td>\n",
       "      <td>5.0</td>\n",
       "      <td>0.0</td>\n",
       "      <td>20967.0</td>\n",
       "      <td>28335.0</td>\n",
       "      <td>0.0</td>\n",
       "      <td>0.0</td>\n",
       "      <td>0.739942</td>\n",
       "      <td>0.175998</td>\n",
       "    </tr>\n",
       "    <tr>\n",
       "      <th>3</th>\n",
       "      <td>1.0</td>\n",
       "      <td>1.0</td>\n",
       "      <td>0.0</td>\n",
       "      <td>0.0</td>\n",
       "      <td>0.0</td>\n",
       "      <td>1.0</td>\n",
       "      <td>0.0</td>\n",
       "      <td>0.0</td>\n",
       "      <td>0.0</td>\n",
       "      <td>0.0</td>\n",
       "      <td>...</td>\n",
       "      <td>751.92</td>\n",
       "      <td>26.2</td>\n",
       "      <td>9.0</td>\n",
       "      <td>0.0</td>\n",
       "      <td>22529.0</td>\n",
       "      <td>43915.0</td>\n",
       "      <td>0.0</td>\n",
       "      <td>0.0</td>\n",
       "      <td>0.513002</td>\n",
       "      <td>0.236993</td>\n",
       "    </tr>\n",
       "    <tr>\n",
       "      <th>4</th>\n",
       "      <td>1.0</td>\n",
       "      <td>0.0</td>\n",
       "      <td>1.0</td>\n",
       "      <td>0.0</td>\n",
       "      <td>0.0</td>\n",
       "      <td>1.0</td>\n",
       "      <td>0.0</td>\n",
       "      <td>0.0</td>\n",
       "      <td>0.0</td>\n",
       "      <td>0.0</td>\n",
       "      <td>...</td>\n",
       "      <td>355.18</td>\n",
       "      <td>11.5</td>\n",
       "      <td>12.0</td>\n",
       "      <td>0.0</td>\n",
       "      <td>17391.0</td>\n",
       "      <td>37081.0</td>\n",
       "      <td>0.0</td>\n",
       "      <td>0.0</td>\n",
       "      <td>0.468988</td>\n",
       "      <td>0.085199</td>\n",
       "    </tr>\n",
       "  </tbody>\n",
       "</table>\n",
       "<p>5 rows × 26 columns</p>\n",
       "</div>"
      ],
      "text/plain": [
       "   Intercept  C(e)[T.Own Home]  C(e)[T.Rent]  C(g)[T.Buy House]  \\\n",
       "0        1.0               0.0           0.0                0.0   \n",
       "1        1.0               0.0           0.0                0.0   \n",
       "2        1.0               0.0           0.0                0.0   \n",
       "3        1.0               1.0           0.0                0.0   \n",
       "4        1.0               0.0           1.0                0.0   \n",
       "\n",
       "   C(g)[T.Buy a Car]  C(g)[T.Debt Consolidation]  \\\n",
       "0                0.0                         1.0   \n",
       "1                0.0                         0.0   \n",
       "2                0.0                         1.0   \n",
       "3                0.0                         1.0   \n",
       "4                0.0                         1.0   \n",
       "\n",
       "   C(g)[T.Educational Expenses]  C(g)[T.Home Improvements]  \\\n",
       "0                           0.0                        0.0   \n",
       "1                           0.0                        0.0   \n",
       "2                           0.0                        0.0   \n",
       "3                           0.0                        0.0   \n",
       "4                           0.0                        0.0   \n",
       "\n",
       "   C(g)[T.Medical Bills]  C(g)[T.Other]    ...           h     i     j    k  \\\n",
       "0                    0.0            0.0    ...      584.03  12.3  10.0  0.0   \n",
       "1                    0.0            1.0    ...     1106.04  26.3  17.0  0.0   \n",
       "2                    0.0            0.0    ...     1321.85  28.8   5.0  0.0   \n",
       "3                    0.0            0.0    ...      751.92  26.2   9.0  0.0   \n",
       "4                    0.0            0.0    ...      355.18  11.5  12.0  0.0   \n",
       "\n",
       "         l        m    n    o         p         q  \n",
       "0   6760.0  16056.0  0.0  0.0  0.421000  0.207994  \n",
       "1   6262.0  19149.0  0.0  0.0  0.326997  0.313993  \n",
       "2  20967.0  28335.0  0.0  0.0  0.739942  0.175998  \n",
       "3  22529.0  43915.0  0.0  0.0  0.513002  0.236993  \n",
       "4  17391.0  37081.0  0.0  0.0  0.468988  0.085199  \n",
       "\n",
       "[5 rows x 26 columns]"
      ]
     },
     "execution_count": 58,
     "metadata": {},
     "output_type": "execute_result"
    }
   ],
   "source": [
    "X.head()"
   ]
  },
  {
   "cell_type": "code",
   "execution_count": 59,
   "metadata": {
    "collapsed": false
   },
   "outputs": [
    {
     "data": {
      "text/html": [
       "<div>\n",
       "<table border=\"1\" class=\"dataframe\">\n",
       "  <thead>\n",
       "    <tr style=\"text-align: right;\">\n",
       "      <th></th>\n",
       "      <th>y</th>\n",
       "    </tr>\n",
       "  </thead>\n",
       "  <tbody>\n",
       "    <tr>\n",
       "      <th>0</th>\n",
       "      <td>1.0</td>\n",
       "    </tr>\n",
       "    <tr>\n",
       "      <th>1</th>\n",
       "      <td>1.0</td>\n",
       "    </tr>\n",
       "    <tr>\n",
       "      <th>2</th>\n",
       "      <td>1.0</td>\n",
       "    </tr>\n",
       "    <tr>\n",
       "      <th>3</th>\n",
       "      <td>1.0</td>\n",
       "    </tr>\n",
       "    <tr>\n",
       "      <th>4</th>\n",
       "      <td>1.0</td>\n",
       "    </tr>\n",
       "  </tbody>\n",
       "</table>\n",
       "</div>"
      ],
      "text/plain": [
       "     y\n",
       "0  1.0\n",
       "1  1.0\n",
       "2  1.0\n",
       "3  1.0\n",
       "4  1.0"
      ]
     },
     "execution_count": 59,
     "metadata": {},
     "output_type": "execute_result"
    }
   ],
   "source": [
    "y.head()"
   ]
  },
  {
   "cell_type": "code",
   "execution_count": 60,
   "metadata": {
    "collapsed": false
   },
   "outputs": [
    {
     "data": {
      "text/plain": [
       "((135696, 26), (135696, 1))"
      ]
     },
     "execution_count": 60,
     "metadata": {},
     "output_type": "execute_result"
    }
   ],
   "source": [
    "X.shape, y.shape"
   ]
  },
  {
   "cell_type": "markdown",
   "metadata": {
    "collapsed": true
   },
   "source": [
    "# Modeling"
   ]
  },
  {
   "cell_type": "code",
   "execution_count": 61,
   "metadata": {
    "collapsed": false
   },
   "outputs": [
    {
     "name": "stderr",
     "output_type": "stream",
     "text": [
      "//anaconda/envs/python2/lib/python2.7/site-packages/sklearn/cross_validation.py:44: DeprecationWarning: This module was deprecated in version 0.18 in favor of the model_selection module into which all the refactored classes and functions are moved. Also note that the interface of the new CV iterators are different from that of this module. This module will be removed in 0.20.\n",
      "  \"This module will be removed in 0.20.\", DeprecationWarning)\n"
     ]
    }
   ],
   "source": [
    "from sklearn.cross_validation import train_test_split\n",
    "X_train, X_test, y_train, y_test = train_test_split(X, y, train_size=0.7, random_state=0)"
   ]
  },
  {
   "cell_type": "markdown",
   "metadata": {
    "collapsed": true
   },
   "source": [
    "1. Logistic Regression"
   ]
  },
  {
   "cell_type": "code",
   "execution_count": 62,
   "metadata": {
    "collapsed": false
   },
   "outputs": [
    {
     "name": "stderr",
     "output_type": "stream",
     "text": [
      "//anaconda/envs/python2/lib/python2.7/site-packages/sklearn/utils/validation.py:526: DataConversionWarning: A column-vector y was passed when a 1d array was expected. Please change the shape of y to (n_samples, ), for example using ravel().\n",
      "  y = column_or_1d(y, warn=True)\n"
     ]
    },
    {
     "data": {
      "text/plain": [
       "0.73177921344174501"
      ]
     },
     "execution_count": 62,
     "metadata": {},
     "output_type": "execute_result"
    }
   ],
   "source": [
    "from sklearn.linear_model import LogisticRegression\n",
    "\n",
    "logreg = LogisticRegression()\n",
    "logreg.fit(X_train, y_train)\n",
    "logreg.score(X_test, y_test)"
   ]
  },
  {
   "cell_type": "code",
   "execution_count": 63,
   "metadata": {
    "collapsed": true
   },
   "outputs": [],
   "source": [
    "y_pred_loanstatus = logreg.predict(X_test)"
   ]
  },
  {
   "cell_type": "code",
   "execution_count": 64,
   "metadata": {
    "collapsed": false
   },
   "outputs": [
    {
     "name": "stdout",
     "output_type": "stream",
     "text": [
      "0.731779213442\n"
     ]
    }
   ],
   "source": [
    "from sklearn import metrics\n",
    "print metrics.accuracy_score(y_pred_loanstatus, y_test)"
   ]
  },
  {
   "cell_type": "code",
   "execution_count": 65,
   "metadata": {
    "collapsed": false
   },
   "outputs": [
    {
     "name": "stdout",
     "output_type": "stream",
     "text": [
      "             precision    recall  f1-score   support\n",
      "\n",
      "        0.0       0.01      0.51      0.01       140\n",
      "        1.0       1.00      0.73      0.84     40569\n",
      "\n",
      "avg / total       0.99      0.73      0.84     40709\n",
      "\n"
     ]
    }
   ],
   "source": [
    "report = metrics.classification_report(y_pred_loanstatus, y_test)\n",
    "print report"
   ]
  },
  {
   "cell_type": "markdown",
   "metadata": {
    "collapsed": true
   },
   "source": [
    "*Logistic Regression: accuracy score = 0.73; f1 score = 0.84"
   ]
  },
  {
   "cell_type": "markdown",
   "metadata": {},
   "source": [
    "*Drop Intercept column to fit different models"
   ]
  },
  {
   "cell_type": "code",
   "execution_count": 66,
   "metadata": {
    "collapsed": true
   },
   "outputs": [],
   "source": [
    "X = X.drop(['Intercept'], axis = 1)"
   ]
  },
  {
   "cell_type": "code",
   "execution_count": 67,
   "metadata": {
    "collapsed": false
   },
   "outputs": [],
   "source": [
    "from sklearn.cross_validation import train_test_split\n",
    "X_train, X_test, y_train, y_test = train_test_split(X, y, train_size = 0.7, random_state = 0)"
   ]
  },
  {
   "cell_type": "markdown",
   "metadata": {
    "collapsed": true
   },
   "source": [
    " 2.. Random Forest Classifier"
   ]
  },
  {
   "cell_type": "markdown",
   "metadata": {},
   "source": [
    "*Let's take a look at shapes of X, y, X_train, y_train, X_test, y_test"
   ]
  },
  {
   "cell_type": "code",
   "execution_count": 68,
   "metadata": {
    "collapsed": false
   },
   "outputs": [
    {
     "data": {
      "text/plain": [
       "((135696, 25), (135696, 1))"
      ]
     },
     "execution_count": 68,
     "metadata": {},
     "output_type": "execute_result"
    }
   ],
   "source": [
    "X.shape, y.shape"
   ]
  },
  {
   "cell_type": "code",
   "execution_count": 69,
   "metadata": {
    "collapsed": false
   },
   "outputs": [
    {
     "data": {
      "text/plain": [
       "((94987, 25), (94987, 1))"
      ]
     },
     "execution_count": 69,
     "metadata": {},
     "output_type": "execute_result"
    }
   ],
   "source": [
    "X_train.shape, y_train.shape"
   ]
  },
  {
   "cell_type": "code",
   "execution_count": 70,
   "metadata": {
    "collapsed": false
   },
   "outputs": [
    {
     "data": {
      "text/plain": [
       "((40709, 25), (40709, 1))"
      ]
     },
     "execution_count": 70,
     "metadata": {},
     "output_type": "execute_result"
    }
   ],
   "source": [
    "X_test.shape, y_test.shape"
   ]
  },
  {
   "cell_type": "markdown",
   "metadata": {},
   "source": [
    "*1st method: GridSearchCV"
   ]
  },
  {
   "cell_type": "markdown",
   "metadata": {},
   "source": [
    "*Converting y_train to array"
   ]
  },
  {
   "cell_type": "code",
   "execution_count": 71,
   "metadata": {
    "collapsed": true
   },
   "outputs": [],
   "source": [
    "y_train = np.ravel(y_train)"
   ]
  },
  {
   "cell_type": "code",
   "execution_count": 72,
   "metadata": {
    "collapsed": false
   },
   "outputs": [
    {
     "data": {
      "text/plain": [
       "(94987,)"
      ]
     },
     "execution_count": 72,
     "metadata": {},
     "output_type": "execute_result"
    }
   ],
   "source": [
    "y_train.shape "
   ]
  },
  {
   "cell_type": "code",
   "execution_count": 73,
   "metadata": {
    "collapsed": false
   },
   "outputs": [
    {
     "name": "stderr",
     "output_type": "stream",
     "text": [
      "//anaconda/envs/python2/lib/python2.7/site-packages/sklearn/grid_search.py:43: DeprecationWarning: This module was deprecated in version 0.18 in favor of the model_selection module into which all the refactored classes and functions are moved. This module will be removed in 0.20.\n",
      "  DeprecationWarning)\n"
     ]
    },
    {
     "name": "stdout",
     "output_type": "stream",
     "text": [
      "{'max_features': 5, 'min_samples_split': 2, 'n_estimators': 200, 'max_depth': 10}\n",
      "0.735269036816\n",
      "RandomForestClassifier(bootstrap=True, class_weight=None, criterion='gini',\n",
      "            max_depth=10, max_features=5, max_leaf_nodes=None,\n",
      "            min_impurity_split=1e-07, min_samples_leaf=1,\n",
      "            min_samples_split=2, min_weight_fraction_leaf=0.0,\n",
      "            n_estimators=200, n_jobs=1, oob_score=False, random_state=None,\n",
      "            verbose=0, warm_start=False)\n"
     ]
    }
   ],
   "source": [
    "from sklearn.grid_search import GridSearchCV\n",
    "from sklearn.ensemble import RandomForestClassifier\n",
    "\n",
    "rfc = RandomForestClassifier()\n",
    "\n",
    "param_grid = {\"n_estimators\": [100, 200, 300],\n",
    "              \"max_features\": [3, 5],\n",
    "              \"max_depth\": [10, 20],\n",
    "              \"min_samples_split\": [2, 4]}\n",
    "\n",
    "grid_search = GridSearchCV(estimator=rfc, param_grid=param_grid, n_jobs=-1, cv=2)\n",
    "grid_search.fit(X_train, y_train)\n",
    "print grid_search.best_params_\n",
    "print grid_search.best_score_\n",
    "print grid_search.best_estimator_"
   ]
  },
  {
   "cell_type": "markdown",
   "metadata": {},
   "source": [
    "*Now, we can put \"best\" parameters into random forest classifier;   \n",
    "*Fitting in training, scoring in testing"
   ]
  },
  {
   "cell_type": "code",
   "execution_count": 74,
   "metadata": {
    "collapsed": false
   },
   "outputs": [
    {
     "data": {
      "text/plain": [
       "0.73988552899850157"
      ]
     },
     "execution_count": 74,
     "metadata": {},
     "output_type": "execute_result"
    }
   ],
   "source": [
    "rfc = RandomForestClassifier(max_features= 5, min_samples_split= 2, n_estimators= 100, max_depth= 10)\n",
    "\n",
    "rfc.fit(X_train, y_train)\n",
    "rfc.score(X_test, y_test)"
   ]
  },
  {
   "cell_type": "markdown",
   "metadata": {},
   "source": [
    "*Prediting in X_test"
   ]
  },
  {
   "cell_type": "code",
   "execution_count": 75,
   "metadata": {
    "collapsed": true
   },
   "outputs": [],
   "source": [
    "y_pred_loanstatus= rfc.predict(X_test)"
   ]
  },
  {
   "cell_type": "code",
   "execution_count": 76,
   "metadata": {
    "collapsed": false
   },
   "outputs": [
    {
     "name": "stdout",
     "output_type": "stream",
     "text": [
      "0.739885528999\n"
     ]
    }
   ],
   "source": [
    "from sklearn import metrics\n",
    "print metrics.accuracy_score(y_pred_loanstatus, y_test)"
   ]
  },
  {
   "cell_type": "code",
   "execution_count": 77,
   "metadata": {
    "collapsed": false
   },
   "outputs": [
    {
     "name": "stdout",
     "output_type": "stream",
     "text": [
      "             precision    recall  f1-score   support\n",
      "\n",
      "        0.0       0.13      0.57      0.21      2480\n",
      "        1.0       0.96      0.75      0.84     38229\n",
      "\n",
      "avg / total       0.91      0.74      0.81     40709\n",
      "\n"
     ]
    }
   ],
   "source": [
    "report = metrics.classification_report(y_pred_loanstatus, y_test)\n",
    "print report"
   ]
  },
  {
   "cell_type": "markdown",
   "metadata": {},
   "source": [
    "*Logistic Regression (1st method): accuracy score = 0.74; f1 score = 0.81"
   ]
  },
  {
   "cell_type": "markdown",
   "metadata": {
    "collapsed": true
   },
   "source": [
    "*2nd method: GridSearchCV using make_classification; use n_samples = total rows from df (135696), #n_features as number of total columns (26)"
   ]
  },
  {
   "cell_type": "code",
   "execution_count": 96,
   "metadata": {
    "collapsed": false
   },
   "outputs": [
    {
     "name": "stdout",
     "output_type": "stream",
     "text": [
      "{'max_features': 'log2', 'n_estimators': 300}\n",
      "0.733237179825\n",
      "RandomForestClassifier(bootstrap=True, class_weight=None, criterion='gini',\n",
      "            max_depth=None, max_features='log2', max_leaf_nodes=None,\n",
      "            min_impurity_split=1e-07, min_samples_leaf=1,\n",
      "            min_samples_split=2, min_weight_fraction_leaf=0.0,\n",
      "            n_estimators=300, n_jobs=-1, oob_score=True, random_state=None,\n",
      "            verbose=0, warm_start=False)\n"
     ]
    }
   ],
   "source": [
    "from sklearn.grid_search import GridSearchCV\n",
    "from sklearn.datasets import make_classification\n",
    "from sklearn.ensemble import RandomForestClassifier\n",
    "\n",
    "# Build a classification task using 3 informative features\n",
    "X, y = make_classification(n_samples=135696,\n",
    "                           #n_features=26,  \n",
    "                           #n_informative=3,\n",
    "                           #n_redundant=0,\n",
    "                           #n_repeated=0,\n",
    "                           #n_classes=2,\n",
    "                           random_state=0,\n",
    "                           shuffle=False)\n",
    "\n",
    "\n",
    "rfc = RandomForestClassifier(n_jobs=-1,max_features= 'sqrt' ,n_estimators=500, oob_score = True) \n",
    "\n",
    "param_grid = {'n_estimators': [100, 200, 300],\n",
    "              'max_features': ['auto', 'sqrt', 'log2']}\n",
    "\n",
    "grid = GridSearchCV(estimator=rfc, param_grid=param_grid, cv= 2)\n",
    "grid.fit(X_train, y_train)\n",
    "print grid.best_params_\n",
    "print grid.best_score_\n",
    "print grid.best_estimator_"
   ]
  },
  {
   "cell_type": "markdown",
   "metadata": {},
   "source": [
    "*Now, we can put \"best\" parameters into random forest classifier; Fitting in training, scoring in testing"
   ]
  },
  {
   "cell_type": "code",
   "execution_count": 98,
   "metadata": {
    "collapsed": false
   },
   "outputs": [],
   "source": [
    "rfc = RandomForestClassifier(max_features= 'log2', n_estimators= 300)"
   ]
  },
  {
   "cell_type": "code",
   "execution_count": 100,
   "metadata": {
    "collapsed": false
   },
   "outputs": [
    {
     "data": {
      "text/plain": [
       "0.73887838070205603"
      ]
     },
     "execution_count": 100,
     "metadata": {},
     "output_type": "execute_result"
    }
   ],
   "source": [
    "rfc.fit(X_train, y_train)\n",
    "rfc.score(X_test, y_test)"
   ]
  },
  {
   "cell_type": "markdown",
   "metadata": {},
   "source": [
    "*Prediting in X_test"
   ]
  },
  {
   "cell_type": "code",
   "execution_count": 101,
   "metadata": {
    "collapsed": false
   },
   "outputs": [],
   "source": [
    "y_pred_loanstatus = rfc.predict(X_test)"
   ]
  },
  {
   "cell_type": "code",
   "execution_count": 102,
   "metadata": {
    "collapsed": false
   },
   "outputs": [
    {
     "name": "stdout",
     "output_type": "stream",
     "text": [
      "0.738878380702\n"
     ]
    }
   ],
   "source": [
    "from sklearn import metrics\n",
    "print metrics.accuracy_score(y_pred_loanstatus, y_test)"
   ]
  },
  {
   "cell_type": "code",
   "execution_count": 103,
   "metadata": {
    "collapsed": false,
    "scrolled": true
   },
   "outputs": [
    {
     "name": "stdout",
     "output_type": "stream",
     "text": [
      "             precision    recall  f1-score   support\n",
      "\n",
      "        0.0       0.18      0.54      0.27      3699\n",
      "        1.0       0.94      0.76      0.84     37010\n",
      "\n",
      "avg / total       0.87      0.74      0.79     40709\n",
      "\n"
     ]
    }
   ],
   "source": [
    "report = metrics.classification_report(y_pred_loanstatus, y_test)\n",
    "print report"
   ]
  },
  {
   "cell_type": "markdown",
   "metadata": {},
   "source": [
    "*Logistic Regression (2nd method): accuracy score = 0.74; f1 score = 0.79"
   ]
  },
  {
   "cell_type": "markdown",
   "metadata": {
    "collapsed": true
   },
   "source": [
    "3.. Gradient boosting - 1st method"
   ]
  },
  {
   "cell_type": "code",
   "execution_count": 90,
   "metadata": {
    "collapsed": false
   },
   "outputs": [
    {
     "data": {
      "text/plain": [
       "(94987,)"
      ]
     },
     "execution_count": 90,
     "metadata": {},
     "output_type": "execute_result"
    }
   ],
   "source": [
    "y_train.shape"
   ]
  },
  {
   "cell_type": "markdown",
   "metadata": {},
   "source": [
    "*We only need to run GridSearchCV once, so we don't have to re-run here, but we can add \"learning rate\" parameter for Gradient boosting"
   ]
  },
  {
   "cell_type": "code",
   "execution_count": 91,
   "metadata": {
    "collapsed": false
   },
   "outputs": [
    {
     "name": "stdout",
     "output_type": "stream",
     "text": [
      "{'learning_rate': 0.1}\n",
      "0.736279701433\n",
      "GradientBoostingClassifier(criterion='friedman_mse', init=None,\n",
      "              learning_rate=0.1, loss='deviance', max_depth=3,\n",
      "              max_features=None, max_leaf_nodes=None,\n",
      "              min_impurity_split=1e-07, min_samples_leaf=1,\n",
      "              min_samples_split=2, min_weight_fraction_leaf=0.0,\n",
      "              n_estimators=100, presort='auto', random_state=None,\n",
      "              subsample=1.0, verbose=0, warm_start=False)\n"
     ]
    }
   ],
   "source": [
    "from sklearn.ensemble import GradientBoostingClassifier\n",
    "\n",
    "gbc = GradientBoostingClassifier()\n",
    "\n",
    "param_grid = {\"learning_rate\": [0.1, 0.5]}\n",
    "\n",
    "grid_search = GridSearchCV(estimator=gbc, param_grid=param_grid, n_jobs=-1, cv=2)\n",
    "grid_search.fit(X_train, y_train)\n",
    "print grid_search.best_params_\n",
    "print grid_search.best_score_\n",
    "print grid_search.best_estimator_"
   ]
  },
  {
   "cell_type": "markdown",
   "metadata": {},
   "source": [
    "*Now, we can put \"best\" parameters(from previous modeling part) & adding learning rate parameter into gradient boosting classifier; Fitting in training, scoring in testing"
   ]
  },
  {
   "cell_type": "code",
   "execution_count": 92,
   "metadata": {
    "collapsed": false
   },
   "outputs": [
    {
     "data": {
      "text/plain": [
       "0.73826426588715022"
      ]
     },
     "execution_count": 92,
     "metadata": {},
     "output_type": "execute_result"
    }
   ],
   "source": [
    "gbc = GradientBoostingClassifier(max_features= 5, min_samples_split= 2, n_estimators= 100, max_depth= 10, learning_rate= 0.1)\n",
    "\n",
    "gbc.fit(X_train, y_train)\n",
    "gbc.score(X_test, y_test)"
   ]
  },
  {
   "cell_type": "markdown",
   "metadata": {},
   "source": [
    "*Prediting in X_test"
   ]
  },
  {
   "cell_type": "code",
   "execution_count": 93,
   "metadata": {
    "collapsed": true
   },
   "outputs": [],
   "source": [
    "y_pred_loanstatus= gbc.predict(X_test)"
   ]
  },
  {
   "cell_type": "code",
   "execution_count": 94,
   "metadata": {
    "collapsed": false
   },
   "outputs": [
    {
     "name": "stdout",
     "output_type": "stream",
     "text": [
      "0.738264265887\n"
     ]
    }
   ],
   "source": [
    "from sklearn import metrics\n",
    "print metrics.accuracy_score(y_pred_loanstatus, y_test)"
   ]
  },
  {
   "cell_type": "code",
   "execution_count": 95,
   "metadata": {
    "collapsed": false
   },
   "outputs": [
    {
     "name": "stdout",
     "output_type": "stream",
     "text": [
      "             precision    recall  f1-score   support\n",
      "\n",
      "        0.0       0.21      0.53      0.30      4374\n",
      "        1.0       0.93      0.76      0.84     36335\n",
      "\n",
      "avg / total       0.85      0.74      0.78     40709\n",
      "\n"
     ]
    }
   ],
   "source": [
    "report = metrics.classification_report(y_pred_loanstatus, y_test)\n",
    "print report"
   ]
  },
  {
   "cell_type": "markdown",
   "metadata": {},
   "source": [
    "*Gradient Boosting(1st method): accuracy score = 0.74; f1 score = 0.78"
   ]
  },
  {
   "cell_type": "markdown",
   "metadata": {
    "collapsed": true
   },
   "source": [
    "Gradient boosting - 2nd method:"
   ]
  },
  {
   "cell_type": "code",
   "execution_count": 104,
   "metadata": {
    "collapsed": true
   },
   "outputs": [],
   "source": [
    "gbc = GradientBoostingClassifier(max_features= 'log2', n_estimators= 300, learning_rate= 0.1)"
   ]
  },
  {
   "cell_type": "code",
   "execution_count": 105,
   "metadata": {
    "collapsed": false
   },
   "outputs": [
    {
     "data": {
      "text/plain": [
       "0.74212090692475863"
      ]
     },
     "execution_count": 105,
     "metadata": {},
     "output_type": "execute_result"
    }
   ],
   "source": [
    "gbc.fit(X_train, y_train)\n",
    "gbc.score(X_test, y_test)"
   ]
  },
  {
   "cell_type": "code",
   "execution_count": 106,
   "metadata": {
    "collapsed": true
   },
   "outputs": [],
   "source": [
    "y_pred_loanstatus= gbc.predict(X_test)"
   ]
  },
  {
   "cell_type": "code",
   "execution_count": 107,
   "metadata": {
    "collapsed": false
   },
   "outputs": [
    {
     "name": "stdout",
     "output_type": "stream",
     "text": [
      "0.742120906925\n"
     ]
    }
   ],
   "source": [
    "from sklearn import metrics\n",
    "print metrics.accuracy_score(y_pred_loanstatus, y_test)"
   ]
  },
  {
   "cell_type": "code",
   "execution_count": 108,
   "metadata": {
    "collapsed": false
   },
   "outputs": [
    {
     "name": "stdout",
     "output_type": "stream",
     "text": [
      "             precision    recall  f1-score   support\n",
      "\n",
      "        0.0       0.19      0.56      0.28      3727\n",
      "        1.0       0.94      0.76      0.84     36982\n",
      "\n",
      "avg / total       0.88      0.74      0.79     40709\n",
      "\n"
     ]
    }
   ],
   "source": [
    "report = metrics.classification_report(y_pred_loanstatus, y_test)\n",
    "print report"
   ]
  },
  {
   "cell_type": "markdown",
   "metadata": {
    "collapsed": true
   },
   "source": [
    "*Gradient Boosting(2nd method): accuracy score = 0.74; f1 score = 0.79"
   ]
  }
 ],
 "metadata": {
  "anaconda-cloud": {},
  "kernelspec": {
   "display_name": "Python [conda env:python2]",
   "language": "python",
   "name": "conda-env-python2-py"
  },
  "language_info": {
   "codemirror_mode": {
    "name": "ipython",
    "version": 2
   },
   "file_extension": ".py",
   "mimetype": "text/x-python",
   "name": "python",
   "nbconvert_exporter": "python",
   "pygments_lexer": "ipython2",
   "version": "2.7.12"
  }
 },
 "nbformat": 4,
 "nbformat_minor": 1
}
